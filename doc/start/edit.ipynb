{
 "cells": [
  {
   "cell_type": "markdown",
   "id": "robust-green",
   "metadata": {},
   "source": [
    "# JupyterLab\n",
    "\n",
    "JupyterLab est un environnement pour développer **code et documentation** dans un navigateur web.\n",
    "\n",
    "![](img/jupyterlab.png)\n",
    "\n",
    "Dans l'image ci-dessus vous pouvez voir\n",
    "- un **notebook** avec formules mathématiques\n",
    "- une **image** interactive\n",
    "- du **code** Python"
   ]
  },
  {
   "cell_type": "markdown",
   "id": "accompanied-satin",
   "metadata": {},
   "source": [
    "## Pourquoi Jupyter?\n",
    "<img src='img/jupyter_logo.png' width='100' style='float:right'>\n",
    "\n",
    "Le nom **Ju-pyt-R** fait référence au trois langages\n",
    "- Julia\n",
    "- Python\n",
    "- R\n",
    "\n",
    "Le logo représente les lunes de la planète Jupiter qui sont:\n",
    "- Io\n",
    "- Europe\n",
    "- Ganymède\n",
    "- Callisto"
   ]
  },
  {
   "cell_type": "markdown",
   "id": "hydraulic-sharp",
   "metadata": {},
   "source": [
    "## Créer un nouveau notebook\n",
    "\n",
    "- Choisissez **File > New > Notebook**\n",
    "- Choisissez un noyeau (kernel): **Python 3**\n",
    "\n",
    "Alternativement:\n",
    "\n",
    "- Cliquer sur (+)\n",
    "- Choisir dans le Launcher: **Notebook Python 3**\n",
    "\n",
    "![nb](img/start_nb.png)"
   ]
  },
  {
   "cell_type": "markdown",
   "id": "collect-dominant",
   "metadata": {},
   "source": [
    "## Une cellule vide\n",
    "\n",
    "Au début il y a une cellule vide.\n",
    "\n",
    "![](img/cell1.png)\n",
    "\n",
    "Vous notez :\n",
    "\n",
    "- la barre de sélection bleu\n",
    "- les crochets encore vides"
   ]
  },
  {
   "cell_type": "markdown",
   "id": "typical-married",
   "metadata": {},
   "source": [
    "## Evaluler une cellule\n",
    "\n",
    "Ecrivez une expression Python dans la cellule, et appuyez simultanément sur les touches **maj + retour** pour exécuter l'expression.\n",
    "\n",
    "![](img/cell2.png)\n",
    "\n",
    "Vous notez que:\n",
    "\n",
    "- le numéro de l'exécution apparait dans les crochets (1)\n",
    "- le resultat de l'expression est affiché après la cellule code\n",
    "- une nouvelle cellule vide est ajouté"
   ]
  },
  {
   "cell_type": "markdown",
   "id": "popular-bottom",
   "metadata": {},
   "source": [
    "## Evaluer de nouveau\n",
    "\n",
    "Vous pouvez ajouter une autre expression et évaluer de nouveau la cellule.\n",
    "\n",
    "![](img/cell3.png) \n",
    "\n",
    "Vous notez que:\n",
    "- le numéro de l'execution a incrémenté (2)\n",
    "- la nouvelle cellule n'est pas en mode édition (il n'y a pas de curseur)"
   ]
  },
  {
   "cell_type": "markdown",
   "id": "uniform-german",
   "metadata": {},
   "source": [
    "## Ajouter des cellules\n",
    "\n",
    "Vous pouvez ajouter des cellules \n",
    "- avec le bouton (+) ou \n",
    "- avec les raccourcis **A** et **B**.  \n",
    "\n",
    "Par rapport à la cellule active (barre bleu) vous pouvez ajouter une nouvelle cellule\n",
    "\n",
    "- **A** en-dessus (above)\n",
    "- **B** en-dessous (below)\n",
    "\n",
    "![](img/cell4.png) "
   ]
  },
  {
   "cell_type": "markdown",
   "id": "expected-private",
   "metadata": {},
   "source": [
    "## Mode edit/command\n",
    "\n",
    "Une cellule est en mode **edit** s'il y a un curseur d'insertion dans la cellule.\n",
    "\n",
    "![](img/cell5.png)\n",
    "\n",
    "Vous basculez vers le mode **command** en\n",
    "\n",
    "- cliquant en dehors de la cellule\n",
    "- en appuyant sur la touche **escape**\n",
    "\n",
    "![](img/cell6.png)\n",
    "\n",
    " \n",
    "Vous notez que:\n",
    "- la cellule est grisé\n",
    "- le cursur a disparu "
   ]
  },
  {
   "cell_type": "markdown",
   "id": "united-bulgaria",
   "metadata": {},
   "source": [
    "## Couper, copier, coller\n",
    "\n",
    "En mode **command** vous pouvez couper, copier et coller des cellules avec les raccourcis:\n",
    "    \n",
    "- **X** coupe la cellule\n",
    "- **C** copie la cellule\n",
    "- **V** colle la cellule\n",
    "\n",
    "Par exemple la cellule `'hello'` a été coupé avec la touche **X**\n",
    "\n",
    "![](img/cell7.png)\n",
    "\n",
    "et ensuite colle à la fin de la cellule `2` avec la touche **V**\n",
    "\n",
    "![](img/cell8.png)"
   ]
  },
  {
   "cell_type": "markdown",
   "id": "binding-protocol",
   "metadata": {},
   "source": [
    "## Sélection multiple\n",
    "\n",
    "Avec les touches de flèche **haut/bas** vous pouvez naviger parmis les cellules.  \n",
    "En appuyant simultanément sur la touche **maj** et **haut/bas** vous pouvez sélectionner des cellules multiples.\n",
    "\n",
    "![](img/cell9.png) \n",
    "\n",
    "La sélection multiple est utile pour couper, copier et coller multiples cellules."
   ]
  },
  {
   "cell_type": "markdown",
   "id": "sacred-garage",
   "metadata": {},
   "source": [
    "## Résultat\n",
    "\n",
    "Quand une cellule est exéculté, toutes les sexpressions sont évaluées, mais seulement le dernier résultat est affiché.\n",
    "\n",
    "![](img/cell10.png) \n",
    "\n",
    "Vous pouvez afficher toutes les valeurs en utilisant la fonction `print()`."
   ]
  },
  {
   "cell_type": "code",
   "execution_count": 3,
   "id": "dirty-colorado",
   "metadata": {},
   "outputs": [
    {
     "name": "stdout",
     "output_type": "stream",
     "text": [
      "35\n",
      "782\n",
      "0.5217391304347826\n"
     ]
    }
   ],
   "source": [
    "print(12 + 23)\n",
    "print(23 * 34)\n",
    "print(12 / 23)"
   ]
  },
  {
   "cell_type": "code",
   "execution_count": null,
   "id": "conditional-adolescent",
   "metadata": {},
   "outputs": [],
   "source": []
  }
 ],
 "metadata": {
  "kernelspec": {
   "display_name": "Python 3",
   "language": "python",
   "name": "python3"
  },
  "language_info": {
   "codemirror_mode": {
    "name": "ipython",
    "version": 3
   },
   "file_extension": ".py",
   "mimetype": "text/x-python",
   "name": "python",
   "nbconvert_exporter": "python",
   "pygments_lexer": "ipython3",
   "version": "3.7.9"
  }
 },
 "nbformat": 4,
 "nbformat_minor": 5
}
