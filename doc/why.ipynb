{
 "cells": [
  {
   "cell_type": "markdown",
   "id": "electrical-italy",
   "metadata": {},
   "source": [
    "# A quoi sert l'informatique\n",
    "\n",
    "On se pose parfois la question\n",
    "\n",
    "- pourquoi j'ai besoin de programmer\n",
    "- ça me sert à quoi ?"
   ]
  },
  {
   "cell_type": "markdown",
   "id": "continental-conservation",
   "metadata": {},
   "source": [
    "## Pourquoi Python ?\n",
    "\n",
    "Le language Python vient d'être élu **Programming language of the year 2020** par TIOBE. Cette distinction est donnée au langage de programmation qui a gagné le plus en popularité.\n",
    "\n",
    "Python est populaire en\n",
    "- data science\n",
    "- machine learning\n",
    "- web development\n",
    "\n",
    "La raison ?  \n",
    "- la **facilité** d'apprendre ce langage\n",
    "- sa **productivité**"
   ]
  },
  {
   "cell_type": "markdown",
   "id": "coordinate-gazette",
   "metadata": {},
   "source": [
    "## Ranking\n",
    "\n",
    "Python est maintenant en position 3 dans le TIOBE ranking, et dépassera bientot le langage Java.\n",
    "\n",
    "1. C\n",
    "1. Java\n",
    "1. **Python**\n",
    "1. C++\n",
    "1. C#\n",
    "\n",
    "![tiobe](img/tiobe_python.png)\n",
    "\n",
    "Source: https://www.tiobe.com/tiobe-index/\n"
   ]
  },
  {
   "cell_type": "markdown",
   "id": "express-lease",
   "metadata": {},
   "source": [
    "## Le salaire\n",
    "\n",
    "Les IT Sourcing Manager expériementés sont les professionels IT les mieux payés en Suisse.\n",
    "\n",
    "![salaire](img/salaire_it18.png)\n",
    "\n",
    "Source: [ictjournal.ch](https://www.ictjournal.ch/etudes/2020-04-02/quels-salaires-pour-quels-metiers-it-en-suisse)"
   ]
  },
  {
   "cell_type": "markdown",
   "id": "lesbian-occupation",
   "metadata": {},
   "source": [
    "## Pénurie d'informaticiens\n",
    "\n",
    "Les efforts pour lutter contre la pénurie d’informaticiens sont insuffisants, prévient l’association ICT-Formation professionnelle Suisse. Sans mesures supplémentaires, l'économie du pays connaîtra dans huit ans une pénurie de 35’800 spécialistes ICT.\n",
    "\n",
    "![it](img/penurie_it.png)\n",
    "\n",
    "Source: [ictjournal.ch](https://www.ictjournal.ch/etudes/2020-09-14/la-suisse-va-manquer-de-36000-informaticiens-dici-2028)"
   ]
  },
  {
   "cell_type": "markdown",
   "id": "solved-parameter",
   "metadata": {},
   "source": [
    "## Qui utilise Python ?\n",
    "Python est utilisé par \n",
    "- Wikipedia\n",
    "- Google\n",
    "- Facebook\n",
    "- Spotify (data analysis)\n",
    "- Netflix (data analysis)\n",
    "- YouTube\n",
    "- Instagram (Django web)\n",
    "- Dropbox\n",
    "- NASA\n",
    "- CERN"
   ]
  },
  {
   "cell_type": "code",
   "execution_count": null,
   "id": "statistical-purse",
   "metadata": {},
   "outputs": [],
   "source": []
  }
 ],
 "metadata": {
  "kernelspec": {
   "display_name": "Python 3",
   "language": "python",
   "name": "python3"
  },
  "language_info": {
   "codemirror_mode": {
    "name": "ipython",
    "version": 3
   },
   "file_extension": ".py",
   "mimetype": "text/x-python",
   "name": "python",
   "nbconvert_exporter": "python",
   "pygments_lexer": "ipython3",
   "version": "3.7.9"
  }
 },
 "nbformat": 4,
 "nbformat_minor": 5
}
