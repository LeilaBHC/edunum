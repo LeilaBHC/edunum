{
 "metadata": {
  "language_info": {
   "codemirror_mode": {
    "name": "ipython",
    "version": 3
   },
   "file_extension": ".py",
   "mimetype": "text/x-python",
   "name": "python",
   "nbconvert_exporter": "python",
   "pygments_lexer": "ipython3",
   "version": "3.7.4-final"
  },
  "orig_nbformat": 2,
  "kernelspec": {
   "name": "python3",
   "display_name": "Python 3",
   "language": "python"
  }
 },
 "nbformat": 4,
 "nbformat_minor": 2,
 "cells": [
  {
   "source": [
    "# Introduction à Python"
   ],
   "cell_type": "markdown",
   "metadata": {}
  },
  {
   "source": [
    "Pyhton est un langage de programmation qui est populaire, puissant et concis."
   ],
   "cell_type": "markdown",
   "metadata": {}
  },
  {
   "source": [
    "## Les 4 operations de base\n",
    "- addition (`+`)\n",
    "- soustraction (`-`)\n",
    "- multiplication (`*`)\n",
    "- division (`/`)"
   ],
   "cell_type": "markdown",
   "metadata": {}
  },
  {
   "cell_type": "code",
   "execution_count": 18,
   "metadata": {},
   "outputs": [
    {
     "output_type": "execute_result",
     "data": {
      "text/plain": [
       "(3, -1, 6, 0.6666666666666666)"
      ]
     },
     "metadata": {},
     "execution_count": 18
    }
   ],
   "source": [
    "1+2, 1-2, 2*3, 2/3"
   ]
  },
  {
   "source": [
    "La division entière  (`//`) et le reste, aussi appelé modulo (`%`)"
   ],
   "cell_type": "markdown",
   "metadata": {}
  },
  {
   "cell_type": "code",
   "execution_count": 14,
   "metadata": {},
   "outputs": [
    {
     "output_type": "execute_result",
     "data": {
      "text/plain": [
       "(3, 1)"
      ]
     },
     "metadata": {},
     "execution_count": 14
    }
   ],
   "source": [
    "10//3, 10%3"
   ]
  },
  {
   "source": [
    "Les paranthèses changent la priorité"
   ],
   "cell_type": "markdown",
   "metadata": {}
  },
  {
   "cell_type": "code",
   "execution_count": 15,
   "metadata": {},
   "outputs": [
    {
     "output_type": "execute_result",
     "data": {
      "text/plain": [
       "(7, 9)"
      ]
     },
     "metadata": {},
     "execution_count": 15
    }
   ],
   "source": [
    "1 + 2 * 3, (1 + 2) * 3"
   ]
  },
  {
   "source": [
    "Concatenation (`+`) et répétion (`*`)"
   ],
   "cell_type": "markdown",
   "metadata": {}
  },
  {
   "cell_type": "code",
   "execution_count": 6,
   "metadata": {},
   "outputs": [
    {
     "output_type": "execute_result",
     "data": {
      "text/plain": [
       "('bonjour', 'hahahahaha')"
      ]
     },
     "metadata": {},
     "execution_count": 6
    }
   ],
   "source": [
    "'bon' + 'jour', 'ha' * 5"
   ]
  },
  {
   "source": [
    "Addtion de nombres et concaténation de texte"
   ],
   "cell_type": "markdown",
   "metadata": {}
  },
  {
   "cell_type": "code",
   "execution_count": 10,
   "metadata": {},
   "outputs": [
    {
     "output_type": "execute_result",
     "data": {
      "text/plain": [
       "(15, '105')"
      ]
     },
     "metadata": {},
     "execution_count": 10
    }
   ],
   "source": [
    "10 + 5, '10' + '5'"
   ]
  },
  {
   "source": [
    "Multiplication de nombres et répétition de texte"
   ],
   "cell_type": "markdown",
   "metadata": {}
  },
  {
   "cell_type": "code",
   "execution_count": 16,
   "metadata": {},
   "outputs": [
    {
     "output_type": "execute_result",
     "data": {
      "text/plain": [
       "(50, '1010101010')"
      ]
     },
     "metadata": {},
     "execution_count": 16
    }
   ],
   "source": [
    "10 * 5, '10' * 5"
   ]
  },
  {
   "source": [
    "## Boucles"
   ],
   "cell_type": "markdown",
   "metadata": {}
  },
  {
   "source": [
    "for i in range(5):\n",
    "    print(i, i**2)"
   ],
   "cell_type": "code",
   "metadata": {},
   "execution_count": 20,
   "outputs": [
    {
     "output_type": "stream",
     "name": "stdout",
     "text": [
      "0 0\n1 1\n2 4\n3 9\n4 16\n"
     ]
    }
   ]
  },
  {
   "cell_type": "code",
   "execution_count": 22,
   "metadata": {},
   "outputs": [
    {
     "output_type": "stream",
     "name": "stdout",
     "text": [
      "p\ny\nt\nh\no\nn\n"
     ]
    }
   ],
   "source": [
    "for c in 'python':\n",
    "    print(c)"
   ]
  },
  {
   "cell_type": "code",
   "execution_count": 6,
   "metadata": {},
   "outputs": [
    {
     "output_type": "execute_result",
     "data": {
      "text/plain": [
       "['M', 'P']"
      ]
     },
     "metadata": {},
     "execution_count": 6
    }
   ],
   "source": [
    "[c for c in 'Monty Python' if c.isupper()]"
   ]
  },
  {
   "cell_type": "code",
   "execution_count": 2,
   "metadata": {},
   "outputs": [
    {
     "output_type": "execute_result",
     "data": {
      "text/plain": [
       "{'M': 1, 'o': 2, 'n': 2, 't': 2, 'y': 2, ' ': 1, 'P': 1, 'h': 1}"
      ]
     },
     "metadata": {},
     "execution_count": 2
    }
   ],
   "source": [
    "s = 'Monty Python'\n",
    "d = {}\n",
    "for c in s:\n",
    "    d[c] = d.get(c, 0) + 1\n",
    "d"
   ]
  },
  {
   "cell_type": "code",
   "execution_count": null,
   "metadata": {},
   "outputs": [],
   "source": []
  }
 ]
}