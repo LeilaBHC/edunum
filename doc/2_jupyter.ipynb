{
 "metadata": {
  "language_info": {
   "codemirror_mode": {
    "name": "ipython",
    "version": 3
   },
   "file_extension": ".py",
   "mimetype": "text/x-python",
   "name": "python",
   "nbconvert_exporter": "python",
   "pygments_lexer": "ipython3",
   "version": "3.7.4-final"
  },
  "orig_nbformat": 2,
  "kernelspec": {
   "name": "python3",
   "display_name": "Python 3",
   "language": "python"
  }
 },
 "nbformat": 4,
 "nbformat_minor": 2,
 "cells": [
  {
   "source": [
    "# Le notebook Jupyter\n",
    "\n",
    "Ce document est édité dans VS code.  \n",
    "Styles: *italic* **bold** `code`\n",
    "\n",
    "## heading 2\n",
    "C'est une section.\n",
    "\n",
    "### heading 3\n",
    "C'est une sous-section\n",
    "\n",
    " ## Listes\n",
    "\n",
    "- item\n",
    "- item\n",
    "\n",
    "1. item\n",
    "1. item\n",
    "\n",
    "## Blockquote\n",
    ">>>\n",
    "    blockquote\n",
    "    blockquote\n",
    ">>>\n",
    "\n",
    "## Texte littéral\n",
    "\n",
    "    x = 1\n",
    "    y = 2\n",
    "    print(x, y)"
   ],
   "cell_type": "markdown",
   "metadata": {}
  },
  {
   "source": [
    "## Commandes magiques\n",
    "Les commandes magiques permettent d'appeler certaines commandes UNIX"
   ],
   "cell_type": "markdown",
   "metadata": {}
  },
  {
   "cell_type": "code",
   "execution_count": 1,
   "metadata": {},
   "outputs": [
    {
     "output_type": "stream",
     "name": "stdout",
     "text": [
      "1_intro.ipynb   3_python.html   \u001b[34m_build\u001b[m\u001b[m/         _toc.yml\n2_plot.ipynb    3_python.ipynb  _config.yml     logo.png\n"
     ]
    }
   ],
   "source": [
    "ls"
   ]
  },
  {
   "cell_type": "code",
   "execution_count": 1,
   "metadata": {},
   "outputs": [
    {
     "output_type": "execute_result",
     "data": {
      "text/plain": [
       "'/Users/raphael/GitHub/edunum/doc'"
      ]
     },
     "metadata": {},
     "execution_count": 1
    }
   ],
   "source": [
    "pwd"
   ]
  },
  {
   "cell_type": "code",
   "execution_count": 2,
   "metadata": {},
   "outputs": [
    {
     "output_type": "stream",
     "name": "stdout",
     "text": [
      "'' was not found in history, as a file, url, nor in the user namespace.\nhello\nworld\n"
     ]
    }
   ],
   "source": [
    "%save hello.py\n",
    "print('hello')\n",
    "print('world')"
   ]
  },
  {
   "source": [
    "msg = 'hello'\n",
    "print(msg)"
   ],
   "cell_type": "code",
   "metadata": {},
   "execution_count": 3,
   "outputs": [
    {
     "output_type": "stream",
     "name": "stdout",
     "text": [
      "hello\n"
     ]
    }
   ]
  },
  {
   "source": [
    "## Images et liens\n",
    "    ![logo](logo.png)\n",
    "![logo](logo.png)\n",
    "\n",
    "    [notebook](https://jupyter-notebook.readthedocs.io)\n",
    "[notebook](https://jupyter-notebook.readthedocs.io)"
   ],
   "cell_type": "markdown",
   "metadata": {}
  },
  {
   "source": [
    "## Formules mathématiques\n",
    "\n",
    "- index `$a_2$` $a_2$\n",
    "- exposant `$a^2$` $a^2$\n",
    "- groupement `$a^{1+2}$` $a^{1+2}$\n",
    "- fraction `$\\frac{2}{x+1}$` $\\frac{2}{x+1}$\n",
    "\n",
    "Formule *display*  \n",
    "`$$\\sum_{i=0}^n {n} = 0 + 1 + 2 + ... + n$$`\n",
    "\n",
    "$$\\sum_{i=0}^n {n} = 0 + 1 + 2 + ... + n$$\n",
    "\n"
   ],
   "cell_type": "markdown",
   "metadata": {}
  },
  {
   "source": [
    "## Exemple de code\n",
    "\n",
    "```python\n",
    "print \"Hello World\"\n",
    "```\n",
    "\n",
    "```javascript\n",
    "console.log(\"Hello World\")\n",
    "```"
   ],
   "cell_type": "markdown",
   "metadata": {}
  },
  {
   "cell_type": "code",
   "execution_count": 3,
   "metadata": {},
   "outputs": [
    {
     "output_type": "stream",
     "name": "stdout",
     "text": [
      "123\n"
     ]
    }
   ],
   "source": [
    "print(123)"
   ]
  },
  {
   "source": [
    "## Tableau\n",
    "\n",
    "text\n",
    "\n",
    "| x     | not x |\n",
    "|-------|-------|\n",
    "| False | True  |\n",
    "| True  | False |"
   ],
   "cell_type": "markdown",
   "metadata": {}
  },
  {
   "source": [
    "## Charger un fichier\n",
    "\n"
   ],
   "cell_type": "markdown",
   "metadata": {}
  },
  {
   "source": [
    "%load hello.py"
   ],
   "cell_type": "code",
   "metadata": {},
   "execution_count": 30,
   "outputs": []
  },
  {
   "cell_type": "code",
   "execution_count": 22,
   "metadata": {},
   "outputs": [
    {
     "output_type": "stream",
     "name": "stdout",
     "text": [
      "hello\nworld\n"
     ]
    }
   ],
   "source": [
    "%run hello.py"
   ]
  },
  {
   "source": [
    "%pwd"
   ],
   "cell_type": "code",
   "metadata": {},
   "execution_count": 13,
   "outputs": [
    {
     "output_type": "execute_result",
     "data": {
      "text/plain": [
       "'/Users/raphael/GitHub/edunum/doc'"
      ]
     },
     "metadata": {},
     "execution_count": 13
    }
   ]
  },
  {
   "cell_type": "code",
   "execution_count": 24,
   "metadata": {},
   "outputs": [
    {
     "output_type": "display_data",
     "data": {
      "text/plain": "<IPython.core.display.HTML object>",
      "text/html": "<h1>Titre</h1>\n"
     },
     "metadata": {}
    }
   ],
   "source": [
    "%%html\n",
    "<h1>Titre</h1>"
   ]
  },
  {
   "cell_type": "code",
   "execution_count": 26,
   "metadata": {},
   "outputs": [
    {
     "output_type": "stream",
     "name": "stdout",
     "text": [
      "Writing demo.txt\n"
     ]
    }
   ],
   "source": [
    "%%file demo.txt\n",
    "some text"
   ]
  },
  {
   "cell_type": "code",
   "execution_count": 31,
   "metadata": {},
   "outputs": [
    {
     "output_type": "stream",
     "name": "stdout",
     "text": [
      "0_intro.ipynb    3_jupyter.ipynb  _toc.yml         logo.png\n1_intro.ipynb    \u001b[34m_build\u001b[m\u001b[m/          demo.txt         stinkbug.png\n2_plot.ipynb     _config.yml      hello.py\n"
     ]
    }
   ],
   "source": [
    "ls"
   ]
  },
  {
   "cell_type": "code",
   "execution_count": 32,
   "metadata": {},
   "outputs": [
    {
     "output_type": "execute_result",
     "data": {
      "text/plain": [
       "'/Users/raphael/GitHub/edunum/doc'"
      ]
     },
     "metadata": {},
     "execution_count": 32
    }
   ],
   "source": [
    "pwd"
   ]
  },
  {
   "cell_type": "code",
   "execution_count": 33,
   "metadata": {},
   "outputs": [
    {
     "output_type": "stream",
     "name": "stdout",
     "text": [
      "-rw-r--r--  1 raphael  staff       0 Jan 10 07:29 0_intro.ipynb\n-rw-r--r--  1 raphael  staff  340429 Jan 10 00:06 1_intro.ipynb\n-rw-r--r--  1 raphael  staff  370914 Jan 10 07:32 2_plot.ipynb\n-rw-r--r--@ 1 raphael  staff    6308 Jan 10 08:15 3_jupyter.ipynb\n-rw-r--r--  1 raphael  staff    2773 Jan  8 16:53 _config.yml\n-rw-r--r--  1 raphael  staff      73 Jan 10 07:37 _toc.yml\n-rw-r--r--  1 raphael  staff      10 Jan 10 08:11 demo.txt\n-rw-r--r--  1 raphael  staff      29 Jan 10 08:09 hello.py\n-rw-r--r--  1 raphael  staff   71269 Jan  8 16:53 logo.png\n-rw-r--r--@ 1 raphael  staff   60417 Jan  9 23:44 stinkbug.png\n"
     ]
    }
   ],
   "source": [
    "lf"
   ]
  },
  {
   "cell_type": "code",
   "execution_count": 38,
   "metadata": {},
   "outputs": [
    {
     "output_type": "stream",
     "name": "stdout",
     "text": [
      "Appending to demo.txt\n"
     ]
    }
   ],
   "source": [
    "%%file -a demo.txt\n",
    "append text"
   ]
  },
  {
   "cell_type": "code",
   "execution_count": 40,
   "metadata": {},
   "outputs": [
    {
     "output_type": "stream",
     "name": "stdout",
     "text": [
      "some text\nappend text\n"
     ]
    }
   ],
   "source": [
    "cat demo.txt"
   ]
  },
  {
   "cell_type": "code",
   "execution_count": null,
   "metadata": {},
   "outputs": [],
   "source": []
  }
 ]
}