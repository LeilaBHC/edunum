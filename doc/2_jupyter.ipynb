{
 "cells": [
  {
   "cell_type": "markdown",
   "metadata": {},
   "source": [
    "# Le notebook Jupyter\n",
    "\n",
    "Ce document est édité dans VS code.  \n",
    "Styles: *italic* **bold** `code`\n",
    "\n",
    "## heading 2\n",
    "C'est une section.\n",
    "\n",
    "### heading 3\n",
    "C'est une sous-section\n",
    "\n",
    " ## Listes\n",
    "\n",
    "- item\n",
    "- item\n",
    "\n",
    "1. item\n",
    "1. item\n",
    "\n",
    "## Blockquote\n",
    ">>>\n",
    "    blockquote\n",
    "    blockquote\n",
    ">>>\n",
    "\n",
    "## Texte littéral\n",
    "\n",
    "    x = 1\n",
    "    y = 2\n",
    "    print(x, y)"
   ]
  },
  {
   "cell_type": "markdown",
   "metadata": {},
   "source": [
    "## Commandes magiques\n",
    "Les commandes magiques permettent d'appeler certaines commandes UNIX"
   ]
  },
  {
   "cell_type": "code",
   "execution_count": 19,
   "metadata": {},
   "outputs": [
    {
     "name": "stdout",
     "output_type": "stream",
     "text": [
      "0_intro.md       3_plot.ipynb     demo.txt         \u001b[34mpython\u001b[m\u001b[m/\n",
      "2_jupyter.ipynb  \u001b[34m_build\u001b[m\u001b[m/          hello.py         stinkbug.png\n",
      "3_hist.ipynb     _config.yml      logo.png\n",
      "3_image.ipynb    _toc.yml         \u001b[34mplot\u001b[m\u001b[m/\n"
     ]
    }
   ],
   "source": [
    "%ls"
   ]
  },
  {
   "cell_type": "code",
   "execution_count": 1,
   "metadata": {},
   "outputs": [
    {
     "data": {
      "text/plain": [
       "'/Users/raphael/GitHub/edunum/doc'"
      ]
     },
     "execution_count": 1,
     "metadata": {},
     "output_type": "execute_result"
    }
   ],
   "source": [
    "pwd"
   ]
  },
  {
   "cell_type": "code",
   "execution_count": 2,
   "metadata": {},
   "outputs": [
    {
     "name": "stdout",
     "output_type": "stream",
     "text": [
      "'' was not found in history, as a file, url, nor in the user namespace.\n",
      "hello\n",
      "world\n"
     ]
    }
   ],
   "source": [
    "%save hello.py\n",
    "print('hello')\n",
    "print('world')"
   ]
  },
  {
   "cell_type": "code",
   "execution_count": 3,
   "metadata": {},
   "outputs": [
    {
     "name": "stdout",
     "output_type": "stream",
     "text": [
      "hello\n"
     ]
    }
   ],
   "source": [
    "msg = 'hello'\n",
    "print(msg)"
   ]
  },
  {
   "cell_type": "markdown",
   "metadata": {},
   "source": [
    "## Images et liens\n",
    "    ![logo](logo.png)\n",
    "![logo](logo.png)\n",
    "\n",
    "    [notebook](https://jupyter-notebook.readthedocs.io)\n",
    "[notebook](https://jupyter-notebook.readthedocs.io)"
   ]
  },
  {
   "cell_type": "markdown",
   "metadata": {},
   "source": [
    "## Formules mathématiques\n",
    "\n",
    "- index `$a_2$` $a_2$\n",
    "- exposant `$a^2$` $a^2$\n",
    "- groupement `$a^{1+2}$` $a^{1+2}$\n",
    "- fraction `$\\frac{2}{x+1}$` $\\frac{2}{x+1}$\n",
    "\n",
    "Formule *display*  \n",
    "`$$\\sum_{i=0}^n {n} = 0 + 1 + 2 + ... + n$$`\n",
    "\n",
    "$$\\sum_{i=0}^n {n} = 0 + 1 + 2 + ... + n$$\n",
    "\n"
   ]
  },
  {
   "cell_type": "markdown",
   "metadata": {},
   "source": [
    "## Exemple de code\n",
    "\n",
    "```python\n",
    "print \"Hello World\"\n",
    "```\n",
    "\n",
    "```javascript\n",
    "console.log(\"Hello World\")\n",
    "```"
   ]
  },
  {
   "cell_type": "code",
   "execution_count": 3,
   "metadata": {},
   "outputs": [
    {
     "name": "stdout",
     "output_type": "stream",
     "text": [
      "123\n"
     ]
    }
   ],
   "source": [
    "print(123)"
   ]
  },
  {
   "cell_type": "markdown",
   "metadata": {},
   "source": [
    "## Tableau\n",
    "\n",
    "text\n",
    "\n",
    "| x     | not x |\n",
    "|-------|-------|\n",
    "| False | True  |\n",
    "| True  | False |"
   ]
  },
  {
   "cell_type": "markdown",
   "metadata": {},
   "source": [
    "## Charger un fichier\n",
    "\n"
   ]
  },
  {
   "cell_type": "code",
   "execution_count": 30,
   "metadata": {},
   "outputs": [],
   "source": [
    "%load hello.py"
   ]
  },
  {
   "cell_type": "code",
   "execution_count": 22,
   "metadata": {},
   "outputs": [
    {
     "name": "stdout",
     "output_type": "stream",
     "text": [
      "hello\n",
      "world\n"
     ]
    }
   ],
   "source": [
    "%run hello.py"
   ]
  },
  {
   "cell_type": "code",
   "execution_count": 13,
   "metadata": {},
   "outputs": [
    {
     "data": {
      "text/plain": [
       "'/Users/raphael/GitHub/edunum/doc'"
      ]
     },
     "execution_count": 13,
     "metadata": {},
     "output_type": "execute_result"
    }
   ],
   "source": [
    "%pwd"
   ]
  },
  {
   "cell_type": "code",
   "execution_count": 24,
   "metadata": {},
   "outputs": [
    {
     "data": {
      "text/html": [
       "<h1>Titre</h1>\n"
      ],
      "text/plain": [
       "<IPython.core.display.HTML object>"
      ]
     },
     "metadata": {},
     "output_type": "display_data"
    }
   ],
   "source": [
    "%%html\n",
    "<h1>Titre</h1>"
   ]
  },
  {
   "cell_type": "code",
   "execution_count": 26,
   "metadata": {},
   "outputs": [
    {
     "name": "stdout",
     "output_type": "stream",
     "text": [
      "Writing demo.txt\n"
     ]
    }
   ],
   "source": [
    "%%file demo.txt\n",
    "some text"
   ]
  },
  {
   "cell_type": "code",
   "execution_count": 24,
   "metadata": {},
   "outputs": [
    {
     "name": "stdout",
     "output_type": "stream",
     "text": [
      "total 1904\n",
      "-rw-r--r--  1 raphael  staff      92 Jan 10 21:47 0_intro.md\n",
      "-rw-r--r--@ 1 raphael  staff   19487 Jan 11 23:58 2_jupyter.ipynb\n",
      "-rw-r--r--  1 raphael  staff   98515 Jan 11 23:13 3_hist.ipynb\n",
      "-rw-r--r--  1 raphael  staff  410720 Jan 11 22:39 3_image.ipynb\n",
      "-rw-r--r--  1 raphael  staff  281957 Jan 11 22:39 3_plot.ipynb\n",
      "drwxr-xr-x  5 raphael  staff     160 Jan 10 21:14 \u001b[34m_build\u001b[m\u001b[m/\n",
      "-rw-r--r--  1 raphael  staff    2819 Jan 11 15:36 _config.yml\n",
      "-rw-r--r--  1 raphael  staff     310 Jan 11 23:14 _toc.yml\n",
      "-rw-r--r--  1 raphael  staff      22 Jan 11 23:15 demo.txt\n",
      "-rw-r--r--  1 raphael  staff      29 Jan 10 08:09 hello.py\n",
      "-rw-r--r--  1 raphael  staff   71269 Jan  8 16:53 logo.png\n",
      "drwxr-xr-x  4 raphael  staff     128 Jan 11 20:29 \u001b[34mplot\u001b[m\u001b[m/\n",
      "drwxr-xr-x  7 raphael  staff     224 Jan 11 19:48 \u001b[34mpython\u001b[m\u001b[m/\n",
      "-rw-r--r--@ 1 raphael  staff   60417 Jan  9 23:44 stinkbug.png\n"
     ]
    }
   ],
   "source": [
    "ll"
   ]
  },
  {
   "cell_type": "code",
   "execution_count": 23,
   "metadata": {},
   "outputs": [
    {
     "data": {
      "text/plain": [
       "'/Users/raphael/GitHub/edunum/doc'"
      ]
     },
     "execution_count": 23,
     "metadata": {},
     "output_type": "execute_result"
    }
   ],
   "source": [
    "pwd"
   ]
  },
  {
   "cell_type": "code",
   "execution_count": 33,
   "metadata": {},
   "outputs": [
    {
     "name": "stdout",
     "output_type": "stream",
     "text": [
      "-rw-r--r--  1 raphael  staff       0 Jan 10 07:29 0_intro.ipynb\n",
      "-rw-r--r--  1 raphael  staff  340429 Jan 10 00:06 1_intro.ipynb\n",
      "-rw-r--r--  1 raphael  staff  370914 Jan 10 07:32 2_plot.ipynb\n",
      "-rw-r--r--@ 1 raphael  staff    6308 Jan 10 08:15 3_jupyter.ipynb\n",
      "-rw-r--r--  1 raphael  staff    2773 Jan  8 16:53 _config.yml\n",
      "-rw-r--r--  1 raphael  staff      73 Jan 10 07:37 _toc.yml\n",
      "-rw-r--r--  1 raphael  staff      10 Jan 10 08:11 demo.txt\n",
      "-rw-r--r--  1 raphael  staff      29 Jan 10 08:09 hello.py\n",
      "-rw-r--r--  1 raphael  staff   71269 Jan  8 16:53 logo.png\n",
      "-rw-r--r--@ 1 raphael  staff   60417 Jan  9 23:44 stinkbug.png\n"
     ]
    }
   ],
   "source": [
    "lf"
   ]
  },
  {
   "cell_type": "code",
   "execution_count": 25,
   "metadata": {},
   "outputs": [
    {
     "name": "stdout",
     "output_type": "stream",
     "text": [
      "Appending to demo.txt\n"
     ]
    }
   ],
   "source": [
    "%%file -a demo.txt\n",
    "append text"
   ]
  },
  {
   "cell_type": "code",
   "execution_count": 26,
   "metadata": {},
   "outputs": [
    {
     "name": "stderr",
     "output_type": "stream",
     "text": [
      "ERROR:root:Internal Python error in the inspect module.\n",
      "Below is the traceback from this internal error.\n",
      "\n"
     ]
    },
    {
     "name": "stdout",
     "output_type": "stream",
     "text": [
      "Traceback (most recent call last):\n",
      "  File \"/Users/raphael/opt/anaconda3/lib/python3.7/site-packages/IPython/core/interactiveshell.py\", line 3326, in run_code\n",
      "    exec(code_obj, self.user_global_ns, self.user_ns)\n",
      "  File \"<ipython-input-26-68b1028ef995>\", line 1, in <module>\n",
      "    get_ipython().run_line_magic('cat', 'demo.txt')\n",
      "  File \"/Users/raphael/opt/anaconda3/lib/python3.7/site-packages/IPython/core/interactiveshell.py\", line 2314, in run_line_magic\n",
      "    result = fn(*args, **kwargs)\n",
      "  File \"/Users/raphael/opt/anaconda3/lib/python3.7/site-packages/IPython/core/alias.py\", line 186, in __call__\n",
      "    self.shell.system(cmd)\n",
      "  File \"/Users/raphael/opt/anaconda3/lib/python3.7/site-packages/IPython/core/interactiveshell.py\", line 2453, in system_piped\n",
      "    self.user_ns['_exit_code'] = system(self.var_expand(cmd, depth=1))\n",
      "  File \"/Users/raphael/opt/anaconda3/lib/python3.7/site-packages/IPython/utils/_process_posix.py\", line 156, in system\n",
      "    child = pexpect.spawn(self.sh, args=['-c', cmd])  # Vanilla Pexpect\n",
      "  File \"/Users/raphael/opt/anaconda3/lib/python3.7/site-packages/pexpect/pty_spawn.py\", line 204, in __init__\n",
      "    self._spawn(command, args, preexec_fn, dimensions)\n",
      "  File \"/Users/raphael/opt/anaconda3/lib/python3.7/site-packages/pexpect/pty_spawn.py\", line 303, in _spawn\n",
      "    cwd=self.cwd, **kwargs)\n",
      "  File \"/Users/raphael/opt/anaconda3/lib/python3.7/site-packages/pexpect/pty_spawn.py\", line 314, in _spawnpty\n",
      "    return ptyprocess.PtyProcess.spawn(args, **kwargs)\n",
      "  File \"/Users/raphael/opt/anaconda3/lib/python3.7/site-packages/ptyprocess/ptyprocess.py\", line 223, in spawn\n",
      "    exec_err_pipe_read, exec_err_pipe_write = os.pipe()\n",
      "OSError: [Errno 23] Too many open files in system\n",
      "\n",
      "During handling of the above exception, another exception occurred:\n",
      "\n",
      "Traceback (most recent call last):\n",
      "  File \"/Users/raphael/opt/anaconda3/lib/python3.7/site-packages/IPython/core/interactiveshell.py\", line 2040, in showtraceback\n",
      "    stb = value._render_traceback_()\n",
      "AttributeError: 'OSError' object has no attribute '_render_traceback_'\n",
      "\n",
      "During handling of the above exception, another exception occurred:\n",
      "\n",
      "Traceback (most recent call last):\n",
      "  File \"/Users/raphael/opt/anaconda3/lib/python3.7/site-packages/IPython/core/ultratb.py\", line 1101, in get_records\n",
      "  File \"/Users/raphael/opt/anaconda3/lib/python3.7/site-packages/IPython/core/ultratb.py\", line 319, in wrapped\n",
      "  File \"/Users/raphael/opt/anaconda3/lib/python3.7/site-packages/IPython/core/ultratb.py\", line 353, in _fixed_getinnerframes\n",
      "  File \"/Users/raphael/opt/anaconda3/lib/python3.7/inspect.py\", line 1502, in getinnerframes\n",
      "  File \"/Users/raphael/opt/anaconda3/lib/python3.7/inspect.py\", line 1460, in getframeinfo\n",
      "  File \"/Users/raphael/opt/anaconda3/lib/python3.7/inspect.py\", line 696, in getsourcefile\n",
      "  File \"/Users/raphael/opt/anaconda3/lib/python3.7/inspect.py\", line 725, in getmodule\n",
      "  File \"/Users/raphael/opt/anaconda3/lib/python3.7/inspect.py\", line 709, in getabsfile\n",
      "  File \"/Users/raphael/opt/anaconda3/lib/python3.7/posixpath.py\", line 383, in abspath\n",
      "OSError: [Errno 23] Too many open files in system\n"
     ]
    },
    {
     "ename": "OSError",
     "evalue": "[Errno 23] Too many open files in system",
     "output_type": "error",
     "traceback": [
      "\u001b[0;31m---------------------------------------------------------------------------\u001b[0m"
     ]
    }
   ],
   "source": [
    "cat demo.txt"
   ]
  },
  {
   "cell_type": "markdown",
   "metadata": {},
   "source": [
    "## Widgets"
   ]
  },
  {
   "cell_type": "code",
   "execution_count": 12,
   "metadata": {},
   "outputs": [],
   "source": [
    "from ipywidgets import interact, interactive, fixed, interact_manual\n",
    "import ipywidgets as widgets"
   ]
  },
  {
   "cell_type": "code",
   "execution_count": 13,
   "metadata": {},
   "outputs": [
    {
     "data": {
      "application/vnd.jupyter.widget-view+json": {
       "model_id": "3d76b65142ea470884f65102474b844c",
       "version_major": 2,
       "version_minor": 0
      },
      "text/plain": [
       "IntSlider(value=0)"
      ]
     },
     "metadata": {},
     "output_type": "display_data"
    }
   ],
   "source": [
    "widgets.IntSlider()"
   ]
  },
  {
   "cell_type": "code",
   "execution_count": 14,
   "metadata": {},
   "outputs": [],
   "source": [
    "def f(x):\n",
    "    return x"
   ]
  },
  {
   "cell_type": "code",
   "execution_count": 15,
   "metadata": {},
   "outputs": [
    {
     "data": {
      "text/plain": [
       "10"
      ]
     },
     "metadata": {},
     "output_type": "display_data"
    }
   ],
   "source": [
    "interact(f, x=10);"
   ]
  },
  {
   "cell_type": "code",
   "execution_count": null,
   "metadata": {},
   "outputs": [],
   "source": []
  }
 ],
 "metadata": {
  "kernelspec": {
   "display_name": "Python 3",
   "language": "python",
   "name": "python3"
  },
  "language_info": {
   "codemirror_mode": {
    "name": "ipython",
    "version": 3
   },
   "file_extension": ".py",
   "mimetype": "text/x-python",
   "name": "python",
   "nbconvert_exporter": "python",
   "pygments_lexer": "ipython3",
   "version": "3.7.4"
  }
 },
 "nbformat": 4,
 "nbformat_minor": 4
}
