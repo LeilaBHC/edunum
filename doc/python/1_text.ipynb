{
 "cells": [
  {
   "cell_type": "markdown",
   "id": "abandoned-dictionary",
   "metadata": {},
   "source": [
    "# Texte (string)\n",
    "\n",
    "Un texte est une **chaine** de caractères.\n",
    "\n",
    "![typewriter](https://media.giphy.com/media/3o84sqlBujhGoXvTyM/giphy-downsized.gif)\n",
    "\n",
    "Le texte standard (ASCII code) consiste de\n",
    "- 26 lettres minuscules (`a-z`)\n",
    "- 26 lettres majuscules (`A-Z`)\n",
    "- 10 chiffres (`0-9`)\n",
    "\n",
    "ainsi que de caractères spéciaux:\n",
    "- ponctuation (`.,;:?!`)\n",
    "- délimiteurs (`(){}[]<>\"'`)\n",
    "- symboles (`$%&`)\n",
    "- opérateurs (`+-*/`)"
   ]
  },
  {
   "cell_type": "markdown",
   "id": "amended-spyware",
   "metadata": {},
   "source": [
    "## Concepts\n",
    "\n",
    "Les concepts présentés dans ce chapitre sont\n",
    "\n",
    "- création de string `s = 'hello'`\n",
    "- délimitation par un guillemet simple `'` ou double `\"`\n",
    "- caractère d'échappement `\\`\n",
    "\n",
    "Les indexages\n",
    "- index simple `s[i]` pour accéder à un seul caractère\n",
    "- tranche `s[m:n]` pour accéder à une sous-chaine\n",
    "- tranche `s[::i]` avec incrément (2) et chaine inversée (-1)\n",
    "\n",
    "Les fonctions\n",
    "- `len()` pour retourner la longueur\n",
    "- `str()` pour transformer nombre en chaine\n",
    "- `int()` pour transformer chaine en nombre\n",
    "\n",
    "Les opérateurs\n",
    "- `+` de concaténation\n",
    "- `*` de répétition "
   ]
  },
  {
   "cell_type": "markdown",
   "id": "sound-pearl",
   "metadata": {},
   "source": [
    "## Délimitation\n",
    "\n",
    "Une chaine de caractères est délimitée par des guillemets anglais simples `'`."
   ]
  },
  {
   "cell_type": "code",
   "execution_count": 1,
   "id": "spread-primary",
   "metadata": {},
   "outputs": [
    {
     "data": {
      "text/plain": [
       "'hello'"
      ]
     },
     "execution_count": 1,
     "metadata": {},
     "output_type": "execute_result"
    }
   ],
   "source": [
    "'hello'"
   ]
  },
  {
   "cell_type": "markdown",
   "id": "first-elite",
   "metadata": {},
   "source": [
    "ou des guillemets anglais doubles  `\"`.  \n",
    "**Attention**: il ne faut pas confondre le guillemet double `\"` (1 caractère) avec deux guillemets simples `''` (2 caractères)."
   ]
  },
  {
   "cell_type": "code",
   "execution_count": 2,
   "id": "unavailable-ceiling",
   "metadata": {},
   "outputs": [
    {
     "data": {
      "text/plain": [
       "'world'"
      ]
     },
     "execution_count": 2,
     "metadata": {},
     "output_type": "execute_result"
    }
   ],
   "source": [
    "\"world\""
   ]
  },
  {
   "cell_type": "markdown",
   "id": "other-stable",
   "metadata": {},
   "source": [
    "Si le texte contient déjà un guillemet simple (apostrophe), on entoure le texte avec des guillemets doubles."
   ]
  },
  {
   "cell_type": "code",
   "execution_count": 3,
   "id": "fifty-yukon",
   "metadata": {},
   "outputs": [
    {
     "data": {
      "text/plain": [
       "\"c'est bien\""
      ]
     },
     "execution_count": 3,
     "metadata": {},
     "output_type": "execute_result"
    }
   ],
   "source": [
    "\"c'est bien\""
   ]
  },
  {
   "cell_type": "markdown",
   "id": "adaptive-local",
   "metadata": {},
   "source": [
    "Si une chaine contient les deux sortes de guillemets, on les précède avec une barre oblique inverse `\\` (backslash) qui est le caractère d'échappement."
   ]
  },
  {
   "cell_type": "code",
   "execution_count": 35,
   "id": "conservative-logan",
   "metadata": {},
   "outputs": [
    {
     "name": "stdout",
     "output_type": "stream",
     "text": [
      "c'est \"très\" bien\n"
     ]
    }
   ],
   "source": [
    "s = 'c\\'est \"très\" bien'\n",
    "print(s)"
   ]
  },
  {
   "cell_type": "markdown",
   "id": "verified-graph",
   "metadata": {},
   "source": [
    "## Longueur\n",
    "\n",
    "Une chaine s'appelle **string** en anglais.  \n",
    "C'est pour cela que nous utilisons souvent ``s`` comme variable pour désigner une chaine.  \n",
    "Par exemple:"
   ]
  },
  {
   "cell_type": "code",
   "execution_count": 5,
   "id": "amazing-flower",
   "metadata": {},
   "outputs": [],
   "source": [
    "s = 'Python'"
   ]
  },
  {
   "cell_type": "markdown",
   "id": "median-british",
   "metadata": {},
   "source": [
    "La fonction `len()` retourne la longueur de la chaine."
   ]
  },
  {
   "cell_type": "code",
   "execution_count": 6,
   "id": "banned-performance",
   "metadata": {},
   "outputs": [
    {
     "data": {
      "text/plain": [
       "6"
      ]
     },
     "execution_count": 6,
     "metadata": {},
     "output_type": "execute_result"
    }
   ],
   "source": [
    "len(s)"
   ]
  },
  {
   "cell_type": "markdown",
   "id": "expanded-former",
   "metadata": {},
   "source": [
    "## Index\n",
    "Chaque caractère d'une chaine peut être accédé par son index.  \n",
    "Un index est un nombre entier, commençant avec 0 pour le premier caractère.\n",
    "\n",
    "Voici la première et deuxième lettre du texte `s`"
   ]
  },
  {
   "cell_type": "code",
   "execution_count": 7,
   "id": "developing-practitioner",
   "metadata": {},
   "outputs": [
    {
     "data": {
      "text/plain": [
       "('P', 'y')"
      ]
     },
     "execution_count": 7,
     "metadata": {},
     "output_type": "execute_result"
    }
   ],
   "source": [
    "s[0], s[1]"
   ]
  },
  {
   "cell_type": "markdown",
   "id": "phantom-apartment",
   "metadata": {},
   "source": [
    "Un index négatif permet d'accéder à une chaine depuis sa fin.\n",
    "Voici la dernière et avant-dernière lettre du string `s`."
   ]
  },
  {
   "cell_type": "code",
   "execution_count": 8,
   "id": "brown-announcement",
   "metadata": {},
   "outputs": [
    {
     "data": {
      "text/plain": [
       "('n', 'o')"
      ]
     },
     "execution_count": 8,
     "metadata": {},
     "output_type": "execute_result"
    }
   ],
   "source": [
    "s[-1], s[-2]"
   ]
  },
  {
   "cell_type": "markdown",
   "id": "southeast-parker",
   "metadata": {},
   "source": [
    "## Tranche\n",
    "Une tranche est un sous-ensemble d'une chaine indiqué par indice de la forme `[m:n]`.  \n",
    "Elle retourne la sous-chaine avec les caractères qui ont un indice m à n-1.\n",
    "\n",
    "Voici la sous-chaine avec les indices 0, 1, et 2."
   ]
  },
  {
   "cell_type": "code",
   "execution_count": 9,
   "id": "accredited-spyware",
   "metadata": {},
   "outputs": [
    {
     "data": {
      "text/plain": [
       "'Pyt'"
      ]
     },
     "execution_count": 9,
     "metadata": {},
     "output_type": "execute_result"
    }
   ],
   "source": [
    "s[:3]"
   ]
  },
  {
   "cell_type": "markdown",
   "id": "powerful-lyric",
   "metadata": {},
   "source": [
    "Voici la sous-chaine avec les indices 2 et 3."
   ]
  },
  {
   "cell_type": "code",
   "execution_count": 10,
   "id": "going-america",
   "metadata": {},
   "outputs": [
    {
     "data": {
      "text/plain": [
       "'th'"
      ]
     },
     "execution_count": 10,
     "metadata": {},
     "output_type": "execute_result"
    }
   ],
   "source": [
    "s[2:4]"
   ]
  },
  {
   "cell_type": "markdown",
   "id": "expressed-mississippi",
   "metadata": {},
   "source": [
    "Voici la sous-chaine avec les indices 3, 4 et 5."
   ]
  },
  {
   "cell_type": "code",
   "execution_count": 11,
   "id": "novel-mobility",
   "metadata": {},
   "outputs": [
    {
     "data": {
      "text/plain": [
       "'hon'"
      ]
     },
     "execution_count": 11,
     "metadata": {},
     "output_type": "execute_result"
    }
   ],
   "source": [
    "s[3:]"
   ]
  },
  {
   "cell_type": "markdown",
   "id": "consistent-practitioner",
   "metadata": {},
   "source": [
    "Un troisième paramètre peut donner l'**incrément**.  \n",
    "Voici la chaine avec les lettres 0, 2, et 4 (à cause de l'incrément 2)."
   ]
  },
  {
   "cell_type": "code",
   "execution_count": 12,
   "id": "failing-summit",
   "metadata": {},
   "outputs": [
    {
     "data": {
      "text/plain": [
       "'Pto'"
      ]
     },
     "execution_count": 12,
     "metadata": {},
     "output_type": "execute_result"
    }
   ],
   "source": [
    "s[::2]"
   ]
  },
  {
   "cell_type": "markdown",
   "id": "tracked-chile",
   "metadata": {},
   "source": [
    "Un incrément négatif (-1) **inverse** la chaine."
   ]
  },
  {
   "cell_type": "code",
   "execution_count": 13,
   "id": "lesbian-january",
   "metadata": {},
   "outputs": [
    {
     "data": {
      "text/plain": [
       "'nohtyP'"
      ]
     },
     "execution_count": 13,
     "metadata": {},
     "output_type": "execute_result"
    }
   ],
   "source": [
    "s[::-1]"
   ]
  },
  {
   "cell_type": "markdown",
   "id": "steady-loading",
   "metadata": {},
   "source": [
    "## Une chaine est immuable\n",
    "\n",
    "Contrairement à une liste, une chaine est **immuable**.  \n",
    "Essayer de réaffecter une lettre, donne une erreur.\n",
    "\n",
    "    s[0] = 'J'\n",
    "    TypeError: 'str' object does not support item assignment\n",
    "    \n",
    "Par contre c'est possible de créer une nouvelle chaine.  \n",
    "Nous pouvons concaténer une lettre et une tranche d'une chaine existante, pour en former une nouvelle chaine."
   ]
  },
  {
   "cell_type": "code",
   "execution_count": 14,
   "id": "medical-terry",
   "metadata": {},
   "outputs": [
    {
     "data": {
      "text/plain": [
       "'Jython'"
      ]
     },
     "execution_count": 14,
     "metadata": {},
     "output_type": "execute_result"
    }
   ],
   "source": [
    "'J' + s[1:]"
   ]
  },
  {
   "cell_type": "markdown",
   "id": "little-worship",
   "metadata": {},
   "source": [
    "## Opérateur de concaténation\n",
    "\n",
    "L'opérateur `+` permet de concaténer (enchainer) deux textes."
   ]
  },
  {
   "cell_type": "code",
   "execution_count": 15,
   "id": "criminal-creator",
   "metadata": {},
   "outputs": [],
   "source": [
    "a = 'hello'\n",
    "b = 'world'"
   ]
  },
  {
   "cell_type": "markdown",
   "id": "regulation-exploration",
   "metadata": {},
   "source": [
    "La concaténation donne"
   ]
  },
  {
   "cell_type": "code",
   "execution_count": 16,
   "id": "original-stamp",
   "metadata": {},
   "outputs": [
    {
     "data": {
      "text/plain": [
       "'helloworld'"
      ]
     },
     "execution_count": 16,
     "metadata": {},
     "output_type": "execute_result"
    }
   ],
   "source": [
    "a + b"
   ]
  },
  {
   "cell_type": "markdown",
   "id": "retained-vocabulary",
   "metadata": {},
   "source": [
    "Nous pouvons ajouter une espace au milieu."
   ]
  },
  {
   "cell_type": "code",
   "execution_count": 17,
   "id": "military-silver",
   "metadata": {},
   "outputs": [
    {
     "data": {
      "text/plain": [
       "'hello world'"
      ]
     },
     "execution_count": 17,
     "metadata": {},
     "output_type": "execute_result"
    }
   ],
   "source": [
    "a + ' ' + b"
   ]
  },
  {
   "cell_type": "markdown",
   "id": "foreign-gates",
   "metadata": {},
   "source": [
    "Nous pouvons ajouter un retour à la ligne (`\\n`) au milieu."
   ]
  },
  {
   "cell_type": "code",
   "execution_count": 18,
   "id": "apart-graduate",
   "metadata": {},
   "outputs": [
    {
     "name": "stdout",
     "output_type": "stream",
     "text": [
      "hello\n",
      "world\n"
     ]
    }
   ],
   "source": [
    "print(a + '\\n' + b)"
   ]
  },
  {
   "cell_type": "markdown",
   "id": "spanish-bracket",
   "metadata": {},
   "source": [
    "## Opérateur de répétition\n",
    "\n",
    "L'opérateur `*` permet de répéter un texte."
   ]
  },
  {
   "cell_type": "code",
   "execution_count": 19,
   "id": "attended-austria",
   "metadata": {},
   "outputs": [
    {
     "data": {
      "text/plain": [
       "'hihihihihihihihihihihihihihihihihihihihi'"
      ]
     },
     "execution_count": 19,
     "metadata": {},
     "output_type": "execute_result"
    }
   ],
   "source": [
    "'hi' * 20"
   ]
  },
  {
   "cell_type": "code",
   "execution_count": 20,
   "id": "entertaining-reporter",
   "metadata": {},
   "outputs": [
    {
     "data": {
      "text/plain": [
       "'hellohellohellohellohello'"
      ]
     },
     "execution_count": 20,
     "metadata": {},
     "output_type": "execute_result"
    }
   ],
   "source": [
    "a * 5"
   ]
  },
  {
   "cell_type": "markdown",
   "id": "instructional-therapist",
   "metadata": {},
   "source": [
    "Maintenant, l'opérateur `*` signifie la multiplication"
   ]
  },
  {
   "cell_type": "code",
   "execution_count": 21,
   "id": "durable-czech",
   "metadata": {},
   "outputs": [
    {
     "data": {
      "text/plain": [
       "144"
      ]
     },
     "execution_count": 21,
     "metadata": {},
     "output_type": "execute_result"
    }
   ],
   "source": [
    "12 * 12"
   ]
  },
  {
   "cell_type": "markdown",
   "id": "historic-judges",
   "metadata": {},
   "source": [
    "Nous pouvons utiliser des parenthèses pour fixer la priorité."
   ]
  },
  {
   "cell_type": "code",
   "execution_count": 22,
   "id": "important-soviet",
   "metadata": {},
   "outputs": [
    {
     "data": {
      "text/plain": [
       "'hello hello hello hello hello '"
      ]
     },
     "execution_count": 22,
     "metadata": {},
     "output_type": "execute_result"
    }
   ],
   "source": [
    "(a + ' ') * 5"
   ]
  },
  {
   "cell_type": "markdown",
   "id": "utility-spray",
   "metadata": {},
   "source": [
    "## Caractère d'échappement\n",
    "En informatique et en télécommunication, un caractère d'échappement est un caractère qui déclenche une interprétation alternative du ou des caractères qui le suivent. En Python nous avons la **barre oblique inversée** comme caractère d'échappement.\n",
    "\n",
    "- `\\n` pour un retour à la ligne (=newline)\n",
    "- `\\t` pour un tabulateur\n",
    "- `\\\\` pour échapper le caractère d'échappement.\n",
    "- `\\'` pour un guillemet simple\n",
    "- `\\\"` pour un guillemet double\n",
    "\n",
    "Le tabulateur aligne un texte à des multiples de 8."
   ]
  },
  {
   "cell_type": "code",
   "execution_count": 23,
   "id": "northern-anchor",
   "metadata": {},
   "outputs": [
    {
     "name": "stdout",
     "output_type": "stream",
     "text": [
      "hello\tworld\n",
      "1\t2\n"
     ]
    }
   ],
   "source": [
    "print('hello\\tworld')\n",
    "print('1\\t2')"
   ]
  },
  {
   "cell_type": "markdown",
   "id": "liberal-ability",
   "metadata": {},
   "source": [
    "Le `\\n` (newline) insère un retour à la ligne."
   ]
  },
  {
   "cell_type": "code",
   "execution_count": 24,
   "id": "cordless-facility",
   "metadata": {},
   "outputs": [
    {
     "name": "stdout",
     "output_type": "stream",
     "text": [
      "hello\n",
      "world\n"
     ]
    }
   ],
   "source": [
    "print('hello\\nworld')"
   ]
  },
  {
   "cell_type": "markdown",
   "id": "exposed-definition",
   "metadata": {},
   "source": [
    "La première et la troisième barre oblique sont échappées."
   ]
  },
  {
   "cell_type": "code",
   "execution_count": 25,
   "id": "contemporary-sunset",
   "metadata": {},
   "outputs": [
    {
     "name": "stdout",
     "output_type": "stream",
     "text": [
      "tab=\\t \tnewline=\\n\n",
      "1\t2\n"
     ]
    }
   ],
   "source": [
    "print('tab=\\\\t \\tnewline=\\\\n\\n1\\t2')"
   ]
  },
  {
   "cell_type": "markdown",
   "id": "raised-nickname",
   "metadata": {},
   "source": [
    "## Unicode\n",
    "\n",
    "Les chaines de caractères utilisent Unicode. Le format **Unicode** permet de créer des caractères et alphabets de presque toutes les langues du monde.\n",
    "\n",
    "Voici une chaine en japonais avec une sous-tranche."
   ]
  },
  {
   "cell_type": "code",
   "execution_count": 34,
   "id": "parallel-money",
   "metadata": {},
   "outputs": [
    {
     "data": {
      "text/plain": [
       "'日本語'"
      ]
     },
     "execution_count": 34,
     "metadata": {},
     "output_type": "execute_result"
    }
   ],
   "source": [
    "jap = 'これは日本語です'  # kore wa nihongo desu\n",
    "jap[3:6]               # nihongo"
   ]
  },
  {
   "cell_type": "markdown",
   "id": "casual-white",
   "metadata": {},
   "source": [
    "Voici une chaine qui utilise des émojis."
   ]
  },
  {
   "cell_type": "code",
   "execution_count": 27,
   "id": "federal-monaco",
   "metadata": {},
   "outputs": [],
   "source": [
    "emoji = '🍏🍎🍐🍊🍋🍌🍉🍇🍓'"
   ]
  },
  {
   "cell_type": "markdown",
   "id": "standard-venice",
   "metadata": {},
   "source": [
    "Voici deux émojis répétés 10 fois."
   ]
  },
  {
   "cell_type": "code",
   "execution_count": 28,
   "id": "major-universal",
   "metadata": {},
   "outputs": [
    {
     "data": {
      "text/plain": [
       "'🍎🍏🍎🍏🍎🍏🍎🍏🍎🍏🍎🍏🍎🍏🍎🍏🍎🍏🍎🍏'"
      ]
     },
     "execution_count": 28,
     "metadata": {},
     "output_type": "execute_result"
    }
   ],
   "source": [
    "'🍎🍏' * 10"
   ]
  },
  {
   "cell_type": "markdown",
   "id": "minimal-england",
   "metadata": {},
   "source": [
    "## Type d'un objet"
   ]
  },
  {
   "cell_type": "markdown",
   "id": "modified-charity",
   "metadata": {},
   "source": [
    "La fonction `type()` retourne le type d'un objet.  \n",
    "Le type d'une chaine est `str` (=string)."
   ]
  },
  {
   "cell_type": "code",
   "execution_count": 29,
   "id": "democratic-rabbit",
   "metadata": {},
   "outputs": [
    {
     "data": {
      "text/plain": [
       "str"
      ]
     },
     "execution_count": 29,
     "metadata": {},
     "output_type": "execute_result"
    }
   ],
   "source": [
    "type('abc')"
   ]
  },
  {
   "cell_type": "markdown",
   "id": "consolidated-search",
   "metadata": {},
   "source": [
    "Voici trois autres types:\n",
    "- `int` (entier)\n",
    "- `float` (virgule flottante\n",
    "- `bool` (booléen)"
   ]
  },
  {
   "cell_type": "code",
   "execution_count": 30,
   "id": "ranging-convenience",
   "metadata": {},
   "outputs": [
    {
     "data": {
      "text/plain": [
       "(int, float, bool)"
      ]
     },
     "execution_count": 30,
     "metadata": {},
     "output_type": "execute_result"
    }
   ],
   "source": [
    "type(1), type(1.2), type(True)"
   ]
  },
  {
   "cell_type": "markdown",
   "id": "intelligent-disco",
   "metadata": {},
   "source": [
    "## Conversion"
   ]
  },
  {
   "cell_type": "markdown",
   "id": "plastic-relaxation",
   "metadata": {},
   "source": [
    "Un nombre peut être présenté comme chaine.  \n",
    "L'opérateur `*` signifie alors la répétition."
   ]
  },
  {
   "cell_type": "code",
   "execution_count": 31,
   "id": "played-reaction",
   "metadata": {},
   "outputs": [
    {
     "data": {
      "text/plain": [
       "'121212121212121212121212'"
      ]
     },
     "execution_count": 31,
     "metadata": {},
     "output_type": "execute_result"
    }
   ],
   "source": [
    "'12' * 12"
   ]
  },
  {
   "cell_type": "markdown",
   "id": "abandoned-primary",
   "metadata": {},
   "source": [
    "Maintenant, l'opérateur `*` signifie la multiplication"
   ]
  },
  {
   "cell_type": "code",
   "execution_count": 32,
   "id": "military-buddy",
   "metadata": {},
   "outputs": [
    {
     "data": {
      "text/plain": [
       "144"
      ]
     },
     "execution_count": 32,
     "metadata": {},
     "output_type": "execute_result"
    }
   ],
   "source": [
    "12 * 12"
   ]
  },
  {
   "cell_type": "markdown",
   "id": "educated-rough",
   "metadata": {},
   "source": [
    "La fonction `int()` transforme une chaine (qui représente un entier) en entier."
   ]
  },
  {
   "cell_type": "code",
   "execution_count": 33,
   "id": "right-eclipse",
   "metadata": {},
   "outputs": [
    {
     "data": {
      "text/plain": [
       "12"
      ]
     },
     "execution_count": 33,
     "metadata": {},
     "output_type": "execute_result"
    }
   ],
   "source": [
    "int('12')"
   ]
  },
  {
   "cell_type": "markdown",
   "id": "ancient-stylus",
   "metadata": {},
   "source": [
    "L'opérateur inverse `str()` transforme un nombre en string."
   ]
  },
  {
   "cell_type": "code",
   "execution_count": 34,
   "id": "bizarre-sterling",
   "metadata": {},
   "outputs": [
    {
     "data": {
      "text/plain": [
       "'123'"
      ]
     },
     "execution_count": 34,
     "metadata": {},
     "output_type": "execute_result"
    }
   ],
   "source": [
    "str(123)"
   ]
  },
  {
   "cell_type": "code",
   "execution_count": null,
   "id": "rotary-banner",
   "metadata": {},
   "outputs": [],
   "source": []
  }
 ],
 "metadata": {
  "kernelspec": {
   "display_name": "Python 3",
   "language": "python",
   "name": "python3"
  },
  "language_info": {
   "codemirror_mode": {
    "name": "ipython",
    "version": 3
   },
   "file_extension": ".py",
   "mimetype": "text/x-python",
   "name": "python",
   "nbconvert_exporter": "python",
   "pygments_lexer": "ipython3",
   "version": "3.7.9"
  },
  "toc-autonumbering": false
 },
 "nbformat": 4,
 "nbformat_minor": 5
}
