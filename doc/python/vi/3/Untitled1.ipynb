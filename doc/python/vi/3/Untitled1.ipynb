{
 "cells": [
  {
   "cell_type": "markdown",
   "metadata": {},
   "source": [
    "# Rappels"
   ]
  },
  {
   "cell_type": "markdown",
   "metadata": {},
   "source": [
    "## input()\n",
    "* La fonction `input``\n",
    " (entrée en français) permet d'entrer un texte\n",
    "* Elle peut avoir un texte explicatif \n",
    "* Elle s'utilise avec une variable à sa gauche qui va garder le contenu du texte entré"
   ]
  },
  {
   "cell_type": "code",
   "execution_count": 33,
   "metadata": {},
   "outputs": [
    {
     "name": "stdin",
     "output_type": "stream",
     "text": [
      "Entrez votre nom :  Toto\n"
     ]
    }
   ],
   "source": [
    "x = input(\"Entrez votre nom : \")"
   ]
  },
  {
   "cell_type": "markdown",
   "metadata": {},
   "source": [
    "## print()\n",
    "* La fonction `print` (imprimer en français) permet d'afficher ce qui se trouve dans les parenthèses\n",
    "* Elle peut afficher du texte, ou le contenu d'une variables\n",
    "* Elle peut imprimer plusieurs paramètres, séparés par des virgules\n"
   ]
  },
  {
   "cell_type": "code",
   "execution_count": 34,
   "metadata": {},
   "outputs": [
    {
     "name": "stdout",
     "output_type": "stream",
     "text": [
      "Il s'appelle :  Antoine\n"
     ]
    }
   ],
   "source": [
    "nom = 'Antoine'\n",
    "print(\"Il s'appelle : \", nom)"
   ]
  },
  {
   "cell_type": "markdown",
   "metadata": {},
   "source": [
    "## if elif else\n",
    "Un seul chemin est exécuté celui du if, du elif ou du else\n",
    "\n",
    "\n",
    "**Attention**\n",
    "* Indentation\n",
    "* les deux points"
   ]
  },
  {
   "cell_type": "markdown",
   "metadata": {},
   "source": [
    "Les fonctions `int()` et `str()`\n",
    "* `int('3')` convertit le caractère `'3'` en nombre `3` (quand c'est possible)\n",
    "* `str(3)`convertit le nombre `3 en caractèrer '3'"
   ]
  },
  {
   "cell_type": "markdown",
   "metadata": {},
   "source": [
    "## La fonction range()\n",
    "`range(n)` génère la suite de nombre 0..(n-1)\n",
    "\n",
    "\n",
    "`range(debut, fin, pas)` génère la suite de nombre **debut** .. (**fin** - 1) avec un le pas de **pas**"
   ]
  },
  {
   "cell_type": "markdown",
   "metadata": {},
   "source": [
    "## list\n",
    "Une liste est une séquence de plusieurs valeurs (nombres, texte, booléen, etc.).  \n",
    "**Attention**\n",
    "le premier élément a l'index `0`"
   ]
  },
  {
   "cell_type": "code",
   "execution_count": 13,
   "metadata": {},
   "outputs": [
    {
     "name": "stdout",
     "output_type": "stream",
     "text": [
      "['sapin', 'cedre', 'meleze', 'bouleau']\n"
     ]
    }
   ],
   "source": [
    "arbres = ['sapin', 'cedre', 'meleze', 'bouleau']\n",
    "print(arbres)"
   ]
  },
  {
   "cell_type": "code",
   "execution_count": 15,
   "metadata": {},
   "outputs": [
    {
     "name": "stdout",
     "output_type": "stream",
     "text": [
      "sapin\n"
     ]
    }
   ],
   "source": [
    "print(arbres[0])"
   ]
  },
  {
   "cell_type": "code",
   "execution_count": 16,
   "metadata": {},
   "outputs": [
    {
     "data": {
      "text/plain": [
       "4"
      ]
     },
     "execution_count": 16,
     "metadata": {},
     "output_type": "execute_result"
    }
   ],
   "source": [
    "len(arbres)"
   ]
  },
  {
   "cell_type": "markdown",
   "metadata": {},
   "source": [
    "## Chaines de caractères\n",
    "On peut aussi parcourir la chaine de caractère comme une séquence"
   ]
  },
  {
   "cell_type": "code",
   "execution_count": 30,
   "metadata": {},
   "outputs": [
    {
     "name": "stdout",
     "output_type": "stream",
     "text": [
      "Le premier caractère, a l'index 0 , il est =  U\n",
      "Le dernier a l'index 9\n",
      "Le caractère espace a l'index 3\n"
     ]
    }
   ],
   "source": [
    "chaine = \"Une chaîne\"\n",
    "print(\"Le premier caractère, a l'index\", 0, \", il est = \",chaine[0])\n",
    "print(\"Le dernier a l'index\", len(chaine)-1)\n",
    "print(\"Le caractère espace a l'index 3\")"
   ]
  },
  {
   "cell_type": "markdown",
   "metadata": {},
   "source": [
    "## Priorité des opérateurs:\n",
    "La priorité des opérateurs de base est\n",
    "\n",
    "1. exposant (`**`)\n",
    "1. multiplication, division\n",
    "1. addition soustraction\n",
    "\n",
    "Pour donner priorité à l'addition, nous utilisons des parenthèses.\n",
    "\n",
    "\n",
    "4 – 2 * (9 / 3 ** 2 + 1) = ?\n",
    "\n",
    "\n",
    "4 – 2 *(9 / 9 +1) =\n",
    "\n",
    "\n",
    "4 – 2 * ( 1 + 1) =\n",
    "\n",
    "\n",
    "4 – 2 * 2 =\n",
    "\n",
    "\n",
    "4 – 4 = 0\n"
   ]
  },
  {
   "cell_type": "code",
   "execution_count": null,
   "metadata": {},
   "outputs": [],
   "source": []
  }
 ],
 "metadata": {
  "kernelspec": {
   "display_name": "Python 3",
   "language": "python",
   "name": "python3"
  },
  "language_info": {
   "codemirror_mode": {
    "name": "ipython",
    "version": 3
   },
   "file_extension": ".py",
   "mimetype": "text/x-python",
   "name": "python",
   "nbconvert_exporter": "python",
   "pygments_lexer": "ipython3",
   "version": "3.8.5"
  }
 },
 "nbformat": 4,
 "nbformat_minor": 4
}
