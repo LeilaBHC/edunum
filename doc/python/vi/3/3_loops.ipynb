{
 "cells": [
  {
   "cell_type": "markdown",
   "metadata": {},
   "source": [
    "# Listes, chaînes de caractères et boucle for"
   ]
  },
  {
   "cell_type": "markdown",
   "metadata": {},
   "source": [
    "## Jupyter notebook\n",
    "\n",
    "Bienvenue dans votre premier Jupyter notebook. Chaque cellule doit être exécutée en appuyant simulatanément sur les touches SHIFT + ENTER "
   ]
  },
  {
   "cell_type": "markdown",
   "metadata": {},
   "source": [
    "## Objectifs\n",
    "\n",
    "- Listes\n",
    "- Boucles `for`\n",
    "- Nouvel opérateur : modulo\n",
    "\n",
    "Les trois objectifs seront traités séparemment. Un exercice en seconde période vous permettra de mettre en action les listes, les boucles for et l'opérateur modulo."
   ]
  },
  {
   "cell_type": "markdown",
   "metadata": {},
   "source": [
    "## Listes\n",
    "\n",
    "Une liste est une séquence de plusieurs valeurs (nombres, texte, booléen, etc.).  \n",
    "On la déclare avec des crochets `[]` et on sépare chaque élément par une virgule `,`."
   ]
  },
  {
   "cell_type": "markdown",
   "metadata": {},
   "source": [
    "### Créer une liste\n",
    "\n",
    "Ceci est une liste nommée `uneListe` avec 3 éléments: le nombre `123`, la chaîne de caractères `'hello'` et le booléen `True`. La deuxième ligne affiche la liste à l'aide de la fonction `print()`"
   ]
  },
  {
   "cell_type": "code",
   "execution_count": null,
   "metadata": {
    "collapsed": false,
    "jupyter": {
     "outputs_hidden": false
    }
   },
   "outputs": [],
   "source": [
    "uneListe = [123, 'hello', True]\n",
    "print(uneListe)"
   ]
  },
  {
   "cell_type": "markdown",
   "metadata": {},
   "source": [
    "Voici une autre liste nommée `arbres` qui contient quatre chaînes de caractères"
   ]
  },
  {
   "cell_type": "code",
   "execution_count": null,
   "metadata": {
    "collapsed": false,
    "jupyter": {
     "outputs_hidden": false
    }
   },
   "outputs": [],
   "source": [
    "arbres = ['sapin', 'cedre', 'meleze', 'bouleau']\n",
    "print(arbres)\n"
   ]
  },
  {
   "cell_type": "markdown",
   "metadata": {},
   "source": [
    "### Accéder à un élément d'une liste (index)\n",
    "\n",
    "Chaque élément de la liste a un index (le premier est toujours 0, puis 1, puis 2, etc..). On peut donc afficher un seul élément de la listes en utilisant son index. On accède à l'élément 0 en utilisant la notation par crochets `[]`."
   ]
  },
  {
   "cell_type": "markdown",
   "metadata": {},
   "source": [
    "Voici comment afficher le premier élément de la liste `arbres` (dont l'index est égal à 0)"
   ]
  },
  {
   "cell_type": "code",
   "execution_count": null,
   "metadata": {
    "collapsed": false,
    "jupyter": {
     "outputs_hidden": false
    }
   },
   "outputs": [],
   "source": [
    "print(arbres[0])"
   ]
  },
  {
   "cell_type": "markdown",
   "metadata": {},
   "source": [
    "Voici comment afficher le quatrième élément de la liste `arbre` (dont l'index est égal à 3)"
   ]
  },
  {
   "cell_type": "code",
   "execution_count": null,
   "metadata": {
    "collapsed": false,
    "jupyter": {
     "outputs_hidden": false
    }
   },
   "outputs": [],
   "source": [
    "print(arbres[3])"
   ]
  },
  {
   "cell_type": "markdown",
   "metadata": {},
   "source": [
    "### Longueur d'une liste\n",
    "\n",
    "Il est encore possible de connaître la longueur de la liste (qui est un nombre) avec la fonction `len()` qui prend en paramètre la liste:"
   ]
  },
  {
   "cell_type": "code",
   "execution_count": null,
   "metadata": {
    "collapsed": false,
    "jupyter": {
     "outputs_hidden": false
    }
   },
   "outputs": [],
   "source": [
    "longueur = len(arbres)\n",
    "print(longueur)"
   ]
  },
  {
   "cell_type": "markdown",
   "metadata": {},
   "source": [
    "## Chaînes de caractères\n",
    "\n",
    "Les chaînes de caractères sont formés uniquement de caractères. On peut aussi accéder aux différents caractères de la chaîne avec la notation par crochets `[]`. Le premier élément est toujours 0, puis 1, etc..\n",
    "\n",
    "Ainsi si on déclare la chaîne de caractères `chaine = \"Ceci est un texte\"` et que l'on désire accéder au caractère `e` du verbe `est`, on écrit en Python : `chaine[5]` puisque c'est le sixième caractère (un espace est un caractère)"
   ]
  },
  {
   "cell_type": "code",
   "execution_count": null,
   "metadata": {
    "collapsed": false,
    "jupyter": {
     "outputs_hidden": false
    }
   },
   "outputs": [],
   "source": [
    "chaine = \"Ceci est un texte\"\n",
    "print(chaine[5])"
   ]
  },
  {
   "cell_type": "markdown",
   "metadata": {},
   "source": [
    "## La boucle for"
   ]
  },
  {
   "cell_type": "markdown",
   "metadata": {},
   "source": [
    "Une boucle `for` permet de **répéter une suite d'instructions** (que l'on appelle un **bloc d'instructions**) en itérant (parcourant) chaque éléments d'un `objet`. Cet `objet` est soit :\n",
    "\n",
    "* une liste\n",
    "* une chaîne de caractères\n",
    "* le retour de la fonction `range()`"
   ]
  },
  {
   "cell_type": "markdown",
   "metadata": {},
   "source": [
    "### Structure de la boucle for\n",
    "\n",
    "Elle a la structure simplifiée suivante:\n",
    "\n",
    "```python\n",
    "for i in objet:\n",
    "    instruction 1\n",
    "    instruction 2\n",
    "    instruction 3\n",
    "```\n",
    "\n",
    "1. Commence par le mot-clef `for`\n",
    "2. Puis le nom d'un itérateur (une variable)\n",
    "3. Puis le mot-clef `in`\n",
    "4. Puis un objet itérable (une chaîne de caractères, une liste ou la fonction `range()` )\n",
    "5. Et termine par deux points `:`\n",
    "6. un bloc à répéter (indentée)"
   ]
  },
  {
   "cell_type": "markdown",
   "metadata": {},
   "source": [
    "Voici une itération sur la liste `arbre` qui contient des chaînes de caractères."
   ]
  },
  {
   "cell_type": "code",
   "execution_count": null,
   "metadata": {
    "collapsed": false,
    "jupyter": {
     "outputs_hidden": false
    }
   },
   "outputs": [],
   "source": [
    "for arbre in arbres:\n",
    "    print(arbre)"
   ]
  },
  {
   "cell_type": "markdown",
   "metadata": {},
   "source": [
    "Voici une itération sur une plage de nombres."
   ]
  },
  {
   "cell_type": "code",
   "execution_count": null,
   "metadata": {
    "collapsed": false,
    "jupyter": {
     "outputs_hidden": false
    }
   },
   "outputs": [],
   "source": [
    "for i in range(3):\n",
    "    print(i)"
   ]
  },
  {
   "cell_type": "markdown",
   "metadata": {},
   "source": [
    "Voici une itération sur une liste de nombres."
   ]
  },
  {
   "cell_type": "code",
   "execution_count": null,
   "metadata": {
    "collapsed": false,
    "jupyter": {
     "outputs_hidden": false
    }
   },
   "outputs": [],
   "source": [
    "l = [1, 3, 5, 7, 9, 11]\n",
    "for i in l:\n",
    "    print(i)"
   ]
  },
  {
   "cell_type": "markdown",
   "metadata": {},
   "source": [
    "Voici une itération sur une chaîne de caractères."
   ]
  },
  {
   "cell_type": "code",
   "execution_count": null,
   "metadata": {
    "collapsed": false
   },
   "outputs": [],
   "source": [
    "chaine = \"Ceci est un texte\"\n",
    "for c in chaine:\n",
    "    print(c)"
   ]
  },
  {
   "cell_type": "markdown",
   "metadata": {},
   "source": [
    "### Boucles for imbriquées\n",
    "\n",
    "Il est tout à fait possible d'imbriquer plusieurs boucles `for`, mais attention, le nom de la variable itérateur doit être différent pour chacune des boucles."
   ]
  },
  {
   "cell_type": "markdown",
   "metadata": {},
   "source": [
    "### Exemple avec des boucles imbriquées\n",
    "\n",
    "Ici deux boucles for sont imbriquées. La première parcourt l'intervalle 0-5, la seconde 2-4 et affiche le résultat de la somme des deux nombres"
   ]
  },
  {
   "cell_type": "code",
   "execution_count": null,
   "metadata": {
    "collapsed": false,
    "jupyter": {
     "outputs_hidden": false
    }
   },
   "outputs": [],
   "source": [
    "for i in range(6):\n",
    "    for j in range(2,5):\n",
    "        print(i+j)"
   ]
  },
  {
   "cell_type": "markdown",
   "metadata": {},
   "source": [
    "## L'opérateur Modulo\n",
    "\n",
    "L'opérateur modulo est nécessaire pour réussir l'exercice de la deuxième période. "
   ]
  },
  {
   "cell_type": "markdown",
   "metadata": {},
   "source": [
    "### Définition du modulo\n",
    "\n",
    "L'opérateur modulo (en python le signe est le pourcent `%`) est un opérateur qui calcule le reste `r` de la division entière de `a` par `b`. \n",
    "\n",
    "Exemple : \n",
    "\n",
    "```\n",
    "a = 9\n",
    "b = 4\n",
    "a % b = 1\n",
    "```\n",
    "`9` divisé par `4` est égal à `2*4 + 1`. Le modulo vaut donc `1`.\n",
    "\n",
    "A noter que l'on peut aussi utiliser des nombres en virgule flottante ainsi que des nombres négatifs. Dans ce dernier cas, Python choisi le signe négatif du diviseur en non celui du dividente"
   ]
  },
  {
   "cell_type": "code",
   "execution_count": null,
   "metadata": {
    "collapsed": false,
    "jupyter": {
     "outputs_hidden": false
    }
   },
   "outputs": [],
   "source": [
    "9%4"
   ]
  },
  {
   "cell_type": "code",
   "execution_count": null,
   "metadata": {
    "collapsed": false,
    "jupyter": {
     "outputs_hidden": false
    }
   },
   "outputs": [],
   "source": [
    "8%-3"
   ]
  },
  {
   "cell_type": "code",
   "execution_count": null,
   "metadata": {
    "collapsed": false,
    "jupyter": {
     "outputs_hidden": false
    }
   },
   "outputs": [],
   "source": [
    "-8%-3"
   ]
  },
  {
   "cell_type": "markdown",
   "metadata": {},
   "source": [
    "### Exemple d'utilisation du modulo\n",
    "\n",
    "Imaginons que l'on considère un objet itérable (comme une liste ou une chaîne de caractère) et que l'on parcourt ses éléments par incrément de `+ 1`. On souhaite voir cet objet itérable comme un objet **circulaire** : le dernier élément est contigü au premier. Supposons que l'on déclare la chaîne de caractères suivante:\n",
    "\n",
    "```python\n",
    "chaine = \"abcde\"\n",
    "```\n",
    "alors \n",
    "\n",
    "```python\n",
    "index = 0\n",
    "print(chaine[index])\n",
    "```\n",
    "retourne `a` et \n",
    "\n",
    "```python\n",
    "longueur = len(chaine)\n",
    "index = longueur - 1\n",
    "print(chaine[index])\n",
    "```\n",
    "retoune `e`"
   ]
  },
  {
   "cell_type": "code",
   "execution_count": null,
   "metadata": {
    "collapsed": false,
    "jupyter": {
     "outputs_hidden": false
    }
   },
   "outputs": [],
   "source": [
    "chaine = \"abcde\"\n",
    "index = 0\n",
    "print(chaine[index])\n",
    "longueur = len(chaine)\n",
    "index = longueur - 1\n",
    "print(chaine[index])"
   ]
  },
  {
   "cell_type": "markdown",
   "metadata": {},
   "source": [
    "Si maintenant on essaie d'accéder à l'élément `longueur + 1` soit :\n",
    "\n",
    "```python\n",
    "longueur = len(chaine)\n",
    "index = longueur + 1\n",
    "chaine[index]\n",
    "```\n",
    "Python produit une erreur :\n",
    "\n",
    "```python\n",
    "---------------------------------------------------------------------------\n",
    "IndexError                                Traceback (most recent call last)\n",
    "<ipython-input-7-352156fde21a> in <module>()\n",
    "----> 1 print(chaine[longueur])\n",
    "\n",
    "IndexError: string index out of range\n",
    "```\n",
    "\n",
    "qui signifie que l'index choisi (`longueur + 1 = 6`) est en dehors de l'intervalle considéré (la longueur de la chaîne de caractères)\n"
   ]
  },
  {
   "cell_type": "code",
   "execution_count": null,
   "metadata": {
    "collapsed": false,
    "jupyter": {
     "outputs_hidden": false
    }
   },
   "outputs": [],
   "source": [
    "index = longueur + 1\n",
    "print(chaine[index])\n"
   ]
  },
  {
   "cell_type": "markdown",
   "metadata": {},
   "source": [
    "Pour remédier à cela, on utilise simplement le reste de la division entière entre l'index et la longueur, soit le modulo:\n",
    "\n",
    "```python\n",
    "index = 10\n",
    "print(chaine[10%longueur])\n",
    "```\n",
    "\n"
   ]
  },
  {
   "cell_type": "code",
   "execution_count": null,
   "metadata": {
    "collapsed": false,
    "jupyter": {
     "outputs_hidden": false
    }
   },
   "outputs": [],
   "source": [
    "index = 10\n",
    "print(chaine[index%longueur])"
   ]
  }
 ],
 "metadata": {
  "kernelspec": {
   "display_name": "Python 3",
   "language": "python",
   "name": "python3"
  },
  "language_info": {
   "codemirror_mode": {
    "name": "ipython",
    "version": 2
   },
   "file_extension": ".py",
   "mimetype": "text/x-python",
   "name": "python",
   "nbconvert_exporter": "python",
   "pygments_lexer": "ipython2",
   "version": "2.7.13"
  }
 },
 "nbformat": 4,
 "nbformat_minor": 4
}
