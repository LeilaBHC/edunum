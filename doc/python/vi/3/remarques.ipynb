{
 "cells": [
  {
   "cell_type": "markdown",
   "id": "intellectual-aircraft",
   "metadata": {},
   "source": [
    "# Code de César"
   ]
  },
  {
   "cell_type": "markdown",
   "id": "presidential-server",
   "metadata": {},
   "source": [
    "L'exemple est bien choisie, avec un contexte historique.\n",
    "Les images rendent le text attractif et sont une illustration du contenu\n",
    "\n",
    "Voici quelques remarques\n",
    "- utilise seulement 26 letters (ca suffit)\n",
    "- les minuscules sont plus faciles à lire que les majuscules\n",
    "- le style Python pour variables est : tout en minuscules et mots sépéarés par underscore\n",
    "- donc `message_clair` au lieu de `messageClair`\n",
    "- quand il n'y a pas au minimum 2 items (qui se suivent) il ne faut pas utiliser une puce\n",
    "- utilise de préférence des variables court:  `message`, `code`"
   ]
  },
  {
   "cell_type": "code",
   "execution_count": 1,
   "id": "departmental-football",
   "metadata": {},
   "outputs": [],
   "source": [
    "clef = 3"
   ]
  },
  {
   "cell_type": "code",
   "execution_count": 2,
   "id": "departmental-wound",
   "metadata": {},
   "outputs": [],
   "source": [
    "alphabet = 'abcdefghijklmnopqrstuvwxyz'"
   ]
  },
  {
   "cell_type": "code",
   "execution_count": 3,
   "id": "thousand-beast",
   "metadata": {},
   "outputs": [],
   "source": [
    "message = 'ceci est mon premier message a coder'"
   ]
  },
  {
   "cell_type": "markdown",
   "id": "uniform-brunswick",
   "metadata": {},
   "source": [
    "## Simplifier le code\n",
    "\n",
    "Au lieu d'une boucle dans une boucle, utilise la méthode `index`.\n",
    "Cette méthode retourne l'index d'un caractère `c` dans une chaine.\n",
    "\n",
    "`chaine.index(c)`\n",
    "\n",
    "Par exemple `c` a l'index 2 dans `alphabet`."
   ]
  },
  {
   "cell_type": "code",
   "execution_count": 4,
   "id": "compact-challenge",
   "metadata": {},
   "outputs": [
    {
     "data": {
      "text/plain": [
       "2"
      ]
     },
     "execution_count": 4,
     "metadata": {},
     "output_type": "execute_result"
    }
   ],
   "source": [
    "alphabet.index('c')"
   ]
  },
  {
   "cell_type": "code",
   "execution_count": 5,
   "id": "sorted-sapphire",
   "metadata": {},
   "outputs": [],
   "source": [
    "code = ''\n",
    "\n",
    "for c in message:\n",
    "    if c == ' ':\n",
    "        code = code + c\n",
    "    else:\n",
    "        i = alphabet.index(c)\n",
    "        i = (i+clef) % 26\n",
    "        code = code + alphabet[i]        "
   ]
  },
  {
   "cell_type": "code",
   "execution_count": 6,
   "id": "backed-center",
   "metadata": {},
   "outputs": [
    {
     "name": "stdout",
     "output_type": "stream",
     "text": [
      "clef    = 3\n",
      "message = ceci est mon premier message a coder\n",
      "encodé  = fhfl hvw prq suhplhu phvvdjh d frghu\n"
     ]
    }
   ],
   "source": [
    "print('clef    =', clef)\n",
    "print('message =', message)\n",
    "print('encodé  =', code)"
   ]
  },
  {
   "cell_type": "markdown",
   "id": "controlled-longitude",
   "metadata": {},
   "source": [
    "## Attaque brute"
   ]
  },
  {
   "cell_type": "code",
   "execution_count": 7,
   "id": "rolled-services",
   "metadata": {},
   "outputs": [],
   "source": [
    "message = \"mocco vsqxo obc moacksxowoxc vk zvdb vsbslvo no cyddob\""
   ]
  },
  {
   "cell_type": "code",
   "execution_count": 8,
   "id": "reduced-advocacy",
   "metadata": {},
   "outputs": [
    {
     "name": "stdout",
     "output_type": "stream",
     "text": [
      "0 : mocco vsqxo obc moacksxowoxc vk zvdb vsbslvo no cyddob\n",
      "1 : npddp wtryp pcd npbdltypxpyd wl awec wtctmwp op dzeepc\n",
      "2 : oqeeq xuszq qde oqcemuzqyqze xm bxfd xudunxq pq eaffqd\n",
      "3 : prffr yvtar ref prdfnvarzraf yn cyge yvevoyr qr fbggre\n",
      "4 : qsggs zwubs sfg qsegowbsasbg zo dzhf zwfwpzs rs gchhsf\n",
      "5 : rthht axvct tgh rtfhpxctbtch ap eaig axgxqat st hdiitg\n",
      "6 : suiiu bywdu uhi sugiqyducudi bq fbjh byhyrbu tu iejjuh\n",
      "7 : tvjjv czxev vij tvhjrzevdvej cr gcki czizscv uv jfkkvi\n",
      "8 : uwkkw dayfw wjk uwiksafwewfk ds hdlj dajatdw vw kgllwj\n",
      "9 : vxllx ebzgx xkl vxjltbgxfxgl et iemk ebkbuex wx lhmmxk\n",
      "10 : wymmy fcahy ylm wykmuchygyhm fu jfnl fclcvfy xy minnyl\n",
      "11 : xznnz gdbiz zmn xzlnvdizhzin gv kgom gdmdwgz yz njoozm\n",
      "12 : yaooa hecja ano yamowejaiajo hw lhpn henexha za okppan\n",
      "13 : zbppb ifdkb bop zbnpxfkbjbkp ix miqo ifofyib ab plqqbo\n",
      "14 : acqqc jgelc cpq acoqyglckclq jy njrp jgpgzjc bc qmrrcp\n",
      "15 : bdrrd khfmd dqr bdprzhmdldmr kz oksq khqhakd cd rnssdq\n",
      "16 : cesse ligne ers ceqsainemens la pltr lirible de sotter\n",
      "17 : dfttf mjhof fst dfrtbjofnfot mb qmus mjsjcmf ef tpuufs\n",
      "18 : eguug nkipg gtu egsuckpgogpu nc rnvt nktkdng fg uqvvgt\n",
      "19 : fhvvh oljqh huv fhtvdlqhphqv od sowu oluleoh gh vrwwhu\n",
      "20 : giwwi pmkri ivw giuwemriqirw pe tpxv pmvmfpi hi wsxxiv\n",
      "21 : hjxxj qnlsj jwx hjvxfnsjrjsx qf uqyw qnwngqj ij xtyyjw\n",
      "22 : ikyyk romtk kxy ikwygotkskty rg vrzx roxohrk jk yuzzkx\n",
      "23 : jlzzl spnul lyz jlxzhpultluz sh wsay spypisl kl zvaaly\n",
      "24 : kmaam tqovm mza kmyaiqvmumva ti xtbz tqzqjtm lm awbbmz\n",
      "25 : lnbbn urpwn nab lnzbjrwnvnwb uj yuca urarkun mn bxccna\n"
     ]
    }
   ],
   "source": [
    "for clef in range(26):\n",
    "    code = ''\n",
    "    for c in message:\n",
    "        if c == ' ':\n",
    "            code = code + c\n",
    "        else:\n",
    "            i = alphabet.index(c)\n",
    "            i = (i+clef) % 26\n",
    "            code = code + alphabet[i]\n",
    "    print(clef, ':', code)"
   ]
  },
  {
   "cell_type": "markdown",
   "id": "mysterious-coverage",
   "metadata": {},
   "source": [
    "Cest quoi le message ?\n",
    "\n",
    "    16 : cesse ligne ers ceqsainemens la pltr lirible de sotter"
   ]
  },
  {
   "cell_type": "code",
   "execution_count": null,
   "id": "educational-cooper",
   "metadata": {},
   "outputs": [],
   "source": []
  }
 ],
 "metadata": {
  "kernelspec": {
   "display_name": "Python 3",
   "language": "python",
   "name": "python3"
  },
  "language_info": {
   "codemirror_mode": {
    "name": "ipython",
    "version": 3
   },
   "file_extension": ".py",
   "mimetype": "text/x-python",
   "name": "python",
   "nbconvert_exporter": "python",
   "pygments_lexer": "ipython3",
   "version": "3.7.9"
  }
 },
 "nbformat": 4,
 "nbformat_minor": 5
}
