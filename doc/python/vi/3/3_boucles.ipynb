{
 "cells": [
  {
   "cell_type": "markdown",
   "metadata": {},
   "source": [
    "# Exercices sur la boucle for\n",
    "\n",
    "Objectifs:\n",
    "* boucles `for` avec\n",
    "    * la fonction range()\n",
    "    * une liste\n",
    "    * une chaîne de caractères"
   ]
  },
  {
   "cell_type": "markdown",
   "metadata": {},
   "source": [
    "## Boucle for\n",
    "\n",
    "Une boucle `for` permet de **répéter une suite d'instructions** (que l'on appelle un **bloc d'instructions**) en itérant (parcourant) les éléments d'un `objet`. Cet `objet` est soit :\n",
    "\n",
    "* une liste\n",
    "* une chaîne de caractères\n",
    "* le retour de la fonction `range()`\n",
    "\n",
    "On l'écrit :\n",
    "\n",
    "```python\n",
    "for i in objet:\n",
    "    instruction 1\n",
    "    instruction 2\n",
    "    instruction 3\n",
    "```\n",
    "\n",
    "La boucle `for` possède donc un **début** et une **fin**.\n",
    "\n",
    "On dit de l' `objet` qu'il est **itérable** (on peut le parcourir) et qu'il est **indexable** (on peut connaître la position de chacun de ses éléments). C'est le cas d'une liste, d'une chaîne de caractères et du retour de la fonction `range()`"
   ]
  },
  {
   "cell_type": "markdown",
   "metadata": {},
   "source": [
    "###  la fonction range()\n",
    "\n",
    "les paramètres de la fonction `range()' sont :\n",
    "\n",
    "`range(start, stop, step)`\n",
    "\n",
    "où :\n",
    "* *start* (optionnel) un entier qui spécifie à quelle position démarrer. Par défaut *start = 0*\n",
    "* *stop*  (obligatoire) un entier qui spécifie à quelle position s'arrêter\n",
    "* *step* (optionnel) un entier qui spécifie l'incrément. Par défaut *step = 1*"
   ]
  },
  {
   "cell_type": "markdown",
   "metadata": {},
   "source": [
    "### Exemples avec la fonction range()\n",
    "\n",
    "La fonction `range(n)` produit une plage de nombres entiers allant de 0 à n-1. Par exemple, écrivez `list(range(6))`"
   ]
  },
  {
   "cell_type": "code",
   "execution_count": null,
   "metadata": {
    "collapsed": false,
    "jupyter": {
     "outputs_hidden": false
    }
   },
   "outputs": [],
   "source": [
    "list(range(6))"
   ]
  },
  {
   "cell_type": "markdown",
   "metadata": {},
   "source": [
    "La fonction `range(m, n)` produit une plage de nombres entiers allant de m à n-1. Par exemple écrivez `list(range(2, 6))`"
   ]
  },
  {
   "cell_type": "code",
   "execution_count": null,
   "metadata": {
    "collapsed": false,
    "jupyter": {
     "outputs_hidden": false
    }
   },
   "outputs": [],
   "source": [
    "list(range(2, 6))"
   ]
  },
  {
   "cell_type": "markdown",
   "metadata": {},
   "source": [
    "Un troisième argument peut indiquer l'incrément. Par exemple, ajoutez un incrément de 2 : `list(range(1,6,2))`"
   ]
  },
  {
   "cell_type": "code",
   "execution_count": null,
   "metadata": {
    "collapsed": false,
    "jupyter": {
     "outputs_hidden": false
    }
   },
   "outputs": [],
   "source": [
    "list(range(1, 6, 2))"
   ]
  },
  {
   "cell_type": "markdown",
   "metadata": {},
   "source": [
    "L'incrément peut être négatif. Par exemple un incrément de `-1` : écrivez `list(range(10, 6, -1))`"
   ]
  },
  {
   "cell_type": "code",
   "execution_count": null,
   "metadata": {
    "collapsed": false,
    "jupyter": {
     "outputs_hidden": false
    }
   },
   "outputs": [],
   "source": [
    "list(range(10, 6, -1))"
   ]
  },
  {
   "cell_type": "markdown",
   "metadata": {},
   "source": [
    "## Boucle for avec la fonction range()\n",
    "\n",
    "Ecrivez une boucle for avec la fonction range() qui affiche tous les nombres impairs entre 1 et 19"
   ]
  },
  {
   "cell_type": "code",
   "execution_count": null,
   "metadata": {
    "collapsed": true,
    "jupyter": {
     "outputs_hidden": true
    }
   },
   "outputs": [],
   "source": []
  },
  {
   "cell_type": "markdown",
   "metadata": {},
   "source": [
    "## Boucle for avec une liste\n",
    "\n",
    "Créez une liste des nombres impairs inférieurs ou égaux à 20.\n",
    "\n",
    "**rappel** : une liste se créé ainsi : `maliste = ['element 1','element 2','element 3']` "
   ]
  },
  {
   "cell_type": "code",
   "execution_count": null,
   "metadata": {
    "collapsed": true,
    "jupyter": {
     "outputs_hidden": true
    }
   },
   "outputs": [],
   "source": []
  },
  {
   "cell_type": "markdown",
   "metadata": {},
   "source": [
    "Ecrivez une boucle `for` qui parcourt cette liste et affiche ses éléments."
   ]
  },
  {
   "cell_type": "code",
   "execution_count": null,
   "metadata": {
    "collapsed": false,
    "jupyter": {
     "outputs_hidden": false
    }
   },
   "outputs": [],
   "source": []
  },
  {
   "cell_type": "markdown",
   "metadata": {},
   "source": [
    "Ecrivez une boucle for qui parcourt cette même liste mais qui affiche les nombres pairs.\n",
    "\n",
    "**rappel**\n",
    "si *n* est impair, alors *n+1* est pair"
   ]
  },
  {
   "cell_type": "code",
   "execution_count": null,
   "metadata": {
    "collapsed": false,
    "jupyter": {
     "outputs_hidden": false
    }
   },
   "outputs": [],
   "source": []
  },
  {
   "cell_type": "markdown",
   "metadata": {},
   "source": [
    "## Boucle for avec une chaîne de caractères"
   ]
  },
  {
   "cell_type": "markdown",
   "metadata": {},
   "source": [
    "Déclarez une variable appelée `chaine` qui contient le texte `\"Python est sympa\"`"
   ]
  },
  {
   "cell_type": "code",
   "execution_count": null,
   "metadata": {
    "collapsed": false,
    "jupyter": {
     "outputs_hidden": false
    }
   },
   "outputs": [],
   "source": []
  },
  {
   "cell_type": "markdown",
   "metadata": {},
   "source": [
    "Ecrivez une boucle `for` qui parcourt cette chaîne de caractères et affiche chaque caractère"
   ]
  },
  {
   "cell_type": "code",
   "execution_count": null,
   "metadata": {
    "collapsed": false,
    "jupyter": {
     "outputs_hidden": false
    }
   },
   "outputs": [],
   "source": []
  }
 ],
 "metadata": {
  "kernelspec": {
   "display_name": "Python 3",
   "language": "python",
   "name": "python3"
  },
  "language_info": {
   "codemirror_mode": {
    "name": "ipython",
    "version": 2
   },
   "file_extension": ".py",
   "mimetype": "text/x-python",
   "name": "python",
   "nbconvert_exporter": "python",
   "pygments_lexer": "ipython2",
   "version": "2.7.13"
  }
 },
 "nbformat": 4,
 "nbformat_minor": 4
}
