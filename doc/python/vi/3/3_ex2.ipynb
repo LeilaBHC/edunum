{
 "cells": [
  {
   "cell_type": "markdown",
   "metadata": {},
   "source": [
    "# Exercice avec les boucle for"
   ]
  },
  {
   "cell_type": "markdown",
   "metadata": {},
   "source": [
    "## Objectifs:\n",
    "\n",
    "* Créer une boucle `for` avec les trois itérables:\n",
    "    * la fonction `range()`\n",
    "    * la liste\n",
    "    * la chaîne de caractères\n"
   ]
  },
  {
   "cell_type": "markdown",
   "metadata": {},
   "source": [
    "### Rappel boucle for\n",
    "\n",
    "une boucle `for` avec la fonction `range()` s'écrit :\n",
    "\n",
    "    for i in range(n):\n",
    "        instruction 1\n",
    "        instruction 2\n",
    "        ...\n"
   ]
  },
  {
   "cell_type": "markdown",
   "metadata": {},
   "source": [
    "### C'est quoi une fonction ?\n",
    "\n",
    "`range()` est une **fonction**. Elle peut avoir des paramètres **d'entrée** (ce qui se trouve entre parenthèses par exemple `param1, param` et `param3`) et peut avoir une valeur de **sortie** (par exemple `sortie`) :\n",
    "\n",
    "`sortie = fonction(param1, param2, param3)`\n",
    "\n",
    "### La fonction range()\n",
    "\n",
    "La fonction `range()` a trois paramètre **d'entrée** (dont un seul est obligatoire) et une valeur de **sortie** (une variable qui ressemble à une liste). \n",
    "\n",
    "les paramètres de la fonction `range()' sont donc :\n",
    "\n",
    "`range(start, stop, step)`\n",
    "\n",
    "où :\n",
    "* *start* (optionnel) un entier qui spécifie à quelle position démarrer. Par défaut *start = 0*\n",
    "* *stop*  (obligatoire) un entier qui spécifie à quelle position s'arrêter\n",
    "* *step* (optionnel) un entier qui spécifie l'incrément. Par défaut *step = 1*\n",
    "\n",
    "Il n'est pas obligatoire de créer une nouvelle variable pour la valeur de sortie. L'appel à la fonction suffit."
   ]
  },
  {
   "cell_type": "markdown",
   "metadata": {},
   "source": [
    "#### Exemples d'utilisation de la fonction range()\n",
    "\n",
    "Exemple avec un seul paramètre (6) qui retourne les nombre de 0 à 6"
   ]
  },
  {
   "cell_type": "code",
   "execution_count": null,
   "metadata": {
    "collapsed": false
   },
   "outputs": [],
   "source": [
    "list(range(6))"
   ]
  },
  {
   "cell_type": "markdown",
   "metadata": {},
   "source": [
    "Exemple avec deux paramètres (2,6) qui retourne les nombres de 2 à 6"
   ]
  },
  {
   "cell_type": "code",
   "execution_count": null,
   "metadata": {
    "collapsed": false
   },
   "outputs": [],
   "source": [
    "list(range(2,6))"
   ]
  },
  {
   "cell_type": "markdown",
   "metadata": {},
   "source": [
    "Exemple avec trois paramètres (1,6,2) qui retourne les nombres de 1 à 6 avec un incrément de 2 (donc retourne une liste qui contient les nombres 1, 3, 5"
   ]
  },
  {
   "cell_type": "code",
   "execution_count": null,
   "metadata": {
    "collapsed": false
   },
   "outputs": [],
   "source": [
    "list(range(1, 6, 2))"
   ]
  },
  {
   "cell_type": "markdown",
   "metadata": {},
   "source": [
    "## Répéter un bloc d'instructions avec une boucle for qui parcourt une liste de nombres\n",
    "\n",
    "* Déclarez une liste des nombres impairs inférieurs ou égaux à 20"
   ]
  },
  {
   "cell_type": "code",
   "execution_count": null,
   "metadata": {
    "collapsed": true
   },
   "outputs": [],
   "source": [
    "pass"
   ]
  },
  {
   "cell_type": "markdown",
   "metadata": {},
   "source": [
    "* Ecrivez une boucle for qui parcourt cette liste et affiche un élément par ligne (utiliser la fonction `print()` ainsi que l'accès à une boucle par un index)\n",
    "\n",
    "**rappel** : le i-ème élément de la liste `maListe` s'accède par `maListe[i]`"
   ]
  },
  {
   "cell_type": "code",
   "execution_count": null,
   "metadata": {
    "collapsed": true
   },
   "outputs": [],
   "source": [
    "pass"
   ]
  },
  {
   "cell_type": "markdown",
   "metadata": {},
   "source": [
    "* Ecrivez une boucle for qui parcourt cette liste et mais affiche les nombres pairs\n",
    "\n",
    "**rappel**\n",
    "si *n* est impair, alors *n+1* est pair"
   ]
  },
  {
   "cell_type": "code",
   "execution_count": null,
   "metadata": {
    "collapsed": true
   },
   "outputs": [],
   "source": [
    "pass"
   ]
  },
  {
   "cell_type": "markdown",
   "metadata": {},
   "source": [
    "## Répèter un bloc d'instructions avec une boucle for qui parcourt une liste\n",
    "\n",
    "Déclarez une liste des fruits suivants : \n",
    "\n",
    "- pomme\n",
    "- banane\n",
    "- orange"
   ]
  },
  {
   "cell_type": "code",
   "execution_count": null,
   "metadata": {
    "collapsed": true
   },
   "outputs": [],
   "source": [
    "pass"
   ]
  },
  {
   "cell_type": "markdown",
   "metadata": {},
   "source": [
    "Ecrivez une boucle for qui parcourt les éléments de cette liste\n",
    "\n",
    "**attention :** On parcourt une liste `maListe` en utilisant une variable `maVariable`. Par exemple, si une liste a été déclarée ainsi : `arbres = ['sapin','bouleau']` alors on pourra parcourir cette liste avec la syntaxe suivante : `for arbre in arbres` ; la variable `arbre` parcourt la liste `arbres` et contient, à chaque itération, la valeur de l'élément de la liste.  "
   ]
  },
  {
   "cell_type": "code",
   "execution_count": null,
   "metadata": {
    "collapsed": true
   },
   "outputs": [],
   "source": []
  }
 ],
 "metadata": {
  "kernelspec": {
   "display_name": "Python 3",
   "language": "python",
   "name": "python3"
  },
  "language_info": {
   "codemirror_mode": {
    "name": "ipython",
    "version": 2
   },
   "file_extension": ".py",
   "mimetype": "text/x-python",
   "name": "python",
   "nbconvert_exporter": "python",
   "pygments_lexer": "ipython2",
   "version": "2.7.13"
  }
 },
 "nbformat": 4,
 "nbformat_minor": 4
}
