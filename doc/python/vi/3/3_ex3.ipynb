{
 "cells": [
  {
   "cell_type": "markdown",
   "metadata": {},
   "source": [
    "# Ex. Boucle while\n",
    "\n",
    "Objectif\n",
    "* boucles while"
   ]
  },
  {
   "cell_type": "markdown",
   "metadata": {},
   "source": [
    "Ecrire une boucle while qui affiche les chiffres de 1 à 10\n",
    "1. déclarer une variable *n* et lui affecter la valeur 1\n",
    "2. à chaque itération de la boucle **while**, ajouter 1 à la variable *n*\n",
    "3. la condition de sortie de la boucle while est atteinte lorsque la variable *n* est plus grande que 10\n",
    "4. attention à l'indentation. Ne pas oublier les deux points *:*"
   ]
  },
  {
   "cell_type": "code",
   "execution_count": null,
   "metadata": {
    "collapsed": true,
    "jupyter": {
     "outputs_hidden": true
    }
   },
   "outputs": [],
   "source": []
  },
  {
   "cell_type": "markdown",
   "metadata": {},
   "source": [
    "Ecrire les chiffres de 10 à 1 (dans cet ordre) en s'inspirant de la boucle précédente"
   ]
  },
  {
   "cell_type": "code",
   "execution_count": null,
   "metadata": {
    "collapsed": true,
    "jupyter": {
     "outputs_hidden": true
    }
   },
   "outputs": [],
   "source": []
  }
 ],
 "metadata": {
  "kernelspec": {
   "display_name": "Python 3",
   "language": "python",
   "name": "python3"
  },
  "language_info": {
   "codemirror_mode": {
    "name": "ipython",
    "version": 3
   },
   "file_extension": ".py",
   "mimetype": "text/x-python",
   "name": "python",
   "nbconvert_exporter": "python",
   "pygments_lexer": "ipython3",
   "version": "3.7.4"
  }
 },
 "nbformat": 4,
 "nbformat_minor": 4
}
