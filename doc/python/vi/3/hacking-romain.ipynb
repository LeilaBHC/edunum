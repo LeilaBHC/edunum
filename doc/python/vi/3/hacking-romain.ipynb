{
 "cells": [
  {
   "cell_type": "markdown",
   "metadata": {},
   "source": [
    "# Coder et décoder comme les Romains"
   ]
  },
  {
   "cell_type": "markdown",
   "metadata": {},
   "source": [
    "## Objectifs\n",
    "\n",
    "* Utilisation des boucles\n",
    "* Utilisation des tests"
   ]
  },
  {
   "cell_type": "markdown",
   "metadata": {},
   "source": [
    "## Le \"Code de Cesar\", c'est quoi ?\n",
    "\n",
    "**Jules César** était un Empereur Romain qui a vécu au 1er siècle avant Jésus-Christ. Comme chef des armées de la Rome Antique, il souhaitait pouvoir communiquer avec ses officiers de plus hauts rangs localisés aux quatre coins de son immense empire. \n",
    "\n",
    "![alt text](img/jules-cesar.jpg \"Jules Cesar\")\n",
    "\n",
    "Pour ne pas qu'un éventuel ennemi ne s'empare du message de l'Empereur, il a décidé d'utiliser une technique de **cryptage** afin de rendre le message illisible si on ne connaît pas la **clef de chiffrement**. C'est l'une des toutes premières applications de la **cryptographie**. "
   ]
  },
  {
   "cell_type": "markdown",
   "metadata": {
    "collapsed": true
   },
   "source": [
    "## Comment fonctionne le code de Cesar ?\n",
    "\n",
    "Le **texte chiffré (codé)** s'obtient en remplaçant chaque lettre du **texte clair** original par une lettre à distance fixe, toujours du même côté, dans l'alphabet. Cette distance est appelée **clef de chiffrement**\n",
    "\n",
    "![alt text](img/clef.png \"Clef de chiffrement du code de Cesar\")\n",
    "\n",
    "Jules Cesar utilisait souvent 3 comme clef de chiffrement.\n",
    "\n",
    "### Exemple\n",
    "\n",
    "Si la clef de chiffrement vaut **3**, alors on décalera chaque lettre du texte clair de trois sur la droite : \n",
    "\n",
    "- le \"A\" devient \"D\"\n",
    "- le \"B\" devient \"E\"\n",
    "\n",
    "et ainsi de suite. On peut ensuite chiffrer et déchiffrer des messages plus longs :\n",
    "\n",
    "- le texte clair \"Bonjour\", chiffré avec la clef 3 devient le texte chiffré \"Erqmrxu\"\n"
   ]
  },
  {
   "cell_type": "markdown",
   "metadata": {},
   "source": [
    "## Programme pour chiffrer (coder) un texte clair\n",
    "\n",
    "Les étapes à programmer sont les suivantes :"
   ]
  },
  {
   "cell_type": "markdown",
   "metadata": {},
   "source": [
    "* Définissez une clef de chiffrage `clef = ...`"
   ]
  },
  {
   "cell_type": "code",
   "execution_count": 5,
   "metadata": {
    "collapsed": true
   },
   "outputs": [],
   "source": [
    "clef = 3"
   ]
  },
  {
   "cell_type": "markdown",
   "metadata": {},
   "source": [
    "* Définissez une chaîne de caractères qui contient toutes les lettres de l'alphabet. D'abord les majuscules, puis les minuscules."
   ]
  },
  {
   "cell_type": "code",
   "execution_count": 25,
   "metadata": {
    "collapsed": true
   },
   "outputs": [],
   "source": [
    "lettres = \"ABCDEFGHIJKLMNOPQRSTUVWXYZabcdefghijklmnopqrstuvwxyz\""
   ]
  },
  {
   "cell_type": "markdown",
   "metadata": {},
   "source": [
    "* Définissez un message clair à coder"
   ]
  },
  {
   "cell_type": "code",
   "execution_count": 26,
   "metadata": {
    "collapsed": true
   },
   "outputs": [],
   "source": [
    "messageClair = \"Ceci est mon premier message a coder\""
   ]
  },
  {
   "cell_type": "markdown",
   "metadata": {},
   "source": [
    "* Définissez un message codé vide (nous allons ajouter les lettres codées à cette variable à chaque itération de la boucle)"
   ]
  },
  {
   "cell_type": "code",
   "execution_count": 27,
   "metadata": {
    "collapsed": true
   },
   "outputs": [],
   "source": [
    "messageCode = \"\""
   ]
  },
  {
   "cell_type": "markdown",
   "metadata": {},
   "source": [
    "* Déclarez une boucle sur chaque caractère du message en clair et appliquez l'algorithme suivant :\n",
    "    1. si le caractère est un espace (if c == ' ') alors laisser un espace dans le message chiffré\n",
    "    2. pour toutes les lettres de l'alphabet, rechercher l'index du caractère\n",
    "    3. calculer la nouvelle position en appliquant un décalage vers la droite (donc une addition) correspondant à la clef de chiffrement. Attention à"
   ]
  },
  {
   "cell_type": "code",
   "execution_count": 28,
   "metadata": {
    "collapsed": false
   },
   "outputs": [],
   "source": [
    "for c in messageClair:\n",
    "\ti = 0\n",
    "\tif c == \" \":\n",
    "\t\tmessageCode = messageCode+c\n",
    "\telse:\n",
    "\t\tfor l in lettres:\n",
    "\t\t\tif c == l :\n",
    "\t\t\t\tnew_pos = (i+clef) % len(lettres)\n",
    "\t\t\t\tnew_lettre = lettres[new_pos]\n",
    "\t\t\t\tmessageCode = messageCode+new_lettre\n",
    "\t\t\ti+=1"
   ]
  },
  {
   "cell_type": "markdown",
   "metadata": {},
   "source": [
    "* Affichez le message clair et le message chiffré"
   ]
  },
  {
   "cell_type": "code",
   "execution_count": 29,
   "metadata": {
    "collapsed": false
   },
   "outputs": [
    {
     "name": "stdout",
     "output_type": "stream",
     "text": [
      "('Clef de chiffrement : ', 20)\n",
      "('Message clair       : ', 'Ceci est mon premier message a coder')\n",
      "('Message code        : ', 'WywC yMN GIH JLyGCyL GyMMuAy u wIxyL')\n"
     ]
    }
   ],
   "source": [
    "print(\"Clef de chiffrement : \",clef)\n",
    "print(\"Message clair       : \",messageClair)\n",
    "print(\"Message code        : \",messageCode)"
   ]
  },
  {
   "cell_type": "markdown",
   "metadata": {},
   "source": [
    "## Programme pour déchiffré un message codé"
   ]
  },
  {
   "cell_type": "markdown",
   "metadata": {},
   "source": [
    "Le programme pour décoder est identique à celui pour chiffrer, la seule différence est que l'on trouve la nouvelle lettre en décalant vers la gauche (dans la chaîne de caractères), et donc, il faut appliquer une soustraction correspondant à la clef de chiffrement"
   ]
  },
  {
   "cell_type": "markdown",
   "metadata": {},
   "source": [
    "* Définissez une variable qui contiendra le message déchiffré vide"
   ]
  },
  {
   "cell_type": "code",
   "execution_count": 30,
   "metadata": {
    "collapsed": true
   },
   "outputs": [],
   "source": [
    "messageDecode = \"\""
   ]
  },
  {
   "cell_type": "markdown",
   "metadata": {},
   "source": [
    "* Appliquez le même algorithme que pour le chiffrement mais avec une soustration de la clef lors du calcul de la nouvelle position"
   ]
  },
  {
   "cell_type": "code",
   "execution_count": 35,
   "metadata": {
    "collapsed": true
   },
   "outputs": [],
   "source": [
    "for c in messageCode:\n",
    "\ti = 0\n",
    "\tif c == \" \":\n",
    "\t\tmessageDecode = messageDecode+c\n",
    "\telse:\n",
    "\t\tfor l in lettres:\n",
    "\t\t\tif c == l :\n",
    "\t\t\t\tnew_pos = (i-clef) % len(lettres)\n",
    "\t\t\t\tnew_lettre = lettres[new_pos]\n",
    "\t\t\t\tmessageDecode = messageDecode+new_lettre\n",
    "\t\t\ti+=1"
   ]
  },
  {
   "cell_type": "markdown",
   "metadata": {},
   "source": [
    "* Affichez le message codé et le message décodé"
   ]
  },
  {
   "cell_type": "code",
   "execution_count": 36,
   "metadata": {
    "collapsed": false
   },
   "outputs": [
    {
     "name": "stdout",
     "output_type": "stream",
     "text": [
      "('Clef de chiffrement : ', 20)\n",
      "('Message code        : ', 'MoCCo vsqxo oBC moACksxowoxC vk zvDB vsBslvo no CyDCoB')\n",
      "('Message decode      : ', 'Ceci est mon premier message a codertVjjV cZXeV Vij TVhjRZeVdVej cR gcki cZiZScV UV jfkjVisUiiU bYWdU Uhi SUgiQYdUcUdi bQ fbjh bYhYRbU TU iejiUh')\n"
     ]
    }
   ],
   "source": [
    "print(\"Clef de chiffrement : \",clef)\n",
    "print(\"Message code        : \",messageCode)\n",
    "print(\"Message decode      : \",messageDecode)"
   ]
  },
  {
   "cell_type": "markdown",
   "metadata": {},
   "source": [
    "## Que se passe-t-il si on ne connaît pas la clef de chiffrement ?"
   ]
  },
  {
   "cell_type": "markdown",
   "metadata": {},
   "source": [
    "Dans cette dernière partie, nous allons effectuer une attaque dite **en force brute** où vous allez tester un ensemble de clefs de chiffrement et comparer les différents messages décodé produits et sélectionner le bon"
   ]
  },
  {
   "cell_type": "markdown",
   "metadata": {},
   "source": [
    "* Reprenez le programme pour décoder un message chiffré.\n",
    "* Au lieu de fixer la clef de chiffrement, ajoutez une boucle qui va parcourir l'intervalle 0 à 20 à l'aide de la fonction `range(21)`. Cette nouvelle boucle doit être la première à être parcourue. La raison est que la clef est comprise dans cet intervalle.\n",
    "\n",
    "\n",
    "L'algorithme devient :\n",
    "    * pour chaque clef entre 0 et 20\n",
    "        * pour chaque caractère `c` du message codé `messageCode` :\n",
    "            * si ce caractère est un espace (`if c == ' '`, recopier l'espace dans le message décodé\n",
    "            * sinon pour chaque caractère `l` de la liste de lettres `lettres`\n",
    "                * si les caractères `l` et `c` sont égaux (`if l == c`) alors récupérer la position, calculer le nouvelle position avec la clef et le caractère correspondant. Ajouter ce caractère au message\n",
    "    * Afficher le message décodé avec la clef `clef` courant\n",
    "\n",
    "\n",
    "* Le message à décoder est le suivant : `messageCode = \"MoCCo vsqxo oBC moACksxowoxC vk zvDB vsBslvo no CyDCoB\"`"
   ]
  },
  {
   "cell_type": "code",
   "execution_count": 53,
   "metadata": {
    "collapsed": true
   },
   "outputs": [],
   "source": [
    "messageCode = \"MoCCo vsqxo oBC moACksxowoxC vk zvDB vsBslvo no CyDCoB\""
   ]
  },
  {
   "cell_type": "code",
   "execution_count": 62,
   "metadata": {
    "collapsed": false
   },
   "outputs": [
    {
     "name": "stdout",
     "output_type": "stream",
     "text": [
      "('[', 1, ' ] : ', 'MoCCo vsqxo oBC moACksxowoxC vk zvDB vsBslvo no CyDCoB')\n",
      "('[', 2, ' ] : ', 'LnBBn urpwn nAB lnzBjrwnvnwB uj yuCA urArkun mn BxCBnA')\n",
      "('[', 3, ' ] : ', 'KmAAm tqovm mzA kmyAiqvmumvA ti xtBz tqzqjtm lm AwBAmz')\n",
      "('[', 4, ' ] : ', 'Jlzzl spnul lyz jlxzhpultluz sh wsAy spypisl kl zvAzly')\n",
      "('[', 5, ' ] : ', 'Ikyyk romtk kxy ikwygotkskty rg vrzx roxohrk jk yuzykx')\n",
      "('[', 6, ' ] : ', 'Hjxxj qnlsj jwx hjvxfnsjrjsx qf uqyw qnwngqj ij xtyxjw')\n",
      "('[', 7, ' ] : ', 'Giwwi pmkri ivw giuwemriqirw pe tpxv pmvmfpi hi wsxwiv')\n",
      "('[', 8, ' ] : ', 'Fhvvh oljqh huv fhtvdlqhphqv od sowu oluleoh gh vrwvhu')\n",
      "('[', 9, ' ] : ', 'Eguug nkipg gtu egsuckpgogpu nc rnvt nktkdng fg uqvugt')\n",
      "('[', 10, ' ] : ', 'Dfttf mjhof fst dfrtbjofnfot mb qmus mjsjcmf ef tputfs')\n",
      "('[', 11, ' ] : ', 'Cesse ligne ers ceqsainemens la pltr lirible de sotser')\n",
      "('[', 12, ' ] : ', 'Bdrrd khfmd dqr bdprZhmdldmr kZ oksq khqhakd cd rnsrdq')\n",
      "('[', 13, ' ] : ', 'Acqqc jgelc cpq acoqYglckclq jY njrp jgpgZjc bc qmrqcp')\n",
      "('[', 14, ' ] : ', 'zbppb ifdkb bop ZbnpXfkbjbkp iX miqo ifofYib ab plqpbo')\n",
      "('[', 15, ' ] : ', 'yaooa hecja ano YamoWejaiajo hW lhpn heneXha Za okpoan')\n",
      "('[', 16, ' ] : ', 'xZnnZ gdbiZ Zmn XZlnVdiZhZin gV kgom gdmdWgZ YZ njonZm')\n",
      "('[', 17, ' ] : ', 'wYmmY fcahY Ylm WYkmUchYgYhm fU jfnl fclcVfY XY minmYl')\n",
      "('[', 18, ' ] : ', 'vXllX ebZgX Xkl VXjlTbgXfXgl eT iemk ebkbUeX WX lhmlXk')\n",
      "('[', 19, ' ] : ', 'uWkkW daYfW Wjk UWikSafWeWfk dS hdlj dajaTdW VW kglkWj')\n",
      "('[', 20, ' ] : ', 'tVjjV cZXeV Vij TVhjRZeVdVej cR gcki cZiZScV UV jfkjVi')\n"
     ]
    }
   ],
   "source": [
    "for clef in range(20):\n",
    "\tclef = clef + 1\n",
    "\tmessageDecode = \"\"\n",
    "\tfor c in messageCode:\n",
    "\t\tif c == \" \":\n",
    "\t\t\tmessageDecode = messageDecode+c\n",
    "\t\telse:\n",
    "\t\t\ti = 0\n",
    "\t\t\tfor l in lettres:\n",
    "\t\t\t\tif c == l :\n",
    "\t\t\t\t\tnew_pos = (i-clef + 1 + len(lettres)) % len(lettres)\n",
    "#\t\t\t\t\tprint(i,(i-clef),new_pos)\n",
    "\t\t\t\t\tnew_lettre = lettres[new_pos]\n",
    "\t\t\t\t\tmessageDecode = messageDecode+new_lettre\n",
    "\t\t\t\ti = i + 1\n",
    "\tprint(\"[\",clef,\" ] : \",messageDecode)"
   ]
  },
  {
   "cell_type": "markdown",
   "metadata": {},
   "source": [
    "Question : Quelle est la valeur de la clef de chiffrement pour le message codé ?"
   ]
  },
  {
   "cell_type": "code",
   "execution_count": null,
   "metadata": {
    "collapsed": true
   },
   "outputs": [],
   "source": []
  }
 ],
 "metadata": {
  "kernelspec": {
   "display_name": "Python 3",
   "language": "python",
   "name": "python3"
  },
  "language_info": {
   "codemirror_mode": {
    "name": "ipython",
    "version": 2
   },
   "file_extension": ".py",
   "mimetype": "text/x-python",
   "name": "python",
   "nbconvert_exporter": "python",
   "pygments_lexer": "ipython2",
   "version": "2.7.13"
  }
 },
 "nbformat": 4,
 "nbformat_minor": 2
}
