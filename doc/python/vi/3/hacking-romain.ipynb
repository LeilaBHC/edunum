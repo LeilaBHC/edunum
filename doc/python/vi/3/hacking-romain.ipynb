{
 "cells": [
  {
   "cell_type": "markdown",
   "metadata": {},
   "source": [
    "# Coder et décoder comme les Romains"
   ]
  },
  {
   "cell_type": "markdown",
   "metadata": {},
   "source": [
    "## Objectifs\n",
    "\n",
    "* Application des\n",
    "    * chaînes de caractères\n",
    "    * boucles\n",
    "    * tests conditionnels"
   ]
  },
  {
   "cell_type": "markdown",
   "metadata": {},
   "source": [
    "## Le \"Code de Cesar\", c'est quoi ?\n",
    "\n",
    "**Jules César** était un Empereur Romain qui a vécu au 1er siècle avant Jésus-Christ. Comme chef des armées de la Rome Antique, il souhaitait pouvoir communiquer avec ses officiers de plus hauts rangs localisés aux quatre coins de son immense empire. \n",
    "\n",
    "![alt text](img/jules-cesar.jpg \"Jules Cesar\")\n",
    "\n",
    "Pour qu'un éventuel ennemi ne s'empare jamais du message de l'Empereur, il a décidé d'utiliser une technique de **cryptage** afin de rendre le message illisible si on ne connaît pas la **clef de chiffrement**. C'est l'une des toutes premières applications de la **cryptographie**. "
   ]
  },
  {
   "cell_type": "markdown",
   "metadata": {
    "collapsed": true
   },
   "source": [
    "## Comment fonctionne le code de Cesar ?\n",
    "\n",
    "Le **texte chiffré (codé)** s'obtient en remplaçant chaque lettre du **texte clair** original par un décalage à distance fixe, toujours du même côté, dans les lettres de l'alphabet. Cette distance est appelée **clef de chiffrement**\n",
    "\n",
    "![alt text](img/clef.png \"Clef de chiffrement du code de Cesar\")\n",
    "\n",
    "Jules Cesar utilisait souvent 3 comme clef de chiffrement.\n",
    "\n",
    "### Exemple\n",
    "\n",
    "Si la clef de chiffrement vaut **3**, alors on décalera chaque lettre du texte clair de trois sur la droite : \n",
    "\n",
    "- le \"a\" devient \"d\"\n",
    "- le \"b\" devient \"e\"\n",
    "\n",
    "et ainsi de suite. On peut ensuite chiffrer et déchiffrer des messages plus longs :\n",
    "\n",
    "- le texte clair \"bonjour\", chiffré avec la clef 3 devient le texte chiffré \"erqmrxu\"\n"
   ]
  },
  {
   "cell_type": "markdown",
   "metadata": {},
   "source": [
    "## Programme pour chiffrer (coder) un texte clair\n",
    "\n",
    "Les étapes à programmer sont les suivantes :"
   ]
  },
  {
   "cell_type": "markdown",
   "metadata": {},
   "source": [
    "Définissez une clef de chiffrage `clef = ...`"
   ]
  },
  {
   "cell_type": "code",
   "execution_count": 2,
   "metadata": {
    "collapsed": true
   },
   "outputs": [],
   "source": [
    "clef = 3"
   ]
  },
  {
   "cell_type": "markdown",
   "metadata": {},
   "source": [
    "Définissez une chaîne de caractères qui contient toutes les lettres de l'alphabet en minuscule"
   ]
  },
  {
   "cell_type": "code",
   "execution_count": 3,
   "metadata": {
    "collapsed": true
   },
   "outputs": [],
   "source": [
    "alphabet = \"abcdefghijklmnopqrstuvwxyz\""
   ]
  },
  {
   "cell_type": "markdown",
   "metadata": {},
   "source": [
    "Définissez un message clair à coder (en utilisant les lettres minuscules mais sans accent)"
   ]
  },
  {
   "cell_type": "code",
   "execution_count": 4,
   "metadata": {
    "collapsed": true
   },
   "outputs": [],
   "source": [
    "message_clair = \"ceci est mon premier message a coder\""
   ]
  },
  {
   "cell_type": "markdown",
   "metadata": {},
   "source": [
    "Définissez un message codé vide (nous allons ajouter les lettres codées à cette variable à chaque itération de la boucle)"
   ]
  },
  {
   "cell_type": "code",
   "execution_count": 5,
   "metadata": {
    "collapsed": true
   },
   "outputs": [],
   "source": [
    "message_code = \"\""
   ]
  },
  {
   "cell_type": "markdown",
   "metadata": {},
   "source": [
    "Déclarez une boucle sur chaque caractère du message en clair et appliquez l'algorithme suivant :\n",
    "    1. si le caractère est un espace (if c == ' ') alors laisser un espace dans le message chiffré\n",
    "    2. pour toutes les lettres de l'alphabet, rechercher l'index du caractère\n",
    "    3. calculer la nouvelle position en appliquant un décalage vers la droite (donc une addition) correspondant à la clef de chiffrement. Attention à l'indentation"
   ]
  },
  {
   "cell_type": "code",
   "execution_count": 6,
   "metadata": {
    "collapsed": false
   },
   "outputs": [],
   "source": [
    "for c in message_clair:\n",
    "    i = 0\n",
    "    if c == \" \":\n",
    "        message_code = message_code+c\n",
    "    else:\n",
    "        for l in alphabet:\n",
    "            if c == l :\n",
    "                nouvel_index = (i+clef) % len(alphabet)\n",
    "                nouvelle_lettre = alphabet[nouvel_index]\n",
    "                message_code = message_code+nouvelle_lettre\n",
    "            i+=1"
   ]
  },
  {
   "cell_type": "markdown",
   "metadata": {},
   "source": [
    "Affichez la clef, le message clair et le message chiffré (avec la fonction `print()`)"
   ]
  },
  {
   "cell_type": "code",
   "execution_count": 7,
   "metadata": {
    "collapsed": false
   },
   "outputs": [
    {
     "name": "stdout",
     "output_type": "stream",
     "text": [
      "('Clef de chiffrement : ', 3)\n",
      "('Message clair       : ', 'ceci est mon premier message a coder')\n",
      "('Message code        : ', 'fhfl hvw prq suhplhu phvvdjh d frghu')\n"
     ]
    }
   ],
   "source": [
    "print(\"Clef de chiffrement : \",clef)\n",
    "print(\"Message clair       : \",message_clair)\n",
    "print(\"Message code        : \",message_code)"
   ]
  },
  {
   "cell_type": "markdown",
   "metadata": {},
   "source": [
    "## Programme pour déchiffrer un message codé"
   ]
  },
  {
   "cell_type": "markdown",
   "metadata": {},
   "source": [
    "Le programme pour décoder est identique à celui pour chiffrer, la seule différence est que l'on trouve la nouvelle lettre en décalant vers la gauche (dans la chaîne de caractères), et donc, il faut appliquer une soustraction correspondant à la clef de chiffrement"
   ]
  },
  {
   "cell_type": "markdown",
   "metadata": {},
   "source": [
    "Définissez une variable `message_decode` qui contiendra le message déchiffré (clair) vide"
   ]
  },
  {
   "cell_type": "code",
   "execution_count": 8,
   "metadata": {
    "collapsed": true
   },
   "outputs": [],
   "source": [
    "message_decode = \"\""
   ]
  },
  {
   "cell_type": "markdown",
   "metadata": {},
   "source": [
    "Appliquez le même algorithme que pour le chiffrement mais avec une soustration de la clef lors du calcul de la nouvelle position"
   ]
  },
  {
   "cell_type": "code",
   "execution_count": 9,
   "metadata": {
    "collapsed": false
   },
   "outputs": [],
   "source": [
    "for c in message_code:\n",
    "    i = 0\n",
    "    if c == \" \":\n",
    "        message_decode = message_decode+c\n",
    "    else:\n",
    "        for l in alphabet:\n",
    "            if c == l :\n",
    "                nouvel_index = (i-clef) % len(alphabet)\n",
    "                nouvelle_lettre = alphabet[nouvel_index]\n",
    "                message_decode = message_decode+nouvelle_lettre\n",
    "            i+=1"
   ]
  },
  {
   "cell_type": "markdown",
   "metadata": {},
   "source": [
    "Affichez la clef, le message codé et le message décodé (avec la fonction `print()`)"
   ]
  },
  {
   "cell_type": "code",
   "execution_count": 10,
   "metadata": {
    "collapsed": false
   },
   "outputs": [
    {
     "name": "stdout",
     "output_type": "stream",
     "text": [
      "('Clef de chiffrement : ', 3)\n",
      "('Message code        : ', 'fhfl hvw prq suhplhu phvvdjh d frghu')\n",
      "('Message decode      : ', 'ceci est mon premier message a coder')\n"
     ]
    }
   ],
   "source": [
    "print(\"Clef de chiffrement : \",clef)\n",
    "print(\"Message code        : \",message_code)\n",
    "print(\"Message decode      : \",message_decode)"
   ]
  },
  {
   "cell_type": "markdown",
   "metadata": {},
   "source": [
    "## Que se passe-t-il si on ne connaît pas la clef de chiffrement ?"
   ]
  },
  {
   "cell_type": "markdown",
   "metadata": {},
   "source": [
    "Dans cette dernière partie, nous allons effectuer une attaque dite **en force brute** où vous allez tester un ensemble de clefs de chiffrement et comparer les différents messages décodé produits et sélectionner le bon"
   ]
  },
  {
   "cell_type": "markdown",
   "metadata": {},
   "source": [
    "* Reprenez le programme pour décoder un message chiffré.\n",
    "* Au lieu de fixer la clef de chiffrement, ajoutez une boucle qui va parcourir l'intervalle 0 à 20 à l'aide de la fonction `range(21)`. Cette nouvelle boucle doit être la première à être parcourue. La raison est que la clef est comprise dans cet intervalle.\n",
    "\n",
    "\n",
    "L'algorithme devient :\n",
    "    * pour chaque clef entre 0 et 20\n",
    "        * pour chaque caractère `c` du message codé `message_code` :\n",
    "            * si ce caractère est un espace (`if c == ' '`, recopier l'espace dans le message décodé\n",
    "            * sinon pour chaque caractère `l` de la liste de lettres `alphabet`\n",
    "                * si les caractères `l` et `c` sont égaux (`if l == c`) alors récupérer la position, calculer le nouvelle position avec la clef et le caractère correspondant. Ajouter ce caractère au message\n",
    "    * Afficher le message décodé avec la clef `clef` courant\n",
    "\n",
    "\n",
    "Le message à décoder est le suivant : `message_code = \"moddo vsqxo ocd mobdksxowoxd vk zvec vscslvo no dyedoc\"`"
   ]
  },
  {
   "cell_type": "code",
   "execution_count": 11,
   "metadata": {
    "collapsed": true
   },
   "outputs": [],
   "source": [
    "message_code = \"moddo vsqxo ocd mobdksxowoxd vk zvec vscslvo no dyedoc\""
   ]
  },
  {
   "cell_type": "code",
   "execution_count": 12,
   "metadata": {
    "collapsed": false
   },
   "outputs": [
    {
     "name": "stdout",
     "output_type": "stream",
     "text": [
      "('[', 1, ' ] : ', 'lnccn urpwn nbc lnacjrwnvnwc uj yudb urbrkun mn cxdcnb')\n",
      "('[', 2, ' ] : ', 'kmbbm tqovm mab kmzbiqvmumvb ti xtca tqaqjtm lm bwcbma')\n",
      "('[', 3, ' ] : ', 'jlaal spnul lza jlyahpultlua sh wsbz spzpisl kl avbalz')\n",
      "('[', 4, ' ] : ', 'ikzzk romtk kyz ikxzgotksktz rg vray royohrk jk zuazky')\n",
      "('[', 5, ' ] : ', 'hjyyj qnlsj jxy hjwyfnsjrjsy qf uqzx qnxngqj ij ytzyjx')\n",
      "('[', 6, ' ] : ', 'gixxi pmkri iwx givxemriqirx pe tpyw pmwmfpi hi xsyxiw')\n",
      "('[', 7, ' ] : ', 'fhwwh oljqh hvw fhuwdlqhphqw od soxv olvleoh gh wrxwhv')\n",
      "('[', 8, ' ] : ', 'egvvg nkipg guv egtvckpgogpv nc rnwu nkukdng fg vqwvgu')\n",
      "('[', 9, ' ] : ', 'dfuuf mjhof ftu dfsubjofnfou mb qmvt mjtjcmf ef upvuft')\n",
      "('[', 10, ' ] : ', 'cette ligne est certainement la plus lisible de toutes')\n",
      "('[', 11, ' ] : ', 'bdssd khfmd drs bdqszhmdldms kz oktr khrhakd cd sntsdr')\n",
      "('[', 12, ' ] : ', 'acrrc jgelc cqr acpryglckclr jy njsq jgqgzjc bc rmsrcq')\n",
      "('[', 13, ' ] : ', 'zbqqb ifdkb bpq zboqxfkbjbkq ix mirp ifpfyib ab qlrqbp')\n",
      "('[', 14, ' ] : ', 'yappa hecja aop yanpwejaiajp hw lhqo heoexha za pkqpao')\n",
      "('[', 15, ' ] : ', 'xzooz gdbiz zno xzmovdizhzio gv kgpn gdndwgz yz ojpozn')\n",
      "('[', 16, ' ] : ', 'wynny fcahy ymn wylnuchygyhn fu jfom fcmcvfy xy nionym')\n",
      "('[', 17, ' ] : ', 'vxmmx ebzgx xlm vxkmtbgxfxgm et ienl eblbuex wx mhnmxl')\n",
      "('[', 18, ' ] : ', 'uwllw dayfw wkl uwjlsafwewfl ds hdmk dakatdw vw lgmlwk')\n",
      "('[', 19, ' ] : ', 'tvkkv czxev vjk tvikrzevdvek cr gclj czjzscv uv kflkvj')\n",
      "('[', 20, ' ] : ', 'sujju bywdu uij suhjqyducudj bq fbki byiyrbu tu jekjui')\n"
     ]
    }
   ],
   "source": [
    "for clef in range(20):\n",
    "    clef = clef + 1\n",
    "    message_decode = \"\"\n",
    "    for c in message_code:\n",
    "        if c == \" \":\n",
    "            message_decode = message_decode+c\n",
    "        else:\n",
    "            i = 0\n",
    "            for l in alphabet:\n",
    "                if c == l :\n",
    "                    nouvel_index = (i-clef) % len(alphabet)\n",
    "                    nouvelle_lettre = alphabet[nouvel_index]\n",
    "                    message_decode = message_decode+nouvelle_lettre\n",
    "                i = i + 1\n",
    "    print(\"[\",clef,\" ] : \",message_decode)"
   ]
  },
  {
   "cell_type": "markdown",
   "metadata": {},
   "source": [
    "Question : Quelle est la valeur de la clef de chiffrement utilisée pour coder le message ?"
   ]
  },
  {
   "cell_type": "code",
   "execution_count": null,
   "metadata": {
    "collapsed": true
   },
   "outputs": [],
   "source": []
  }
 ],
 "metadata": {
  "kernelspec": {
   "display_name": "Python 3",
   "language": "python",
   "name": "python3"
  },
  "language_info": {
   "codemirror_mode": {
    "name": "ipython",
    "version": 2
   },
   "file_extension": ".py",
   "mimetype": "text/x-python",
   "name": "python",
   "nbconvert_exporter": "python",
   "pygments_lexer": "ipython2",
   "version": "2.7.13"
  }
 },
 "nbformat": 4,
 "nbformat_minor": 2
}
