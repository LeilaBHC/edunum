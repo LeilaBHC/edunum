{
 "cells": [
  {
   "cell_type": "markdown",
   "metadata": {},
   "source": [
    "# Exercices sur les chaînes de caractères"
   ]
  },
  {
   "cell_type": "markdown",
   "metadata": {},
   "source": [
    "## Trouver l'index (la position) d'un caractère"
   ]
  },
  {
   "cell_type": "markdown",
   "metadata": {},
   "source": [
    "Chaque élément d'une chaîne de caractère possède un index, c'est à dire sa position dans la chaîne. **L'index du premier élément est toujours 0**\n",
    "\n",
    "```python\n",
    "chaine = 'bonjour'\n",
    "```\n",
    "Pour trouver l'index, on utilise la fonction `index()` appliquée à la chaîne de caractères à laquelle on donne en paramètre la lettre recherchée:\n",
    "\n",
    "```python\n",
    "index = chaine.index('n')\n",
    "print(index)\n",
    "```\n",
    "retourne 2. \n",
    "\n",
    "La fonction retourne toujours la première occurence trouvée. \n",
    "\n",
    "Ecrivez un programme qui retourne l'index de la lettre 'j' (3 lignes)"
   ]
  },
  {
   "cell_type": "code",
   "execution_count": 6,
   "metadata": {
    "collapsed": false
   },
   "outputs": [
    {
     "name": "stdout",
     "output_type": "stream",
     "text": [
      "3\n"
     ]
    }
   ],
   "source": [
    "chaine = 'bonjour'\n",
    "index = chaine.index('j')\n",
    "print(index)"
   ]
  },
  {
   "cell_type": "markdown",
   "metadata": {},
   "source": [
    "## Trouver le caractère correspondant à un index\n",
    "\n",
    "On accède aux éléments d'une chaîne de caractères avec les crochets `[index]` (alt + 5 et alt + 6 sur Mac)\n",
    "\n",
    "Ainsi :\n",
    "\n",
    "```python\n",
    "chaine[3]\n",
    "```\n",
    "va retourner"
   ]
  }
 ],
 "metadata": {
  "kernelspec": {
   "display_name": "Python 3",
   "language": "python",
   "name": "python3"
  },
  "language_info": {
   "codemirror_mode": {
    "name": "ipython",
    "version": 2
   },
   "file_extension": ".py",
   "mimetype": "text/x-python",
   "name": "python",
   "nbconvert_exporter": "python",
   "pygments_lexer": "ipython2",
   "version": "2.7.13"
  }
 },
 "nbformat": 4,
 "nbformat_minor": 4
}
