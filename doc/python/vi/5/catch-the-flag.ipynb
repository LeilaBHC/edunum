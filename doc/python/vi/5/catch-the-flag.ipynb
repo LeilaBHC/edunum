{
 "cells": [
  {
   "cell_type": "markdown",
   "id": "angry-start",
   "metadata": {},
   "source": [
    "# Pirater un système informatique"
   ]
  },
  {
   "cell_type": "markdown",
   "id": "specific-pillow",
   "metadata": {},
   "source": [
    "## Objectifs\n",
    "\n",
    "- comprendre l'arborescence des fichiers\n",
    "- quelques commandes UNIX simples\n",
    "- lire et écrire un fichier"
   ]
  },
  {
   "cell_type": "markdown",
   "id": "behavioral-package",
   "metadata": {},
   "source": [
    "### Comprendre l'arborescence des fichiers"
   ]
  },
  {
   "cell_type": "code",
   "execution_count": null,
   "id": "amateur-contamination",
   "metadata": {},
   "outputs": [],
   "source": []
  },
  {
   "cell_type": "code",
   "execution_count": 2,
   "id": "retained-colony",
   "metadata": {},
   "outputs": [
    {
     "name": "stdout",
     "output_type": "stream",
     "text": [
      "123456\n",
      "123456789\n",
      "azerty\n",
      "1234561\n",
      "qwerty\n",
      "marseille\n",
      "000000\n",
      "1234567891\n",
      "doudou\n",
      "12345\n"
     ]
    }
   ],
   "source": [
    "file = open('dossier-a-cracker/passwords.txt', \"r\")\n",
    "lines = file.readlines()\n",
    "file.close()\n",
    "# Afficher les 10 premières lignes\n",
    "for i in range(10):\n",
    "    print(lines[i].strip())"
   ]
  },
  {
   "cell_type": "code",
   "execution_count": 7,
   "id": "surgical-steps",
   "metadata": {},
   "outputs": [
    {
     "name": "stdout",
     "output_type": "stream",
     "text": [
      "/home/vkeller/edunum/doc/python/vi/5\n"
     ]
    }
   ],
   "source": [
    "!pwd"
   ]
  },
  {
   "cell_type": "code",
   "execution_count": 10,
   "id": "negative-finance",
   "metadata": {},
   "outputs": [
    {
     "name": "stdout",
     "output_type": "stream",
     "text": [
      "catch-the-flag.ipynb\n",
      "\n",
      "dossier-a-cracker:\n",
      "confidentiel  passwords  passwords.txt\n",
      "\n",
      "dossier-a-cracker/confidentiel:\n",
      "mails_FBI.zip  original\n",
      "\n",
      "dossier-a-cracker/confidentiel/original:\n",
      "mails_FBI.txt\n",
      "\n",
      "dossier-a-cracker/passwords:\n"
     ]
    }
   ],
   "source": [
    "!ls * -R"
   ]
  },
  {
   "cell_type": "code",
   "execution_count": 12,
   "id": "coated-silence",
   "metadata": {},
   "outputs": [
    {
     "name": "stdout",
     "output_type": "stream",
     "text": [
      "123456789\n",
      "\n"
     ]
    }
   ],
   "source": [
    "print(lines[1])"
   ]
  },
  {
   "cell_type": "code",
   "execution_count": 13,
   "id": "compound-horror",
   "metadata": {},
   "outputs": [
    {
     "data": {
      "text/plain": [
       "20000"
      ]
     },
     "execution_count": 13,
     "metadata": {},
     "output_type": "execute_result"
    }
   ],
   "source": [
    "len(lines)"
   ]
  },
  {
   "cell_type": "code",
   "execution_count": 17,
   "id": "undefined-rochester",
   "metadata": {},
   "outputs": [
    {
     "name": "stdout",
     "output_type": "stream",
     "text": [
      "0\n"
     ]
    }
   ],
   "source": [
    "!unzip -q -P lines[0] dossier-a-cracker/confidentiel/mails_FBI.zip\n",
    "!echo $?"
   ]
  },
  {
   "cell_type": "code",
   "execution_count": null,
   "id": "rapid-prisoner",
   "metadata": {},
   "outputs": [],
   "source": []
  }
 ],
 "metadata": {
  "kernelspec": {
   "display_name": "Python 3",
   "language": "python",
   "name": "python3"
  },
  "language_info": {
   "codemirror_mode": {
    "name": "ipython",
    "version": 3
   },
   "file_extension": ".py",
   "mimetype": "text/x-python",
   "name": "python",
   "nbconvert_exporter": "python",
   "pygments_lexer": "ipython3",
   "version": "3.9.1"
  }
 },
 "nbformat": 4,
 "nbformat_minor": 5
}
