{
 "cells": [
  {
   "cell_type": "markdown",
   "metadata": {},
   "source": [
    "# Coder et décoder comme les Romains avec des fonctions"
   ]
  },
  {
   "cell_type": "markdown",
   "metadata": {},
   "source": [
    "## Objectifs\n",
    "\n",
    "* Application des\n",
    "    * chaînes de caractères\n",
    "    * boucles\n",
    "    * tests conditionnels\n",
    "* Les fonctions"
   ]
  },
  {
   "cell_type": "markdown",
   "metadata": {
    "collapsed": true
   },
   "source": [
    "## Rappel : Comment fonctionne le code de Cesar ?\n",
    "\n",
    "Le **texte chiffré (codé)** s'obtient en remplaçant chaque lettre du **texte clair** original par un décalage à distance fixe, toujours du même côté, dans les lettres de l'alphabet. Cette distance est appelée **clef de chiffrement**\n",
    "\n",
    "![alt text](img/clef.png \"Clef de chiffrement du code de Cesar\")\n",
    "\n",
    "Jules Cesar utilisait souvent 3 comme clef de chiffrement.\n",
    "\n",
    "### Exemple\n",
    "\n",
    "Si la clef de chiffrement vaut **3**, alors on décalera chaque lettre du texte clair de trois sur la droite : \n",
    "\n",
    "- le \"a\" devient \"d\"\n",
    "- le \"b\" devient \"e\"\n",
    "\n",
    "et ainsi de suite. On peut ensuite chiffrer et déchiffrer des messages plus longs :\n",
    "\n",
    "- le texte clair \"bonjour\", chiffré avec la clef 3 devient le texte chiffré \"erqmrxu\"\n"
   ]
  },
  {
   "cell_type": "markdown",
   "metadata": {},
   "source": [
    "## Programme pour chiffrer (coder) un texte clair\n",
    "\n",
    "Les étapes à programmer sont les suivantes :"
   ]
  },
  {
   "cell_type": "markdown",
   "metadata": {},
   "source": [
    "Définissez une clef de chiffrage `clef = ...`"
   ]
  },
  {
   "cell_type": "code",
   "execution_count": null,
   "metadata": {
    "collapsed": true
   },
   "outputs": [],
   "source": [
    "clef ="
   ]
  },
  {
   "cell_type": "markdown",
   "metadata": {},
   "source": [
    "Définissez une liste de caractères `alphabet = ['a','b', etc...]` qui contient toutes les lettres de l'alphabet en minuscule.\n",
    "\n",
    "copiez-collez la liste des caractères ici : ` ['a','b','c','d','e','f','g','h','i','j','k','l','m','n','o','p','q','r','s','t','u','v','w','x','y','z']`"
   ]
  },
  {
   "cell_type": "code",
   "execution_count": null,
   "metadata": {
    "collapsed": true
   },
   "outputs": [],
   "source": []
  },
  {
   "cell_type": "markdown",
   "metadata": {},
   "source": [
    "Définissez un message clair à coder (en utilisant les lettres minuscules mais sans accent)"
   ]
  },
  {
   "cell_type": "code",
   "execution_count": null,
   "metadata": {
    "collapsed": true
   },
   "outputs": [],
   "source": [
    "message_clair = \"ceci est mon premier message a coder\""
   ]
  },
  {
   "cell_type": "markdown",
   "metadata": {},
   "source": [
    "Définissez un message codé vide (nous allons ajouter les lettres codées à cette variable à chaque itération de la boucle)"
   ]
  },
  {
   "cell_type": "code",
   "execution_count": 2,
   "metadata": {
    "collapsed": false
   },
   "outputs": [],
   "source": [
    "message_code = \"\""
   ]
  },
  {
   "cell_type": "markdown",
   "metadata": {},
   "source": [
    "Pour chiffrer un message (un texte en clair), on implémente (écrit) l'algorithme (la suite d'opérations) suivante :\n",
    "\n",
    "1. Boucle sur tous les caractères du message_clair\n",
    "2. On utilise une variable i (un incrément) qui permet de stocker l'index du caractère c \n",
    "3. Si le caractère c est un espace, alors on l'ajoute tel quel au message codé\n",
    "4. Sinon, on boucle sur l'ensemble des caractères de l'alphabet\n",
    "5.      Si le caractère c est égal à l (celui en court de l'alphabet), alors \n",
    "6.           On calcule le nouvel index (l'index du caractère auquel on ajoute la clef de chiffrement puis on applique l'opération modulo avec la longueur de l'alphabet. Cela permet d'avoir une chaine de caractères circulaire c'est--à-dire que le voisin de droite du dernier caractère (z) est le premier (a)\n",
    "7.           On recherche le nouveau caractère avec cet index\n",
    "8.           Et on ajoute cette lettre à la chaine de caractères message_code\n",
    "9.       Sinon alors on incrémente l'index de 1.\n",
    "    \n",
    "Dans le programme suivant, chaque ligne commence par un hashtag, cela signifie que toutes les lignes sont commentées. \n",
    "\n",
    "Votre travail :\n",
    "\n",
    "* lisez l'algorithme ligne par ligne\n",
    "* décommentez uniquement les lignes écrites en Python (qui ne sont donc pas des commentaires en français)"
   ]
  },
  {
   "cell_type": "code",
   "execution_count": 3,
   "metadata": {
    "collapsed": false
   },
   "outputs": [],
   "source": [
    "# Boucle sur tous les caractères du message_clair\n",
    "#for c in message_clair:\n",
    "# On utilise une variable i (un incrément) qui permet de stocker l'index du caractère c \n",
    "#    i = 0\n",
    "# Si le caractère c est un espace, alors on l'ajoute tel quel au message codé\n",
    "#    if c == \" \":\n",
    "#        message_code = message_code+c\n",
    "# Sinon, on boucle sur l'ensemble des caractères de l'alphabet\n",
    "#    else:\n",
    "#        for l in alphabet:\n",
    "# Si le caractère c est égal à l (celui en court de l'alphabet), alors \n",
    "#            if c == l :\n",
    "# On calcule le nouvel index (l'index du caractère auquel on ajoute la clef de chiffrement puis on applique\n",
    "# l'opération modulo avec la longueur de l'alphabet. Cela permet d'avoir une chaine de caractères circulaire\n",
    "# c'est--à-dire que le voisin de droite du dernier caractère (z) est le premier (a)\n",
    "#                nouvel_index = (i+clef) % len(alphabet)\n",
    "# On recherche le nouveau caractère avec cet index\n",
    "#                nouvelle_lettre = alphabet[nouvel_index]\n",
    "# Et on ajoute cette lettre à la chaine de caractères message_code\n",
    "#                message_code = message_code+nouvelle_lettre\n",
    "# Sinon alors on incrémente l'index de 1.\n",
    "#            i = i + 1"
   ]
  },
  {
   "cell_type": "markdown",
   "metadata": {},
   "source": [
    "Affichez la clef, le message clair et le message chiffré (avec la fonction `print()`)"
   ]
  },
  {
   "cell_type": "code",
   "execution_count": null,
   "metadata": {
    "collapsed": false
   },
   "outputs": [],
   "source": [
    "print(\"Clef de chiffrement : \",clef)\n",
    "print(\"Message clair       : \",message_clair)\n",
    "print(\"Message code        : \",message_code)"
   ]
  },
  {
   "cell_type": "markdown",
   "metadata": {},
   "source": [
    "## Programme pour déchiffrer un message codé"
   ]
  },
  {
   "cell_type": "markdown",
   "metadata": {},
   "source": [
    "Le programme pour décoder est identique à celui pour chiffrer, la seule différence est que l'on trouve la nouvelle lettre en décalant vers la gauche (dans la chaîne de caractères), et donc, il faut appliquer une soustraction correspondant à la clef de chiffrement"
   ]
  },
  {
   "cell_type": "markdown",
   "metadata": {},
   "source": [
    "Définissez une variable `message_decode` qui contiendra le message déchiffré (clair) vide"
   ]
  },
  {
   "cell_type": "code",
   "execution_count": null,
   "metadata": {
    "collapsed": true
   },
   "outputs": [],
   "source": [
    "message_decode = \"\""
   ]
  },
  {
   "cell_type": "markdown",
   "metadata": {},
   "source": [
    "Appliquez le même algorithme que pour le chiffrement mais avec une soustration de la clef lors du calcul de la nouvelle position.\n",
    "\n",
    "Votre travail :\n",
    "\n",
    "* Reprenez le programme pour chiffrer un message\n",
    "* Appliquez les changements :\n",
    "    * l'entrée (`message_clair`) devient la sortie (`message_decode`)\n",
    "    * la sortie (`message_code`) devient l'entrée (`message_code`) sur laquelle on boucle\n",
    "    * au lieu d'ajouter la clef de déchiffrement, il faut la soustraire (ligne 8)"
   ]
  },
  {
   "cell_type": "code",
   "execution_count": null,
   "metadata": {
    "collapsed": false
   },
   "outputs": [],
   "source": [
    "#for c in message_code:\n",
    "#    i = \n",
    "#    if c == \" \":\n",
    "#        message_decode = \n",
    "#    else:\n",
    "#        for l in \n",
    "#            if c == l :\n",
    "#                nouvel_index = \n",
    "#                nouvelle_lettre = alphabet[nouvel_index]\n",
    "#                message_decode = message_decode+nouvelle_lettre\n",
    "#            i = "
   ]
  },
  {
   "cell_type": "markdown",
   "metadata": {},
   "source": [
    "Affichez la clef, le message codé et le message décodé (avec la fonction `print()`)"
   ]
  },
  {
   "cell_type": "code",
   "execution_count": null,
   "metadata": {
    "collapsed": false
   },
   "outputs": [],
   "source": [
    "print(\"Clef de chiffrement : \",clef)\n",
    "print(\"Message code        : \",message_code)\n",
    "print(\"Message decode      : \",message_decode)"
   ]
  },
  {
   "cell_type": "markdown",
   "metadata": {},
   "source": [
    "## Que se passe-t-il si on ne connaît pas la clef de chiffrement ?"
   ]
  },
  {
   "cell_type": "markdown",
   "metadata": {},
   "source": [
    "### Attaque en force brute\n",
    "\n",
    "Dans cette dernière partie, nous allons effectuer une attaque dite **en force brute** où vous allez tester un ensemble de clefs de chiffrement et comparer les différents messages décodé produits et sélectionner le bon"
   ]
  },
  {
   "cell_type": "markdown",
   "metadata": {},
   "source": [
    "* Reprenez le programme pour décoder un message chiffré.\n",
    "* Au lieu de fixer la clef de chiffrement, ajoutez une boucle qui va parcourir l'intervalle 0 à 25 à l'aide de la fonction `range(25)`. Cette nouvelle boucle doit être la première à être parcourue. La raison est que la clef est comprise dans cet intervalle (il y a 26 lettres dans l'alphabet)\n",
    "\n",
    "\n",
    "L'algorithme devient :\n",
    "    * pour chaque clef entre 0 et 25\n",
    "        * pour chaque caractère `c` du message codé `message_code` :\n",
    "            * si ce caractère est un espace (`if c == ' '`, recopier l'espace dans le message décodé\n",
    "            * sinon pour chaque caractère `l` de la liste de lettres `alphabet`\n",
    "                * si les caractères `l` et `c` sont égaux (`if l == c`) alors récupérer la position, calculer le nouvelle position avec la clef et le caractère correspondant. Ajouter ce caractère au message\n",
    "    * Afficher le message décodé avec la clef `clef` courant\n",
    "\n",
    "\n",
    "Le message à décoder est le suivant : `message_code = \"moddo vsqxo ocd mobdksxowoxd vk zvec vscslvo no dyedoc\"`"
   ]
  },
  {
   "cell_type": "code",
   "execution_count": null,
   "metadata": {
    "collapsed": true
   },
   "outputs": [],
   "source": [
    "message_code = \"moddo vsqxo ocd mobdksxowoxd vk zvec vscslvo no dyedoc\""
   ]
  },
  {
   "cell_type": "code",
   "execution_count": null,
   "metadata": {
    "collapsed": false
   },
   "outputs": [],
   "source": [
    "# Déclarez une boucle for externe sur l'intervalle des clefs entre 0 et 25\n",
    "#for clef in \n",
    "# Déclarez une chaîne de caractères message_code vide (à laquelle on va ajouter les caractères les un après les \n",
    "# autres)\n",
    "#    message_decode = \n",
    "# Reprenez le code que vous avez écrit pour décoder un message en utilisant la clef de chiffrement de la première\n",
    "# boucle for\n",
    "#    for c in message_code:\n",
    "# ...\n",
    "# ...\n",
    "# ...\n",
    "# Affichez à chaque pas de la boucle sur le clef, le message_decode actuel\n",
    "#    print(\"[\",clef,\" ] : \",message_decode)"
   ]
  },
  {
   "cell_type": "markdown",
   "metadata": {},
   "source": [
    "Question : Quelle est la valeur de la clef de chiffrement utilisée pour coder le message ?"
   ]
  },
  {
   "cell_type": "markdown",
   "metadata": {
    "collapsed": true
   },
   "source": [
    "### Attaque par analyse fréquentielle (exercice difficile)\n",
    "\n",
    "Le code de Cesar peut être attaqué par la méthode dite de **l'analyse fréquentielle** décrite par le savant arabe Al-Kindi au IX<sup>ème</sup> siècle. Elle consiste à observer la fréquence d'apparition de chaque lettre dans un grand nombre de textes. Il faut connaître la langue dans laquelle a été rédigée le texte considéré. \n",
    "\n",
    "Pour le français, la fréquence d'apparition des lettres est la suivante :\n",
    "\n",
    "| A | B | C | D | E | F | G | H | I | J | K | L | M | N | O | P | Q | R | S | T | U | V | W | X | Y | Z |\n",
    "|:---|:---|:---|:---|:---|:---|:---|:---|:---|:---|:---|:---|:---|:---|:---|:---|:---|:---|:---|:---|:---|:---|:---|:---|:---|:---|\n",
    "| 9,42 | 1,02 | 2,64 | 3,39 | 15,87 | 0,95 | 1,04 | 0,77 | 8,41 | 0,89 | 0,00 | 5,34 | 3,24 | 7,15 | 5,14 | 2,86 | 1,06 | 6,46 | 7,90 | 7,26 | 6,24 | 2,15 | 0,00 | 0,30 | 0,24 | 0,32 | \n",
    "\n",
    "Cela signifie que la lettre qui apparaît le plus souvent est le E. Si on analyse un texte chiffré donné et que \n",
    "1. on compte toutes les lettres du texte\n",
    "2. on sélectionne celle qui apparait le plus souvent (on connait sa position)\n",
    "3. on calcule le décalage entre cette lettre et le E (index de E = 4)\n",
    "4. on applique ce décalage comme clef de déchiffrement"
   ]
  },
  {
   "cell_type": "markdown",
   "metadata": {},
   "source": [
    "#### Deux fonctions utiles : max() et index()\n",
    "\n",
    "`max()` renvoie la valeur maximum d'une liste\n",
    "`maliste.index(monelement)` renvoie l'index de `monelement` dans la liste `maliste`\n",
    "\n",
    "ainsi, si `maliste = [1,5,3,7,2,3]`, alors `max(maliste)` retourne la valeur `7` et `maliste.index(7)` retourne `3` qui est l'index (la position) de l'élément 7.\n",
    "\n",
    "On peut combiner les deux fonction pour trouver la position de la valeur maximum d'une liste avec `maliste.index(max(maliste))`"
   ]
  },
  {
   "cell_type": "code",
   "execution_count": null,
   "metadata": {
    "collapsed": false
   },
   "outputs": [],
   "source": [
    "frequence = [0,0,0,0,0,0,0,0,0,0,0,0,0,0,0,0,0,0,0,0,0,0,0,0,0,0]\n",
    "\n",
    "alphabet = \"abcdefghijklmnopqrstuvwxyz\"\n",
    "message_code = \"moddo vsqxo ocd mobdksxowoxd vk zvec vscslvo no dyedoc\"\n",
    "\n",
    "for c in message_code:\n",
    "    i = 0\n",
    "    for l in alphabet:\n",
    "        if c == l :\n",
    "            frequence[i] = frequence[i] + 1\n",
    "        i = i + 1\n",
    "\n",
    "index_max = frequence.index(max(frequence))\n",
    "index_lettre_e = 4\n",
    "clef = index_max - index_lettre_e\n",
    "\n",
    "message_decode = \"\"\n",
    "for c in message_code:\n",
    "    if c == \" \":\n",
    "        message_decode = message_decode+c\n",
    "    else:\n",
    "        i = 0\n",
    "        for l in alphabet:\n",
    "            if c == l :\n",
    "                nouvel_index = (i-clef) % len(alphabet)\n",
    "                nouvelle_lettre = alphabet[nouvel_index]\n",
    "                message_decode = message_decode+nouvelle_lettre\n",
    "            i = i + 1\n",
    "print(\"Message decode : \",message_decode)"
   ]
  },
  {
   "cell_type": "code",
   "execution_count": null,
   "metadata": {
    "collapsed": true
   },
   "outputs": [],
   "source": []
  }
 ],
 "metadata": {
  "kernelspec": {
   "display_name": "Python 3",
   "language": "python",
   "name": "python3"
  },
  "language_info": {
   "codemirror_mode": {
    "name": "ipython",
    "version": 2
   },
   "file_extension": ".py",
   "mimetype": "text/x-python",
   "name": "python",
   "nbconvert_exporter": "python",
   "pygments_lexer": "ipython2",
   "version": "2.7.13"
  }
 },
 "nbformat": 4,
 "nbformat_minor": 2
}
