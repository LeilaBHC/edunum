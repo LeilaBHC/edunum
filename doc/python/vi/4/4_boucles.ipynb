{
 "cells": [
  {
   "cell_type": "markdown",
   "metadata": {},
   "source": [
    "# Exercice sur la boucle for\n",
    "\n",
    "Objectif:\n",
    "\n",
    "boucles `for` avec une chaîne de caractères"
   ]
  },
  {
   "cell_type": "markdown",
   "metadata": {},
   "source": [
    "## Boucle for\n",
    "\n",
    "Une boucle `for` permet de **répéter une suite d'instructions** en parcourant une chaîne, caractère par caractère.\n",
    "\n",
    "En Python on l'écrit :\n",
    "\n",
    "```python\n",
    "chaine = 'ma chaine'\n",
    "for c in chaine:\n",
    "    instruction 1\n",
    "    instruction 2\n",
    "    instruction 3\n",
    "```\n",
    "\n",
    "La boucle `for` possède donc un **début** (le premier caractère) et une **fin** (le dernier caractère)."
   ]
  },
  {
   "cell_type": "markdown",
   "metadata": {},
   "source": [
    "## Boucle for avec une chaîne de caractères"
   ]
  },
  {
   "cell_type": "markdown",
   "metadata": {},
   "source": [
    "Déclarez une variable appelée `chaine` qui contient le texte `'bonjour'`"
   ]
  },
  {
   "cell_type": "code",
   "execution_count": null,
   "metadata": {
    "collapsed": false,
    "jupyter": {
     "outputs_hidden": false
    }
   },
   "outputs": [],
   "source": []
  },
  {
   "cell_type": "markdown",
   "metadata": {},
   "source": [
    "Ecrivez une boucle `for` qui parcourt cette chaîne de caractères et affiche chaque caractère"
   ]
  },
  {
   "cell_type": "code",
   "execution_count": null,
   "metadata": {
    "collapsed": false,
    "jupyter": {
     "outputs_hidden": false
    }
   },
   "outputs": [],
   "source": []
  }
 ],
 "metadata": {
  "kernelspec": {
   "display_name": "Python 3",
   "language": "python",
   "name": "python3"
  },
  "language_info": {
   "codemirror_mode": {
    "name": "ipython",
    "version": 2
   },
   "file_extension": ".py",
   "mimetype": "text/x-python",
   "name": "python",
   "nbconvert_exporter": "python",
   "pygments_lexer": "ipython2",
   "version": "2.7.13"
  }
 },
 "nbformat": 4,
 "nbformat_minor": 4
}
