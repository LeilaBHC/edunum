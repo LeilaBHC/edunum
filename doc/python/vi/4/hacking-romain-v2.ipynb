{
 "cells": [
  {
   "cell_type": "markdown",
   "metadata": {},
   "source": [
    "# Coder et décoder comme les Romains"
   ]
  },
  {
   "cell_type": "markdown",
   "metadata": {},
   "source": [
    "## Objectifs\n",
    "\n",
    "* chaînes de caractères\n",
    "* boucles\n",
    "* tests conditionnels"
   ]
  },
  {
   "cell_type": "markdown",
   "metadata": {},
   "source": [
    "## Le code de César\n",
    "\n",
    "**Jules César** était un général Romain (il n'a jamais été empereur) qui a vécu au 1er siècle avant Jésus-Christ. Comme chef militaire, il souhaitait pouvoir communiquer avec ses officiers de plus hauts rangs localisés aux quatre coins de son immense empire. Notamment avec Ciceron durant la Guerre des Gaules. \n",
    "\n",
    "![Jules Cesar](https://upload.wikimedia.org/wikipedia/commons/thumb/9/9d/Portrait_of_Julius_Caesar_%281st_cent._B.C.%29_at_the_Archaeological_Museum_of_Sparta_on_15_May_2019.jpg/349px-Portrait_of_Julius_Caesar_%281st_cent._B.C.%29_at_the_Archaeological_Museum_of_Sparta_on_15_May_2019.jpg)\n",
    "\n",
    "Pour qu'un éventuel ennemi ne s'empare jamais du message de César, il a décidé d'utiliser une technique de **cryptage** afin de rendre le message illisible si on ne connaît pas la **clef de chiffrement**. C'est l'une des toutes premières applications de la **cryptographie**. "
   ]
  },
  {
   "cell_type": "code",
   "execution_count": null,
   "metadata": {
    "collapsed": false,
    "jupyter": {
     "outputs_hidden": false
    },
    "slideshow": {
     "slide_type": "-"
    }
   },
   "outputs": [],
   "source": [
    "from IPython.display import YouTubeVideo\n",
    "\n",
    "YouTubeVideo('vT8q1mXeZ2A', width=960, height=540)"
   ]
  },
  {
   "cell_type": "markdown",
   "metadata": {},
   "source": [
    "## Comment fonctionne le code de Cesar ?\n",
    "\n",
    "Le **texte chiffré (codé)** s'obtient en remplaçant chaque lettre du **texte clair** original par un décalage à distance fixe, toujours du même côté, dans les lettres de l'alphabet. Cette distance est appelée **clef de chiffrement**\n",
    "\n",
    "![alt text](https://upload.wikimedia.org/wikipedia/commons/thumb/2/2b/Caesar3.svg/640px-Caesar3.svg.png)\n",
    "\n",
    "Par exemple, si la clef de chiffrement vaut **1**, alors on décalera chaque lettre du texte clair de un sur la droite : \n",
    "\n",
    "- le \"a\" devient \"b\"\n",
    "- le \"b\" devient \"c\"\n",
    "\n",
    "et ainsi de suite. On peut ensuite chiffrer et déchiffrer des messages plus longs :\n",
    "\n",
    "- le texte clair \"inf\", chiffré avec la clef 1 devient le texte chiffré \"jog\""
   ]
  },
  {
   "cell_type": "markdown",
   "metadata": {},
   "source": [
    "## Encoder une lettre\n",
    "\n",
    "C'est la première étape. \n",
    "\n",
    "Nous allons travailler avec deux chaînes de caractères. `alphabet_clair` contient toutes les lettres de l'alphabet en minuscule et `alphabet_code` qui contient toutes les lettres codée \n",
    "\n",
    "| index | 0 | 1 | 2 | 3 | 4 | 5 | 6 | 7 | 8 | 9 | 10 | 11 | 12 | 13 | 14 | 15 | 16 | 17 | 18 | 19 | 20 | 21 | 22 | 23 | 24 | 25 |\n",
    "|:---|:---|:---|:---|:---|:---|:---|:---|:---|:---|:---|:---|:---|:---|:---|:---|:---|:---|:---|:---|:---|:---|:---|:---|:---|:---|:---|\n",
    "| `alphabet_clair` | a | b | c | d | e | f | g | h | i | j | k | l | m | n | o | p | q | r | s | t | u | v | w | x | y | z |\n",
    "| `alphabet_code` | b | c | d | e | f | g | h | i | j | k | l | m | n | o | p | q | r | s | t | u | v | w | x | y | z | a |\n",
    "\n",
    "\n",
    "Pour encoder une lettre, il faut donc:\n",
    "\n",
    "1. trouver l'index (la position) de la lettre dans l'alphabet clair\n",
    "1. trouver à quelle lettre correspond cet index dans l'alphabet codé\n",
    "\n",
    "Déclarez une variable `alphabet_clair` de type chaîne de caractères qui contient toutes les lettres de l'alphabet en minuscules. Cette chaîne a une longueur de 26 !"
   ]
  },
  {
   "cell_type": "code",
   "execution_count": null,
   "metadata": {
    "collapsed": true,
    "jupyter": {
     "outputs_hidden": true
    }
   },
   "outputs": [],
   "source": []
  },
  {
   "cell_type": "markdown",
   "metadata": {},
   "source": [
    "Trouvez l'index (la position) de la lettre `h` dans la variable `alphabet_clair` à l'aide de la fonction `alphabet_clair.index('h')`"
   ]
  },
  {
   "cell_type": "code",
   "execution_count": null,
   "metadata": {
    "collapsed": false,
    "jupyter": {
     "outputs_hidden": false
    }
   },
   "outputs": [],
   "source": []
  },
  {
   "cell_type": "markdown",
   "metadata": {},
   "source": [
    "Définissez une nouvelle chaîne de caractères `alphabet_code` qui contient toutes les lettres de l'alphabet minuscules et décalées de 1 : a devient b, b devient c, etc.. jusqu'à z qui devient a. Cette chaîne a une longueur de 26 !"
   ]
  },
  {
   "cell_type": "code",
   "execution_count": null,
   "metadata": {
    "collapsed": true,
    "jupyter": {
     "outputs_hidden": true
    }
   },
   "outputs": [],
   "source": []
  },
  {
   "cell_type": "markdown",
   "metadata": {},
   "source": [
    "Trouvez la lettre codée pour 'h' qui a l'index 7"
   ]
  },
  {
   "cell_type": "code",
   "execution_count": null,
   "metadata": {
    "collapsed": false,
    "jupyter": {
     "outputs_hidden": false
    }
   },
   "outputs": [],
   "source": []
  },
  {
   "cell_type": "markdown",
   "metadata": {},
   "source": [
    "## Décoder une lettre\n",
    "\n",
    "C'est le processus inverse.\n",
    "\n",
    "Pour décoder une lettre, il faut:\n",
    "\n",
    "1. trouver l'index de la lettre dans l'alphabet codé\n",
    "1. trouver à quelle lettre correspond cet index dans l'alphabet clair\n",
    "\n",
    "Trouvez l'index de la lettre codée 'i'"
   ]
  },
  {
   "cell_type": "code",
   "execution_count": null,
   "metadata": {
    "collapsed": false,
    "jupyter": {
     "outputs_hidden": false
    }
   },
   "outputs": [],
   "source": []
  },
  {
   "cell_type": "markdown",
   "metadata": {},
   "source": [
    "Trouvez à quelle lettre dans l'alphabet clair correspond l'index 7"
   ]
  },
  {
   "cell_type": "code",
   "execution_count": null,
   "metadata": {
    "collapsed": false,
    "jupyter": {
     "outputs_hidden": false
    }
   },
   "outputs": [],
   "source": []
  },
  {
   "cell_type": "markdown",
   "metadata": {},
   "source": [
    "## Coder une phrase\n",
    "\n",
    "Une phrase c'est plusieurs lettres. Nous allons donc coder chaque lettre de la phrase. Attention : un **espace** (le caractère `' '`) en clair reste un **espace** en codé.\n",
    "\n",
    "Déclarez un message en clair `message_clair = 'gymnase du bugnon'`"
   ]
  },
  {
   "cell_type": "code",
   "execution_count": null,
   "metadata": {
    "collapsed": false,
    "jupyter": {
     "outputs_hidden": false
    }
   },
   "outputs": [],
   "source": []
  },
  {
   "cell_type": "markdown",
   "metadata": {},
   "source": [
    "Pour ajouter un caractère à une chaîne de caractères (même vide), on utilise **l'opérateur de concaténation `+`**:\n",
    "\n",
    "```python\n",
    "message = ''\n",
    "message = message + 'b'\n",
    "message = message + 'o'\n",
    "message = message + 'n'\n",
    "print(message)\n",
    "```\n",
    "va afficher `bon`\n",
    "\n",
    "Déclarez un message codé vide `message_code = ''`. Cette chaîne de caractère contiendra le message codé (on ajoute au fur et à mesure les lettres codées)."
   ]
  },
  {
   "cell_type": "code",
   "execution_count": null,
   "metadata": {},
   "outputs": [],
   "source": []
  },
  {
   "cell_type": "markdown",
   "metadata": {},
   "source": [
    "Une **boucle for** permet de répéter les instructions pour encoder les lettres.\n",
    "\n",
    "Parcourir une chaîne de caractères avec une boucle for s'écrit :\n",
    "\n",
    "```python\n",
    "for c in message_clair:\n",
    "```\n",
    "\n",
    "Par exemple, si `message_clair = \"bon jour\"`, alors la variable `c` de la boucle va prendre successivement les valeurs `b`, `o`, `n`, ` `, `j`, `o`, `u`,`r`. Le 4ème caractère est un espace. \n",
    "\n",
    "**Le caractère espace** dans le `message_clair` reste un **caractère espace** dans le `message_code`. On arrive donc au test dans la boucle :\n",
    "\n",
    "si `c` est un espace, alors on ajoute un espace à `message_code`, sinon on ajoute la lettre encodée à `message_code`\n",
    "\n",
    "\n",
    "```python\n",
    "for c in message_clair:\n",
    "    if c == ' ' \n",
    "        message_code = message_code + ' '\n",
    "    else:\n",
    "        message_code = message_code + caractere_encode\n",
    "```\n",
    "Ecrivez cette **boucle for** en utilisant l'encodage d'une seule lettre pour déterminer le caractère à ajouter `caractere_encode`\n"
   ]
  },
  {
   "cell_type": "code",
   "execution_count": null,
   "metadata": {},
   "outputs": [],
   "source": []
  },
  {
   "cell_type": "markdown",
   "metadata": {},
   "source": [
    "Affichez le message clair et le message codé avec la fonction `print()`"
   ]
  },
  {
   "cell_type": "code",
   "execution_count": null,
   "metadata": {},
   "outputs": [],
   "source": []
  },
  {
   "cell_type": "markdown",
   "metadata": {},
   "source": [
    "## Programme pour chiffrer (coder) un texte clair\n",
    "\n",
    "Si l'on met toutes les instructions à la suite, on obtient le programme suivant qui perme de coder un texte en clair :"
   ]
  },
  {
   "cell_type": "code",
   "execution_count": null,
   "metadata": {
    "collapsed": false,
    "jupyter": {
     "outputs_hidden": false
    }
   },
   "outputs": [],
   "source": [
    "alphabet_clair = 'abcdefghijklmnopqrstuvwxyz'\n",
    "alphabet_code = 'bcdefghijklmnopqrstuvwxyza'\n",
    "message_clair = 'gymnase du bugnon'\n",
    "message_code = ''\n",
    "for c in message_clair:\n",
    "    if c == ' ':\n",
    "        message_code = message_code+c\n",
    "    else:\n",
    "        index = alphabet_clair.index(c)\n",
    "        message_code = message_code + alphabet_code[index]\n",
    "print(message_clair)\n",
    "print(message_code)"
   ]
  },
  {
   "cell_type": "markdown",
   "metadata": {},
   "source": [
    "## Programme pour déchiffrer un texte codé\n",
    "\n",
    "On rappelle que pour décoder une lettre, on applique le processus inverse que pour celui de coder.\n",
    "\n",
    "### Décoder une lettre\n",
    "\n",
    "Si la lettre à décoder est un espace, alors il reste un espace. Sinon il faut rechercher l'index de la lettre codée dans l'alphabet codé puis rechercher la lettre correspondant à cet index dans l'alphabet en clair. \n",
    "\n",
    "En python :\n",
    "\n",
    "```python\n",
    "    if c == ' ':\n",
    "        message_clair = message_clair+c\n",
    "    else:\n",
    "        index = alphabet_code.index(c)\n",
    "        message_clair = message_clair + alphabet_clair[index]\n",
    "```\n",
    "\n",
    "Modifiez le programme suivant pour qu'il décode le message codé donné"
   ]
  },
  {
   "cell_type": "code",
   "execution_count": 7,
   "metadata": {
    "collapsed": false,
    "jupyter": {
     "outputs_hidden": false
    }
   },
   "outputs": [
    {
     "name": "stdout",
     "output_type": "stream",
     "text": [
      "hznobtf ef dibncmboeft\n",
      "\n"
     ]
    }
   ],
   "source": [
    "alphabet_clair = 'abcdefghijklmnopqrstuvwxyz'\n",
    "alphabet_code = 'bcdefghijklmnopqrstuvwxyza'\n",
    "message_clair = ''\n",
    "message_code = 'hznobtf ef dibncmboeft'\n",
    "for c in message_clair:\n",
    "    if c == ' ':\n",
    "        message_code = message_code+c\n",
    "    else:\n",
    "        index = alphabet_clair.index(c)\n",
    "        message_code = message_code + alphabet_code[index]\n",
    "print(message_code)\n",
    "print(message_clair)"
   ]
  },
  {
   "cell_type": "code",
   "execution_count": null,
   "metadata": {},
   "outputs": [],
   "source": []
  }
 ],
 "metadata": {
  "kernelspec": {
   "display_name": "Python 3",
   "language": "python",
   "name": "python3"
  },
  "language_info": {
   "codemirror_mode": {
    "name": "ipython",
    "version": 3
   },
   "file_extension": ".py",
   "mimetype": "text/x-python",
   "name": "python",
   "nbconvert_exporter": "python",
   "pygments_lexer": "ipython3",
   "version": "3.9.1"
  },
  "toc-autonumbering": false,
  "toc-showcode": false,
  "toc-showmarkdowntxt": false
 },
 "nbformat": 4,
 "nbformat_minor": 4
}
