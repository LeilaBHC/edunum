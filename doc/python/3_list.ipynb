{
 "cells": [
  {
   "cell_type": "markdown",
   "id": "legitimate-earth",
   "metadata": {},
   "source": [
    "# Listes\n",
    "\n",
    "Une liste est un **ensemble** d'éléments\n",
    "\n",
    "![list](img/list.jpg) \n",
    "\n",
    "Les éléments d'une liste sont:\n",
    "- ordonnés\n",
    "- séparés par une virgule `,`\n",
    "- délimités par des crochets `[]`"
   ]
  },
  {
   "cell_type": "markdown",
   "id": "green-wallace",
   "metadata": {},
   "source": [
    "Voici une liste avec 3 éléments:"
   ]
  },
  {
   "cell_type": "code",
   "execution_count": 1,
   "id": "fresh-reader",
   "metadata": {},
   "outputs": [
    {
     "data": {
      "text/plain": [
       "[2, 3, 5]"
      ]
     },
     "execution_count": 1,
     "metadata": {},
     "output_type": "execute_result"
    }
   ],
   "source": [
    "[2, 3, 5]"
   ]
  },
  {
   "cell_type": "markdown",
   "id": "mysterious-crossing",
   "metadata": {},
   "source": [
    "Une liste est ordonnée.  \n",
    "Deux listes avec les mêmes éléments mais un ordre différent sont différentes."
   ]
  },
  {
   "cell_type": "code",
   "execution_count": 2,
   "id": "conventional-median",
   "metadata": {},
   "outputs": [
    {
     "data": {
      "text/plain": [
       "False"
      ]
     },
     "execution_count": 2,
     "metadata": {},
     "output_type": "execute_result"
    }
   ],
   "source": [
    "[1, 2] == [2, 1]"
   ]
  },
  {
   "cell_type": "markdown",
   "id": "plain-elephant",
   "metadata": {},
   "source": [
    "## Nouveaux concepts\n",
    "\n",
    "Dans ce chapitre vous allez découvrir les concepts de\n",
    "\n",
    "- création de liste: `a = [1, 2, 3]`\n",
    "- indexage d'un élément: `a[0]`\n",
    "\n",
    "Les opérateurs de\n",
    "- concaténation `+`\n",
    "- répétition `*`\n",
    "\n",
    "Les fonctions:\n",
    "- `len()` pour retourner la longeur de la liste\n",
    "- `list()` pour transformer une séquence en liste\n",
    "- `range()` pour produire une plage d'entiers"
   ]
  },
  {
   "cell_type": "markdown",
   "id": "continental-laptop",
   "metadata": {},
   "source": [
    "## Exemples de listes\n",
    "Voici une liste avec des nombres."
   ]
  },
  {
   "cell_type": "code",
   "execution_count": 3,
   "id": "premium-devices",
   "metadata": {},
   "outputs": [
    {
     "data": {
      "text/plain": [
       "[2, 3, 5, 7, 11, 13]"
      ]
     },
     "execution_count": 3,
     "metadata": {},
     "output_type": "execute_result"
    }
   ],
   "source": [
    "primes = [2, 3, 5, 7, 11, 13]\n",
    "primes"
   ]
  },
  {
   "cell_type": "markdown",
   "id": "purple-operations",
   "metadata": {},
   "source": [
    "Voici une liste avec des chaines de caractères."
   ]
  },
  {
   "cell_type": "code",
   "execution_count": 4,
   "id": "typical-coral",
   "metadata": {},
   "outputs": [
    {
     "data": {
      "text/plain": [
       "['pomme', 'banane', 'poire', 'orange']"
      ]
     },
     "execution_count": 4,
     "metadata": {},
     "output_type": "execute_result"
    }
   ],
   "source": [
    "fruits = ['pomme', 'banane', 'poire', 'orange']\n",
    "fruits"
   ]
  },
  {
   "cell_type": "markdown",
   "id": "black-seller",
   "metadata": {},
   "source": [
    "Une liste peux contenir un mélange d'objets de types différents."
   ]
  },
  {
   "cell_type": "code",
   "execution_count": 5,
   "id": "prescription-pharmacy",
   "metadata": {},
   "outputs": [
    {
     "data": {
      "text/plain": [
       "[123, 'hello', True, False]"
      ]
     },
     "execution_count": 5,
     "metadata": {},
     "output_type": "execute_result"
    }
   ],
   "source": [
    "mix = [123, 'hello', True, False]\n",
    "mix"
   ]
  },
  {
   "cell_type": "markdown",
   "id": "brilliant-installation",
   "metadata": {},
   "source": [
    "Une liste peux même contenir une deuxième liste."
   ]
  },
  {
   "cell_type": "code",
   "execution_count": 6,
   "id": "difficult-gather",
   "metadata": {},
   "outputs": [
    {
     "data": {
      "text/plain": [
       "[2, 3, [0, 1]]"
      ]
     },
     "execution_count": 6,
     "metadata": {},
     "output_type": "execute_result"
    }
   ],
   "source": [
    "[2, 3, [0, 1]]"
   ]
  },
  {
   "cell_type": "markdown",
   "id": "exterior-power",
   "metadata": {},
   "source": [
    "Sur un Mac vous pouvez afficher les *emoji* par\n",
    " - Choisir * > Préférences Système... > Clavier* \n",
    " - Cocher *Afficher les visualisateurs de claver et d'emoji dans la barre de menu*\n"
   ]
  },
  {
   "cell_type": "code",
   "execution_count": 7,
   "id": "hearing-combat",
   "metadata": {},
   "outputs": [
    {
     "data": {
      "text/plain": [
       "['🐶', '🐱', '🐭', '🐶', '🐱', '🐭', '🐶', '🐱', '🐭']"
      ]
     },
     "execution_count": 7,
     "metadata": {},
     "output_type": "execute_result"
    }
   ],
   "source": [
    "emojis = ['🐶', '🐱', '🐭']\n",
    "emojis * 3"
   ]
  },
  {
   "cell_type": "markdown",
   "id": "polar-florida",
   "metadata": {},
   "source": [
    "Et voici une liste vide."
   ]
  },
  {
   "cell_type": "code",
   "execution_count": 8,
   "id": "fuzzy-transfer",
   "metadata": {},
   "outputs": [
    {
     "data": {
      "text/plain": [
       "[]"
      ]
     },
     "execution_count": 8,
     "metadata": {},
     "output_type": "execute_result"
    }
   ],
   "source": [
    "[]"
   ]
  },
  {
   "cell_type": "markdown",
   "id": "placed-league",
   "metadata": {},
   "source": [
    "## Operateur de concaténation\n",
    "\n",
    "L'opérateur `+` permet de concaténer des listes."
   ]
  },
  {
   "cell_type": "code",
   "execution_count": 9,
   "id": "permanent-praise",
   "metadata": {},
   "outputs": [
    {
     "data": {
      "text/plain": [
       "[2, 3, 5, 7, 11, 13, 'pomme', 'banane', 'poire', 'orange']"
      ]
     },
     "execution_count": 9,
     "metadata": {},
     "output_type": "execute_result"
    }
   ],
   "source": [
    "primes + fruits"
   ]
  },
  {
   "cell_type": "code",
   "execution_count": 10,
   "id": "naked-appreciation",
   "metadata": {},
   "outputs": [
    {
     "data": {
      "text/plain": [
       "['pomme', 'banane', 'poire', 'orange', 123, 'hello', True, False]"
      ]
     },
     "execution_count": 10,
     "metadata": {},
     "output_type": "execute_result"
    }
   ],
   "source": [
    "d = fruits + mix\n",
    "d"
   ]
  },
  {
   "cell_type": "markdown",
   "id": "neither-daisy",
   "metadata": {},
   "source": [
    "## Operateur de répétition\n",
    "\n",
    "L'opérateur `*` permet de concaténer des listes.  \n",
    "Nous pouvons facilement créer des listes d'objets identiques."
   ]
  },
  {
   "cell_type": "code",
   "execution_count": 11,
   "id": "instrumental-thriller",
   "metadata": {},
   "outputs": [
    {
     "data": {
      "text/plain": [
       "[1, 1, 1, 1, 1, 1, 1, 1, 1, 1, 1, 1, 1]"
      ]
     },
     "execution_count": 11,
     "metadata": {},
     "output_type": "execute_result"
    }
   ],
   "source": [
    "uns = [1] * 13\n",
    "uns"
   ]
  },
  {
   "cell_type": "markdown",
   "id": "expired-coverage",
   "metadata": {},
   "source": [
    "Voici la liste **fruits** répétée deux fois."
   ]
  },
  {
   "cell_type": "code",
   "execution_count": 12,
   "id": "metallic-tribune",
   "metadata": {},
   "outputs": [
    {
     "data": {
      "text/plain": [
       "['pomme', 'banane', 'poire', 'orange', 'pomme', 'banane', 'poire', 'orange']"
      ]
     },
     "execution_count": 12,
     "metadata": {},
     "output_type": "execute_result"
    }
   ],
   "source": [
    "g = fruits * 2\n",
    "g"
   ]
  },
  {
   "cell_type": "markdown",
   "id": "lonely-valve",
   "metadata": {},
   "source": [
    "## Index\n",
    "\n",
    "Un index entre crochets permet d'accéder à un élément d'une liste.  \n",
    "Les indexes commencent à 0. Le premier élément a donc l'index 0."
   ]
  },
  {
   "cell_type": "code",
   "execution_count": 13,
   "id": "level-reform",
   "metadata": {},
   "outputs": [
    {
     "data": {
      "text/plain": [
       "'pomme'"
      ]
     },
     "execution_count": 13,
     "metadata": {},
     "output_type": "execute_result"
    }
   ],
   "source": [
    "fruits[0]"
   ]
  },
  {
   "cell_type": "markdown",
   "id": "suffering-compact",
   "metadata": {},
   "source": [
    "Le deuxième élément d'une liste a l'index 1."
   ]
  },
  {
   "cell_type": "code",
   "execution_count": 14,
   "id": "close-performer",
   "metadata": {},
   "outputs": [
    {
     "data": {
      "text/plain": [
       "'banane'"
      ]
     },
     "execution_count": 14,
     "metadata": {},
     "output_type": "execute_result"
    }
   ],
   "source": [
    "fruits[1]"
   ]
  },
  {
   "cell_type": "markdown",
   "id": "reliable-airfare",
   "metadata": {},
   "source": [
    "Un index négative permet d'adresser les éléments d'une liste depuis sa fin."
   ]
  },
  {
   "cell_type": "code",
   "execution_count": 15,
   "id": "outer-blend",
   "metadata": {},
   "outputs": [
    {
     "data": {
      "text/plain": [
       "'orange'"
      ]
     },
     "execution_count": 15,
     "metadata": {},
     "output_type": "execute_result"
    }
   ],
   "source": [
    "fruits[-1]"
   ]
  },
  {
   "cell_type": "markdown",
   "id": "broken-softball",
   "metadata": {},
   "source": [
    "Voici l'avant-dernier fruit."
   ]
  },
  {
   "cell_type": "code",
   "execution_count": 16,
   "id": "broken-settle",
   "metadata": {},
   "outputs": [
    {
     "data": {
      "text/plain": [
       "'poire'"
      ]
     },
     "execution_count": 16,
     "metadata": {},
     "output_type": "execute_result"
    }
   ],
   "source": [
    "fruits[-2]"
   ]
  },
  {
   "cell_type": "markdown",
   "id": "developing-treasure",
   "metadata": {},
   "source": [
    "## Affectation d'un élément\n",
    "\n",
    "L'affectation suivante change le deuxième élément en *ananas*."
   ]
  },
  {
   "cell_type": "code",
   "execution_count": 17,
   "id": "exciting-grocery",
   "metadata": {},
   "outputs": [
    {
     "data": {
      "text/plain": [
       "['pomme', 'ananas', 'poire', 'orange']"
      ]
     },
     "execution_count": 17,
     "metadata": {},
     "output_type": "execute_result"
    }
   ],
   "source": [
    "fruits[1] = 'ananas'\n",
    "fruits"
   ]
  },
  {
   "cell_type": "markdown",
   "id": "digital-summit",
   "metadata": {},
   "source": [
    "L'affectation suivante transforme le dernier élément en *cerise*."
   ]
  },
  {
   "cell_type": "code",
   "execution_count": 18,
   "id": "packed-vegetation",
   "metadata": {},
   "outputs": [
    {
     "data": {
      "text/plain": [
       "['pomme', 'ananas', 'poire', 'cerise']"
      ]
     },
     "execution_count": 18,
     "metadata": {},
     "output_type": "execute_result"
    }
   ],
   "source": [
    "fruits[-1] = 'cerise'\n",
    "fruits"
   ]
  },
  {
   "cell_type": "markdown",
   "id": "vulnerable-interpretation",
   "metadata": {},
   "source": [
    "## Plages\n",
    "\n",
    "La fonction `range()` crée une plage d'entier. Nous allons la revoir avec les boucles `for`. \n",
    "Pour afficher les éléments de la plage, nous entourons `range()` par la fonction `list()`\n",
    "\n",
    "La fonction `range(n)` produit une plage de 0 à n-1.  \n",
    "Voici la plage des nombres de 0 à 5."
   ]
  },
  {
   "cell_type": "code",
   "execution_count": 19,
   "id": "structural-configuration",
   "metadata": {},
   "outputs": [
    {
     "data": {
      "text/plain": [
       "[0, 1, 2, 3, 4, 5]"
      ]
     },
     "execution_count": 19,
     "metadata": {},
     "output_type": "execute_result"
    }
   ],
   "source": [
    "list(range(6))"
   ]
  },
  {
   "cell_type": "markdown",
   "id": "applicable-flooring",
   "metadata": {},
   "source": [
    "La fonction `range(m, n)` produit une plage de **m** à **n-1**.  \n",
    "Voici la plage des nombres de 10 à 19."
   ]
  },
  {
   "cell_type": "code",
   "execution_count": 20,
   "id": "wound-parcel",
   "metadata": {},
   "outputs": [
    {
     "data": {
      "text/plain": [
       "[10, 11, 12, 13, 14, 15, 16, 17, 18, 19]"
      ]
     },
     "execution_count": 20,
     "metadata": {},
     "output_type": "execute_result"
    }
   ],
   "source": [
    "list(range(10, 20))"
   ]
  },
  {
   "cell_type": "markdown",
   "id": "above-representative",
   "metadata": {},
   "source": [
    "Un troisème argument peut être utilisé pour indiquer l'incrément.  \n",
    "Voici la plage des nombres paires de 10 à 18."
   ]
  },
  {
   "cell_type": "code",
   "execution_count": 21,
   "id": "inappropriate-parking",
   "metadata": {},
   "outputs": [
    {
     "data": {
      "text/plain": [
       "[10, 12, 14, 16, 18]"
      ]
     },
     "execution_count": 21,
     "metadata": {},
     "output_type": "execute_result"
    }
   ],
   "source": [
    "list(range(10, 20, 2))"
   ]
  },
  {
   "cell_type": "markdown",
   "id": "emotional-edgar",
   "metadata": {},
   "source": [
    "Une plage peut être inversé avec un incrément négatif.  \n",
    "Voici la plage des entiers de 30 à 21."
   ]
  },
  {
   "cell_type": "code",
   "execution_count": 22,
   "id": "joint-circuit",
   "metadata": {},
   "outputs": [
    {
     "data": {
      "text/plain": [
       "[30, 29, 28, 27, 26, 25, 24, 23, 22, 21]"
      ]
     },
     "execution_count": 22,
     "metadata": {},
     "output_type": "execute_result"
    }
   ],
   "source": [
    "list(range(30, 20, -1))"
   ]
  },
  {
   "cell_type": "markdown",
   "id": "alien-calvin",
   "metadata": {},
   "source": [
    "## Longueur\n",
    "\n",
    "La fonction `len` retourne la longeur d'une liste."
   ]
  },
  {
   "cell_type": "code",
   "execution_count": 23,
   "id": "collaborative-block",
   "metadata": {},
   "outputs": [
    {
     "data": {
      "text/plain": [
       "4"
      ]
     },
     "execution_count": 23,
     "metadata": {},
     "output_type": "execute_result"
    }
   ],
   "source": [
    "len(fruits)"
   ]
  },
  {
   "cell_type": "markdown",
   "id": "prescribed-paraguay",
   "metadata": {},
   "source": [
    "La longeur de la liste vide est 0."
   ]
  },
  {
   "cell_type": "code",
   "execution_count": 24,
   "id": "realistic-humanity",
   "metadata": {},
   "outputs": [
    {
     "data": {
      "text/plain": [
       "0"
      ]
     },
     "execution_count": 24,
     "metadata": {},
     "output_type": "execute_result"
    }
   ],
   "source": [
    "len([])"
   ]
  },
  {
   "cell_type": "markdown",
   "id": "mysterious-antigua",
   "metadata": {},
   "source": [
    "## Transformer en liste\n",
    "\n",
    "La fonction `list` transforme une séquence en liste."
   ]
  },
  {
   "cell_type": "code",
   "execution_count": 25,
   "id": "pleasant-connecticut",
   "metadata": {},
   "outputs": [
    {
     "data": {
      "text/plain": [
       "['a', 'b', 'c', 'd', 'e', 'f', 'g', 'h', 'i', 'j']"
      ]
     },
     "execution_count": 25,
     "metadata": {},
     "output_type": "execute_result"
    }
   ],
   "source": [
    "lettres = list('abcdefghij')\n",
    "lettres"
   ]
  },
  {
   "cell_type": "markdown",
   "id": "flying-blind",
   "metadata": {},
   "source": [
    "La fonction `split()` permet de découper une phrases en mots, par leur séparation par une espace."
   ]
  },
  {
   "cell_type": "code",
   "execution_count": 26,
   "id": "aboriginal-pound",
   "metadata": {},
   "outputs": [
    {
     "data": {
      "text/plain": [
       "['les', 'mots', 'sont', 'séparés', 'par', 'des', 'espaces']"
      ]
     },
     "execution_count": 26,
     "metadata": {},
     "output_type": "execute_result"
    }
   ],
   "source": [
    "phrase = 'les mots sont séparés par des espaces'\n",
    "mots = phrase.split()\n",
    "mots"
   ]
  },
  {
   "cell_type": "markdown",
   "id": "artificial-miniature",
   "metadata": {},
   "source": [
    "Cette phrase a 7 mots."
   ]
  },
  {
   "cell_type": "code",
   "execution_count": 27,
   "id": "sitting-howard",
   "metadata": {},
   "outputs": [
    {
     "data": {
      "text/plain": [
       "7"
      ]
     },
     "execution_count": 27,
     "metadata": {},
     "output_type": "execute_result"
    }
   ],
   "source": [
    "len(mots)"
   ]
  },
  {
   "cell_type": "code",
   "execution_count": 28,
   "id": "special-claim",
   "metadata": {},
   "outputs": [
    {
     "data": {
      "text/plain": [
       "['🍏', '🍎', '🍐', '🍊', '🍋', '🍌']"
      ]
     },
     "execution_count": 28,
     "metadata": {},
     "output_type": "execute_result"
    }
   ],
   "source": [
    "list('🍏🍎🍐🍊🍋🍌')"
   ]
  },
  {
   "cell_type": "code",
   "execution_count": null,
   "id": "orange-devil",
   "metadata": {},
   "outputs": [],
   "source": []
  }
 ],
 "metadata": {
  "kernelspec": {
   "display_name": "Python 3",
   "language": "python",
   "name": "python3"
  },
  "language_info": {
   "codemirror_mode": {
    "name": "ipython",
    "version": 3
   },
   "file_extension": ".py",
   "mimetype": "text/x-python",
   "name": "python",
   "nbconvert_exporter": "python",
   "pygments_lexer": "ipython3",
   "version": "3.7.9"
  }
 },
 "nbformat": 4,
 "nbformat_minor": 5
}
