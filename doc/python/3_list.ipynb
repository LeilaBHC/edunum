{
 "cells": [
  {
   "cell_type": "markdown",
   "id": "physical-married",
   "metadata": {},
   "source": [
    "# Listes\n",
    "\n",
    "Une liste est un ensemble d'éléments:  \n",
    "- ordonnés\n",
    "- séparés par une virgule `,`\n",
    "- délimités par des crochets `[]`\n",
    "\n",
    "![list](list.jpg) "
   ]
  },
  {
   "cell_type": "markdown",
   "id": "sapphire-reasoning",
   "metadata": {},
   "source": [
    "Voici une liste avec 3 éléments:"
   ]
  },
  {
   "cell_type": "code",
   "execution_count": 1,
   "id": "geographic-migration",
   "metadata": {},
   "outputs": [
    {
     "data": {
      "text/plain": [
       "[2, 3, 5]"
      ]
     },
     "execution_count": 1,
     "metadata": {},
     "output_type": "execute_result"
    }
   ],
   "source": [
    "[2, 3, 5]"
   ]
  },
  {
   "cell_type": "markdown",
   "id": "stone-thinking",
   "metadata": {},
   "source": [
    "Une liste est ordonnée.  \n",
    "Deux listes avec les mêmes éléments mais un ordre différent sont différentes."
   ]
  },
  {
   "cell_type": "code",
   "execution_count": 2,
   "id": "infectious-portuguese",
   "metadata": {},
   "outputs": [
    {
     "data": {
      "text/plain": [
       "False"
      ]
     },
     "execution_count": 2,
     "metadata": {},
     "output_type": "execute_result"
    }
   ],
   "source": [
    "[1, 2] == [2, 1]"
   ]
  },
  {
   "cell_type": "markdown",
   "id": "amended-fabric",
   "metadata": {},
   "source": [
    "## Nouveaux concepts\n",
    "\n",
    "Dans ce chapitre vous allez découvrir les concepts de\n",
    "\n",
    "- création de liste: `a = [1, 2, 3]`\n",
    "- indexage d'un élément: `a[0]`\n",
    "\n",
    "Les opérateurs de\n",
    "- concaténation `+`\n",
    "- répétition `*`\n",
    "\n",
    "Les fonctions:\n",
    "- `len()` pour retourner la longeur de la liste\n",
    "- `list()` pour transformer une séquence en liste\n",
    "- `range()` pour produire une plage d'entiers"
   ]
  },
  {
   "cell_type": "markdown",
   "id": "moving-discussion",
   "metadata": {},
   "source": [
    "## Exemples de listes\n",
    "Voici une liste avec des nombres."
   ]
  },
  {
   "cell_type": "code",
   "execution_count": 3,
   "id": "practical-examination",
   "metadata": {},
   "outputs": [
    {
     "data": {
      "text/plain": [
       "[2, 3, 5, 7, 11, 13]"
      ]
     },
     "execution_count": 3,
     "metadata": {},
     "output_type": "execute_result"
    }
   ],
   "source": [
    "primes = [2, 3, 5, 7, 11, 13]\n",
    "primes"
   ]
  },
  {
   "cell_type": "markdown",
   "id": "duplicate-fitting",
   "metadata": {},
   "source": [
    "Voici une liste avec des chaines de caractères."
   ]
  },
  {
   "cell_type": "code",
   "execution_count": 4,
   "id": "biological-bosnia",
   "metadata": {},
   "outputs": [
    {
     "data": {
      "text/plain": [
       "['pomme', 'banane', 'poire', 'orange']"
      ]
     },
     "execution_count": 4,
     "metadata": {},
     "output_type": "execute_result"
    }
   ],
   "source": [
    "fruits = ['pomme', 'banane', 'poire', 'orange']\n",
    "fruits"
   ]
  },
  {
   "cell_type": "markdown",
   "id": "caroline-syndrome",
   "metadata": {},
   "source": [
    "Une liste peux contenir un mélange d'objets de types différents."
   ]
  },
  {
   "cell_type": "code",
   "execution_count": 5,
   "id": "european-nelson",
   "metadata": {},
   "outputs": [
    {
     "data": {
      "text/plain": [
       "[123, 'hello', True, False]"
      ]
     },
     "execution_count": 5,
     "metadata": {},
     "output_type": "execute_result"
    }
   ],
   "source": [
    "mix = [123, 'hello', True, False]\n",
    "mix"
   ]
  },
  {
   "cell_type": "markdown",
   "id": "environmental-journey",
   "metadata": {},
   "source": [
    "Une liste peux même contenir une deuxième liste."
   ]
  },
  {
   "cell_type": "code",
   "execution_count": 6,
   "id": "central-visit",
   "metadata": {},
   "outputs": [
    {
     "data": {
      "text/plain": [
       "[2, 3, [0, 1]]"
      ]
     },
     "execution_count": 6,
     "metadata": {},
     "output_type": "execute_result"
    }
   ],
   "source": [
    "[2, 3, [0, 1]]"
   ]
  },
  {
   "cell_type": "markdown",
   "id": "english-internship",
   "metadata": {},
   "source": [
    "Sur un Mac vous pouvez afficher les *emoji* par\n",
    " - Choisir * > Préférences Système... > Clavier* \n",
    " - Cocher *Afficher les visualisateurs de claver et d'emoji dans la barre de menu*\n"
   ]
  },
  {
   "cell_type": "code",
   "execution_count": 7,
   "id": "civic-cigarette",
   "metadata": {},
   "outputs": [
    {
     "data": {
      "text/plain": [
       "['🐶', '🐱', '🐭', '🐶', '🐱', '🐭', '🐶', '🐱', '🐭']"
      ]
     },
     "execution_count": 7,
     "metadata": {},
     "output_type": "execute_result"
    }
   ],
   "source": [
    "emojis = ['🐶', '🐱', '🐭']\n",
    "emojis * 3"
   ]
  },
  {
   "cell_type": "markdown",
   "id": "three-netscape",
   "metadata": {},
   "source": [
    "Et voici une liste vide."
   ]
  },
  {
   "cell_type": "code",
   "execution_count": 8,
   "id": "continued-analysis",
   "metadata": {},
   "outputs": [
    {
     "data": {
      "text/plain": [
       "[]"
      ]
     },
     "execution_count": 8,
     "metadata": {},
     "output_type": "execute_result"
    }
   ],
   "source": [
    "[]"
   ]
  },
  {
   "cell_type": "markdown",
   "id": "instrumental-excess",
   "metadata": {},
   "source": [
    "## Operateur de concaténation\n",
    "\n",
    "L'opérateur `+` permet de concaténer des listes."
   ]
  },
  {
   "cell_type": "code",
   "execution_count": 9,
   "id": "dominican-baseball",
   "metadata": {},
   "outputs": [
    {
     "data": {
      "text/plain": [
       "[2, 3, 5, 7, 11, 13, 'pomme', 'banane', 'poire', 'orange']"
      ]
     },
     "execution_count": 9,
     "metadata": {},
     "output_type": "execute_result"
    }
   ],
   "source": [
    "primes + fruits"
   ]
  },
  {
   "cell_type": "code",
   "execution_count": 10,
   "id": "patent-stereo",
   "metadata": {},
   "outputs": [
    {
     "data": {
      "text/plain": [
       "['pomme', 'banane', 'poire', 'orange', 123, 'hello', True, False]"
      ]
     },
     "execution_count": 10,
     "metadata": {},
     "output_type": "execute_result"
    }
   ],
   "source": [
    "d = fruits + mix\n",
    "d"
   ]
  },
  {
   "cell_type": "markdown",
   "id": "optical-specialist",
   "metadata": {},
   "source": [
    "## Operateur de répétition\n",
    "\n",
    "L'opérateur `*` permet de concaténer des listes.  \n",
    "Nous pouvons facilement créer des listes d'objets identiques."
   ]
  },
  {
   "cell_type": "code",
   "execution_count": 11,
   "id": "metropolitan-jewel",
   "metadata": {},
   "outputs": [
    {
     "data": {
      "text/plain": [
       "[1, 1, 1, 1, 1, 1, 1, 1, 1, 1, 1, 1, 1]"
      ]
     },
     "execution_count": 11,
     "metadata": {},
     "output_type": "execute_result"
    }
   ],
   "source": [
    "uns = [1] * 13\n",
    "uns"
   ]
  },
  {
   "cell_type": "markdown",
   "id": "fitted-utilization",
   "metadata": {},
   "source": [
    "Voici la liste **fruits** répétée deux fois."
   ]
  },
  {
   "cell_type": "code",
   "execution_count": 12,
   "id": "exotic-amazon",
   "metadata": {},
   "outputs": [
    {
     "data": {
      "text/plain": [
       "['pomme', 'banane', 'poire', 'orange', 'pomme', 'banane', 'poire', 'orange']"
      ]
     },
     "execution_count": 12,
     "metadata": {},
     "output_type": "execute_result"
    }
   ],
   "source": [
    "g = fruits * 2\n",
    "g"
   ]
  },
  {
   "cell_type": "markdown",
   "id": "naughty-satellite",
   "metadata": {},
   "source": [
    "## Index\n",
    "\n",
    "Un index entre crochets permet d'accéder à un élément d'une liste.  \n",
    "Les indexes commencent à 0. Le premier élément a donc l'index 0."
   ]
  },
  {
   "cell_type": "code",
   "execution_count": 13,
   "id": "sapphire-token",
   "metadata": {},
   "outputs": [
    {
     "data": {
      "text/plain": [
       "'pomme'"
      ]
     },
     "execution_count": 13,
     "metadata": {},
     "output_type": "execute_result"
    }
   ],
   "source": [
    "fruits[0]"
   ]
  },
  {
   "cell_type": "markdown",
   "id": "patient-packing",
   "metadata": {},
   "source": [
    "Le deuxième élément d'une liste a l'index 1."
   ]
  },
  {
   "cell_type": "code",
   "execution_count": 14,
   "id": "cutting-threshold",
   "metadata": {},
   "outputs": [
    {
     "data": {
      "text/plain": [
       "'banane'"
      ]
     },
     "execution_count": 14,
     "metadata": {},
     "output_type": "execute_result"
    }
   ],
   "source": [
    "fruits[1]"
   ]
  },
  {
   "cell_type": "markdown",
   "id": "postal-native",
   "metadata": {},
   "source": [
    "Un index négative permet d'adresser les éléments d'une liste depuis sa fin."
   ]
  },
  {
   "cell_type": "code",
   "execution_count": 15,
   "id": "active-error",
   "metadata": {},
   "outputs": [
    {
     "data": {
      "text/plain": [
       "'orange'"
      ]
     },
     "execution_count": 15,
     "metadata": {},
     "output_type": "execute_result"
    }
   ],
   "source": [
    "fruits[-1]"
   ]
  },
  {
   "cell_type": "markdown",
   "id": "recent-preview",
   "metadata": {},
   "source": [
    "Voici l'avant-dernier fruit."
   ]
  },
  {
   "cell_type": "code",
   "execution_count": 16,
   "id": "boxed-relationship",
   "metadata": {},
   "outputs": [
    {
     "data": {
      "text/plain": [
       "'poire'"
      ]
     },
     "execution_count": 16,
     "metadata": {},
     "output_type": "execute_result"
    }
   ],
   "source": [
    "fruits[-2]"
   ]
  },
  {
   "cell_type": "markdown",
   "id": "nominated-smooth",
   "metadata": {},
   "source": [
    "## Affectation d'un élément\n",
    "\n",
    "L'affectation suivante change le deuxième élément en *ananas*."
   ]
  },
  {
   "cell_type": "code",
   "execution_count": 17,
   "id": "increased-hygiene",
   "metadata": {},
   "outputs": [
    {
     "data": {
      "text/plain": [
       "['pomme', 'ananas', 'poire', 'orange']"
      ]
     },
     "execution_count": 17,
     "metadata": {},
     "output_type": "execute_result"
    }
   ],
   "source": [
    "fruits[1] = 'ananas'\n",
    "fruits"
   ]
  },
  {
   "cell_type": "markdown",
   "id": "tropical-radar",
   "metadata": {},
   "source": [
    "L'affectation suivante transforme le dernier élément en *cerise*."
   ]
  },
  {
   "cell_type": "code",
   "execution_count": 18,
   "id": "baking-process",
   "metadata": {},
   "outputs": [
    {
     "data": {
      "text/plain": [
       "['pomme', 'ananas', 'poire', 'cerise']"
      ]
     },
     "execution_count": 18,
     "metadata": {},
     "output_type": "execute_result"
    }
   ],
   "source": [
    "fruits[-1] = 'cerise'\n",
    "fruits"
   ]
  },
  {
   "cell_type": "markdown",
   "id": "honey-laptop",
   "metadata": {},
   "source": [
    "## Plages\n",
    "\n",
    "La fonction `range()` crée une plage d'entier. Nous allons la revoir avec les boucles `for`. \n",
    "Pour afficher les éléments de la plage, nous entourons `range()` par la fonction `list()`\n",
    "\n",
    "La fonction `range(n)` produit une plage de 0 à n-1.  \n",
    "Voici la plage des nombres de 0 à 5."
   ]
  },
  {
   "cell_type": "code",
   "execution_count": 19,
   "id": "apart-comment",
   "metadata": {},
   "outputs": [
    {
     "data": {
      "text/plain": [
       "[0, 1, 2, 3, 4, 5]"
      ]
     },
     "execution_count": 19,
     "metadata": {},
     "output_type": "execute_result"
    }
   ],
   "source": [
    "list(range(6))"
   ]
  },
  {
   "cell_type": "markdown",
   "id": "young-gateway",
   "metadata": {},
   "source": [
    "La fonction `range(m, n)` produit une plage de **m** à **n-1**.  \n",
    "Voici la plage des nombres de 10 à 19."
   ]
  },
  {
   "cell_type": "code",
   "execution_count": 20,
   "id": "champion-tenant",
   "metadata": {},
   "outputs": [
    {
     "data": {
      "text/plain": [
       "[10, 11, 12, 13, 14, 15, 16, 17, 18, 19]"
      ]
     },
     "execution_count": 20,
     "metadata": {},
     "output_type": "execute_result"
    }
   ],
   "source": [
    "list(range(10, 20))"
   ]
  },
  {
   "cell_type": "markdown",
   "id": "gothic-pollution",
   "metadata": {},
   "source": [
    "Un troisème argument peut être utilisé pour indiquer l'incrément.  \n",
    "Voici la plage des nombres paires de 10 à 18."
   ]
  },
  {
   "cell_type": "code",
   "execution_count": 21,
   "id": "optional-custody",
   "metadata": {},
   "outputs": [
    {
     "data": {
      "text/plain": [
       "[10, 12, 14, 16, 18]"
      ]
     },
     "execution_count": 21,
     "metadata": {},
     "output_type": "execute_result"
    }
   ],
   "source": [
    "list(range(10, 20, 2))"
   ]
  },
  {
   "cell_type": "markdown",
   "id": "narrative-opportunity",
   "metadata": {},
   "source": [
    "Une plage peut être inversé avec un incrément négatif.  \n",
    "Voici la plage des entiers de 30 à 21."
   ]
  },
  {
   "cell_type": "code",
   "execution_count": 22,
   "id": "economic-customer",
   "metadata": {},
   "outputs": [
    {
     "data": {
      "text/plain": [
       "[30, 29, 28, 27, 26, 25, 24, 23, 22, 21]"
      ]
     },
     "execution_count": 22,
     "metadata": {},
     "output_type": "execute_result"
    }
   ],
   "source": [
    "list(range(30, 20, -1))"
   ]
  },
  {
   "cell_type": "markdown",
   "id": "transparent-species",
   "metadata": {},
   "source": [
    "## Longueur\n",
    "\n",
    "La fonction `len` retourne la longeur d'une liste."
   ]
  },
  {
   "cell_type": "code",
   "execution_count": 23,
   "id": "seventh-section",
   "metadata": {},
   "outputs": [
    {
     "data": {
      "text/plain": [
       "4"
      ]
     },
     "execution_count": 23,
     "metadata": {},
     "output_type": "execute_result"
    }
   ],
   "source": [
    "len(fruits)"
   ]
  },
  {
   "cell_type": "markdown",
   "id": "overhead-kingston",
   "metadata": {},
   "source": [
    "La longeur de la liste vide est 0."
   ]
  },
  {
   "cell_type": "code",
   "execution_count": 24,
   "id": "armed-division",
   "metadata": {},
   "outputs": [
    {
     "data": {
      "text/plain": [
       "0"
      ]
     },
     "execution_count": 24,
     "metadata": {},
     "output_type": "execute_result"
    }
   ],
   "source": [
    "len([])"
   ]
  },
  {
   "cell_type": "markdown",
   "id": "compact-surgeon",
   "metadata": {},
   "source": [
    "## Transformer en liste\n",
    "\n",
    "La fonction `list` transforme une séquence en liste."
   ]
  },
  {
   "cell_type": "code",
   "execution_count": 25,
   "id": "split-journey",
   "metadata": {},
   "outputs": [
    {
     "data": {
      "text/plain": [
       "['a', 'b', 'c', 'd', 'e', 'f', 'g', 'h', 'i', 'j']"
      ]
     },
     "execution_count": 25,
     "metadata": {},
     "output_type": "execute_result"
    }
   ],
   "source": [
    "lettres = list('abcdefghij')\n",
    "lettres"
   ]
  },
  {
   "cell_type": "markdown",
   "id": "greater-angel",
   "metadata": {},
   "source": [
    "La fonction `split()` permet de découper une phrases en mots, par leur séparation par une espace."
   ]
  },
  {
   "cell_type": "code",
   "execution_count": 26,
   "id": "micro-happiness",
   "metadata": {},
   "outputs": [
    {
     "data": {
      "text/plain": [
       "['les', 'mots', 'sont', 'séparés', 'par', 'des', 'espaces']"
      ]
     },
     "execution_count": 26,
     "metadata": {},
     "output_type": "execute_result"
    }
   ],
   "source": [
    "phrase = 'les mots sont séparés par des espaces'\n",
    "mots = phrase.split()\n",
    "mots"
   ]
  },
  {
   "cell_type": "markdown",
   "id": "devoted-module",
   "metadata": {},
   "source": [
    "Cette phrase a 7 mots."
   ]
  },
  {
   "cell_type": "code",
   "execution_count": 27,
   "id": "pregnant-collapse",
   "metadata": {},
   "outputs": [
    {
     "data": {
      "text/plain": [
       "7"
      ]
     },
     "execution_count": 27,
     "metadata": {},
     "output_type": "execute_result"
    }
   ],
   "source": [
    "len(mots)"
   ]
  },
  {
   "cell_type": "code",
   "execution_count": 28,
   "id": "incomplete-meeting",
   "metadata": {},
   "outputs": [
    {
     "data": {
      "text/plain": [
       "['🍏', '🍎', '🍐', '🍊', '🍋', '🍌']"
      ]
     },
     "execution_count": 28,
     "metadata": {},
     "output_type": "execute_result"
    }
   ],
   "source": [
    "list('🍏🍎🍐🍊🍋🍌')"
   ]
  },
  {
   "cell_type": "code",
   "execution_count": null,
   "id": "august-opera",
   "metadata": {},
   "outputs": [],
   "source": []
  }
 ],
 "metadata": {
  "kernelspec": {
   "display_name": "Python 3",
   "language": "python",
   "name": "python3"
  },
  "language_info": {
   "codemirror_mode": {
    "name": "ipython",
    "version": 3
   },
   "file_extension": ".py",
   "mimetype": "text/x-python",
   "name": "python",
   "nbconvert_exporter": "python",
   "pygments_lexer": "ipython3",
   "version": "3.7.9"
  }
 },
 "nbformat": 4,
 "nbformat_minor": 5
}
