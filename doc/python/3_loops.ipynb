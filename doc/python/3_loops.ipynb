{
 "cells": [
  {
   "cell_type": "markdown",
   "metadata": {},
   "source": [
    "# Listes, boucles for, while\n",
    "\n",
    "## Objectifs\n",
    "\n",
    "<ol>\n",
    "<li>Listes</li>\n",
    "<li>Boucles for, wile</li>\n",
    "<li>Opérateurs booléens AND, OR, NOT</li>\n",
    "<li>Révision des fonctions print() et input()</li>\n",
    "<li>Révision des tests conditionnels if, elif, else</li>\n",
    "<li>Test formatif</li>\n",
    "<ol>\n",
    "\n",
    "### Listes\n",
    "\n",
    "* Une liste est une variable dans laquelle on peut mettre plusieurs variables\n",
    "* On la déclare avec des crochets [ ] et on sépare chaque variable par une virgule"
   ]
  },
  {
   "cell_type": "code",
   "execution_count": 4,
   "metadata": {
    "collapsed": false
   },
   "outputs": [
    {
     "name": "stdout",
     "output_type": "stream",
     "text": [
      "['sapin', 'cedre', 'meleze', 'bouleau']\n"
     ]
    }
   ],
   "source": [
    "arbres = ['sapin', 'cedre', 'meleze', 'bouleau']\n",
    "print(arbres)"
   ]
  },
  {
   "cell_type": "markdown",
   "metadata": {
    "collapsed": true
   },
   "source": [
    "* Chaque variable de la liste a un index (le premier est toujours 0, puis 1, puis 2, etc..)\n"
   ]
  },
  {
   "cell_type": "code",
   "execution_count": 5,
   "metadata": {
    "collapsed": false
   },
   "outputs": [
    {
     "name": "stdout",
     "output_type": "stream",
     "text": [
      "sapin\n"
     ]
    }
   ],
   "source": [
    "print(arbres[0])"
   ]
  },
  {
   "cell_type": "code",
   "execution_count": 6,
   "metadata": {
    "collapsed": false
   },
   "outputs": [
    {
     "name": "stdout",
     "output_type": "stream",
     "text": [
      "bouleau\n"
     ]
    }
   ],
   "source": [
    "print(arbres[3])"
   ]
  },
  {
   "cell_type": "markdown",
   "metadata": {},
   "source": [
    "## Boucles : c'est quoi ?\n",
    "\n",
    "> Répétition d'un bloc identique\n",
    "\n",
    "> Il existe deux types de boucles :\n",
    "> * la boucle **for** avec un début et une fin (bornes)\n",
    "> * la boucle **while** tant qu'une condition est remplie"
   ]
  },
  {
   "cell_type": "markdown",
   "metadata": {},
   "source": [
    "### Boucle for\n",
    "\n",
    "Elle a toujours la même structure :\n",
    "\n",
    "1. Commence par le mot-clef **for**\n",
    "2. Puis le nom d'un itérateur (une variable)\n",
    "3. Puis le mot-clef **in**\n",
    "4. Puis un objet itérable (une chaîne de caractères, une liste, un tuple ou la fonction **range()** )\n",
    "5. Et termine par deux points **:**\n",
    "6. Attention à l'indentation du bloc ensuite !!"
   ]
  },
  {
   "cell_type": "code",
   "execution_count": 7,
   "metadata": {
    "collapsed": false
   },
   "outputs": [
    {
     "name": "stdout",
     "output_type": "stream",
     "text": [
      "0\n",
      "1\n",
      "2\n"
     ]
    }
   ],
   "source": [
    "for i in range(3):\n",
    "    print(i)"
   ]
  },
  {
   "cell_type": "code",
   "execution_count": 8,
   "metadata": {
    "collapsed": false
   },
   "outputs": [
    {
     "name": "stdout",
     "output_type": "stream",
     "text": [
      "sapin\n",
      "cedre\n",
      "meleze\n",
      "bouleau\n"
     ]
    }
   ],
   "source": [
    "for arbre in arbres:\n",
    "    print(arbre)"
   ]
  },
  {
   "cell_type": "code",
   "execution_count": 9,
   "metadata": {
    "collapsed": false
   },
   "outputs": [
    {
     "name": "stdout",
     "output_type": "stream",
     "text": [
      "1\n",
      "3\n",
      "5\n",
      "7\n",
      "9\n",
      "11\n"
     ]
    }
   ],
   "source": [
    "l = [1,3,5,7,9,11]\n",
    "for i in l:\n",
    "    print(i)"
   ]
  },
  {
   "cell_type": "markdown",
   "metadata": {},
   "source": [
    "### Boucle while\n",
    "![Schema de la boucle while](https://cdn.javascripttutorial.net/wp-content/uploads/2016/08/JavaScript-while-loop.png)\n",
    "[crédit image](https://www.javascripttutorial.net/javascript-while-loop/)\n",
    "Une boucle respecte toujours une même structure :\n",
    "\n",
    "1. Mot-clef **while**\n",
    "2. Suivi d'une condition (résultat de cette condition est **True** ou **False**)\n",
    "3. Deux points **:**\n",
    "4. Bloc d'instructions (attention à l'indentation)"
   ]
  },
  {
   "cell_type": "code",
   "execution_count": 10,
   "metadata": {
    "collapsed": false
   },
   "outputs": [
    {
     "name": "stdout",
     "output_type": "stream",
     "text": [
      "1\n",
      "2\n",
      "3\n",
      "4\n",
      "5\n",
      "6\n",
      "7\n",
      "8\n",
      "9\n",
      "10\n"
     ]
    }
   ],
   "source": [
    "n = 1\n",
    "while n <= 10:\n",
    "    print(n)\n",
    "    n = n + 1"
   ]
  },
  {
   "cell_type": "code",
   "execution_count": null,
   "metadata": {
    "collapsed": true
   },
   "outputs": [],
   "source": []
  }
 ],
 "metadata": {
  "kernelspec": {
   "display_name": "Python 3",
   "language": "python",
   "name": "python3"
  },
  "language_info": {
   "codemirror_mode": {
    "name": "ipython",
    "version": 2
   },
   "file_extension": ".py",
   "mimetype": "text/x-python",
   "name": "python",
   "nbconvert_exporter": "python",
   "pygments_lexer": "ipython2",
   "version": "2.7.13"
  }
 },
 "nbformat": 4,
 "nbformat_minor": 2
}
