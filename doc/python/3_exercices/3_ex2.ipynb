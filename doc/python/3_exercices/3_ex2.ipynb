{
 "cells": [
  {
   "cell_type": "markdown",
   "metadata": {},
   "source": [
    "# Objectifs\n",
    "\n",
    "* boucles for\n",
    "* rappel listes\n",
    "\n",
    "(c) Vincent Keller, 2021"
   ]
  },
  {
   "cell_type": "code",
   "execution_count": 1,
   "metadata": {
    "collapsed": false
   },
   "outputs": [
    {
     "name": "stdout",
     "output_type": "stream",
     "text": [
      "Boucles for\n"
     ]
    }
   ],
   "source": [
    "print(\"Boucles for\")"
   ]
  },
  {
   "cell_type": "markdown",
   "metadata": {},
   "source": [
    "écrire une boucle qui écrit les chiffres de 0 à 10 à l'aide de la fonction *range()*\n",
    "\n",
    "**rappel : la boucle for**\n",
    "\n",
    "une boucle **for** avec la fonction **range()** s'écrit :\n",
    "\n",
    "`for i in range(n):`\n",
    "`   bloc`\n",
    "\n",
    "\n",
    "**rappel : fonction range()**\n",
    "\n",
    "les paramètres de la fonction **range()** sont :\n",
    "\n",
    "`range(start, stop, step)`\n",
    "\n",
    "où :\n",
    "* *start* (optionnel) un entier qui spécifie à quelle position démarrer. Par défaut *start = 0*\n",
    "* *stop*  (obligatoire) un entier qui spécifie à quelle position s'arrêter\n",
    "* *step* (optionnel) un entier qui spécifie l'incrément. Par défaut *step = 1*\n",
    "\n",
    "exemples :\n",
    "* `range(6)` produit la liste `[0,1,2,3,4,5]`\n",
    "* `range(2,6)` produit la liste `[2,3,4,5]`\n",
    "* `range(1,6,2)` produit la liste `[1,3,5]`\n"
   ]
  },
  {
   "cell_type": "code",
   "execution_count": null,
   "metadata": {
    "collapsed": false
   },
   "outputs": [],
   "source": []
  },
  {
   "cell_type": "markdown",
   "metadata": {},
   "source": [
    "Déclarer une liste des nombre impair inférieurs ou égaux à 20"
   ]
  },
  {
   "cell_type": "code",
   "execution_count": null,
   "metadata": {
    "collapsed": true
   },
   "outputs": [],
   "source": []
  },
  {
   "cell_type": "markdown",
   "metadata": {},
   "source": [
    "Ecrire une boucle **for** qui parcourt cette liste et affiche ses éléments "
   ]
  },
  {
   "cell_type": "code",
   "execution_count": null,
   "metadata": {
    "collapsed": true
   },
   "outputs": [],
   "source": []
  },
  {
   "cell_type": "markdown",
   "metadata": {},
   "source": [
    "Ecrire une boucle for qui parcourt cette même liste mais qui affiche les nombres pairs\n",
    "\n",
    "**rappel**\n",
    "si *n* est impair, alors *n+1* est pair"
   ]
  },
  {
   "cell_type": "code",
   "execution_count": null,
   "metadata": {
    "collapsed": true
   },
   "outputs": [],
   "source": []
  },
  {
   "cell_type": "markdown",
   "metadata": {},
   "source": [
    "Déclarer une liste des fruits suivants : 'pomme','banane','orange','fraise','cerise'"
   ]
  },
  {
   "cell_type": "code",
   "execution_count": null,
   "metadata": {
    "collapsed": true
   },
   "outputs": [],
   "source": []
  },
  {
   "cell_type": "markdown",
   "metadata": {},
   "source": [
    "Ecrire une boucle for qui parcourt les éléments de cette liste\n",
    "\n",
    "**rappel** le *i*ème élément de la liste fruits s'accède ainsi : fruits[i]"
   ]
  },
  {
   "cell_type": "markdown",
   "metadata": {},
   "source": [
    "ecrire une boucle for qui affiche chaque lettre de la chaîne de caractères :\n",
    "\n",
    "`chaine = \"Le Python c'est cool\"`"
   ]
  },
  {
   "cell_type": "code",
   "execution_count": null,
   "metadata": {
    "collapsed": true
   },
   "outputs": [],
   "source": []
  },
  {
   "cell_type": "markdown",
   "metadata": {},
   "source": [
    "demander à l'utilisateur d'écrire une phrase\n",
    "\n",
    "**rappel** utiliser la fonction **input()**"
   ]
  },
  {
   "cell_type": "code",
   "execution_count": null,
   "metadata": {
    "collapsed": true
   },
   "outputs": [],
   "source": []
  },
  {
   "cell_type": "markdown",
   "metadata": {},
   "source": [
    "afficher chaque lettre de cette phrase à l'aide d'une boucle for"
   ]
  },
  {
   "cell_type": "code",
   "execution_count": null,
   "metadata": {
    "collapsed": true
   },
   "outputs": [],
   "source": []
  }
 ],
 "metadata": {
  "kernelspec": {
   "display_name": "Python 3",
   "language": "python",
   "name": "python3"
  },
  "language_info": {
   "codemirror_mode": {
    "name": "ipython",
    "version": 2
   },
   "file_extension": ".py",
   "mimetype": "text/x-python",
   "name": "python",
   "nbconvert_exporter": "python",
   "pygments_lexer": "ipython2",
   "version": "2.7.13"
  }
 },
 "nbformat": 4,
 "nbformat_minor": 2
}
