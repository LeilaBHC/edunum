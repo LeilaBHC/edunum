{
 "cells": [
  {
   "cell_type": "markdown",
   "metadata": {},
   "source": [
    "# Introduction à Python"
   ]
  },
  {
   "cell_type": "markdown",
   "metadata": {},
   "source": [
    "Python est un **langage** de programmation. \n",
    "\n",
    "![intro](https://media.giphy.com/media/mXeOgQvTWweG1hODif/giphy-downsized.gif)\n",
    "\n",
    "Python est:\n",
    "\n",
    "- **populaire** (mondialement numéro 3, après C et Java)\n",
    "- **puissant** (des milliers de modules d'extensions)\n",
    "- **concis** (peu de mot-clés, visuel)"
   ]
  },
  {
   "cell_type": "markdown",
   "metadata": {},
   "source": [
    "## Introduction\n",
    "\n",
    "Ce document présente la programmation en Python. Partout dans le document, des exemples de code sont donnés. Voici le tout premier exemple d'une ligne de code."
   ]
  },
  {
   "cell_type": "code",
   "execution_count": 3,
   "metadata": {},
   "outputs": [
    {
     "name": "stdout",
     "output_type": "stream",
     "text": [
      "hello\n"
     ]
    }
   ],
   "source": [
    "print('hello')"
   ]
  },
  {
   "cell_type": "markdown",
   "metadata": {},
   "source": [
    "Cette ligne de code affiche le texte *hello* vers la console. Le code consiste de 4 éléments:\n",
    "\n",
    "- une fonction `print`\n",
    "- des parenthèses `()` qui entourent l'argument de la fonction\n",
    "- des guillemets `''` qui entourent un texte\n",
    "- une chaine de texte `hello`"
   ]
  },
  {
   "cell_type": "markdown",
   "metadata": {},
   "source": [
    "## Un programme est une séquence\n",
    "\n",
    "Multiples instructions peuvent se suivre, et on appelle une telle **séquence d'instructions** un programme. Dans l'exemple suivant nous avons une suite de 3 instructions."
   ]
  },
  {
   "cell_type": "code",
   "execution_count": 15,
   "metadata": {},
   "outputs": [
    {
     "name": "stdout",
     "output_type": "stream",
     "text": [
      "commençons\n",
      "à programmer\n",
      "avec Python\n"
     ]
    }
   ],
   "source": [
    "print('commençons')\n",
    "print('à programmer')\n",
    "print('avec Python')"
   ]
  },
  {
   "cell_type": "markdown",
   "metadata": {},
   "source": [
    "## Calcul mathématique\n",
    "\n",
    "Python peut résoudre des expréssion mathématiques. Par exemple cette addition simple "
   ]
  },
  {
   "cell_type": "code",
   "execution_count": 5,
   "metadata": {},
   "outputs": [
    {
     "data": {
      "text/plain": [
       "3"
      ]
     },
     "execution_count": 5,
     "metadata": {},
     "output_type": "execute_result"
    }
   ],
   "source": [
    "1 + 2"
   ]
  },
  {
   "cell_type": "markdown",
   "metadata": {},
   "source": [
    "### Les opérations de base\n",
    "Les 4 operations de base sont\n",
    "- addition (`+`)\n",
    "- soustraction (`-`)\n",
    "- multiplication (`*`)\n",
    "- division (`/`)\n",
    "\n",
    "Nous pouvons placer plusieurs expression sur une même ligne et les séparer par des virgules. Cette séquence est appelé un **tuple**. Un tuple est délimité par des parenthèses `()` et les éléments sont séparé par des virgules.\n",
    "\n",
    "Voici une multiplication"
   ]
  },
  {
   "cell_type": "code",
   "execution_count": 4,
   "metadata": {},
   "outputs": [
    {
     "data": {
      "text/plain": [
       "6"
      ]
     },
     "execution_count": 4,
     "metadata": {},
     "output_type": "execute_result"
    }
   ],
   "source": [
    "2*3"
   ]
  },
  {
   "cell_type": "markdown",
   "metadata": {},
   "source": [
    "et une division"
   ]
  },
  {
   "cell_type": "code",
   "execution_count": 6,
   "metadata": {},
   "outputs": [
    {
     "data": {
      "text/plain": [
       "0.75"
      ]
     },
     "execution_count": 6,
     "metadata": {},
     "output_type": "execute_result"
    }
   ],
   "source": [
    "3/4"
   ]
  },
  {
   "cell_type": "markdown",
   "metadata": {},
   "source": [
    "Les paranthèses changent la priorité"
   ]
  },
  {
   "cell_type": "code",
   "execution_count": 7,
   "metadata": {},
   "outputs": [
    {
     "data": {
      "text/plain": [
       "9"
      ]
     },
     "execution_count": 7,
     "metadata": {},
     "output_type": "execute_result"
    }
   ],
   "source": [
    "(1 + 2) * 3"
   ]
  },
  {
   "cell_type": "markdown",
   "metadata": {},
   "source": [
    "## Boucles\n",
    "\n",
    "Une boucle permet de répeter un bloc de code. Dans l'exemple ci-dessous le bloc `print` est répétés 4 fois, pour aficher l'itérateur `i`, son carré et son cube."
   ]
  },
  {
   "cell_type": "code",
   "execution_count": 8,
   "metadata": {},
   "outputs": [
    {
     "name": "stdout",
     "output_type": "stream",
     "text": [
      "1 1 1\n",
      "2 4 8\n",
      "3 9 27\n",
      "4 16 64\n"
     ]
    }
   ],
   "source": [
    "for i in range(1, 5):\n",
    "    print(i, i**2, i**3)"
   ]
  },
  {
   "cell_type": "markdown",
   "metadata": {},
   "source": [
    "Une boucle peux aussi itérer sur un chaine, lettre par lettre."
   ]
  },
  {
   "cell_type": "code",
   "execution_count": 14,
   "metadata": {},
   "outputs": [
    {
     "name": "stdout",
     "output_type": "stream",
     "text": [
      "H\n",
      "e\n",
      "l\n",
      "l\n",
      "o\n"
     ]
    }
   ],
   "source": [
    "for c in 'Hello':\n",
    "    print(c)"
   ]
  },
  {
   "cell_type": "markdown",
   "metadata": {},
   "source": [
    "## Execution pas à pas\n",
    "\n",
    "L'éditeur Thonny permet d'exécuter un programme pas à pas.\n",
    "\n",
    "{download}`prog/demo2.py <prog/demo2.py>`\n",
    "\n",
    "- Affichez les variables\n",
    "- Démarrez l'exécution pas à pas avec le bouton Débogueur (insect)\n",
    "- Avancez pas à pas (F7)\n",
    "\n",
    "![](img/thonny_step.png)"
   ]
  },
  {
   "cell_type": "code",
   "execution_count": null,
   "metadata": {},
   "outputs": [],
   "source": []
  }
 ],
 "metadata": {
  "kernelspec": {
   "display_name": "Python 3",
   "language": "python",
   "name": "python3"
  },
  "language_info": {
   "codemirror_mode": {
    "name": "ipython",
    "version": 3
   },
   "file_extension": ".py",
   "mimetype": "text/x-python",
   "name": "python",
   "nbconvert_exporter": "python",
   "pygments_lexer": "ipython3",
   "version": "3.7.9"
  }
 },
 "nbformat": 4,
 "nbformat_minor": 4
}
