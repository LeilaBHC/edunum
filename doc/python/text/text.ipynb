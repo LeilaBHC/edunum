{
 "cells": [
  {
   "cell_type": "markdown",
   "id": "leading-amendment",
   "metadata": {},
   "source": [
    "# Jouer avec des mots\n",
    "\n",
    "Le fichier `scrabble.txt` continent plus que 200 000 mots en anglais, permis pour scrabble."
   ]
  },
  {
   "cell_type": "code",
   "execution_count": 31,
   "id": "controlled-arena",
   "metadata": {},
   "outputs": [],
   "source": [
    "file = open('scrabble.txt')\n",
    "mots = []\n",
    "for line in file:\n",
    "    mots.append(line.strip())\n",
    "file.close()\n",
    "mots = mots[2:]"
   ]
  },
  {
   "cell_type": "code",
   "execution_count": 33,
   "id": "least-producer",
   "metadata": {},
   "outputs": [
    {
     "data": {
      "text/plain": [
       "279496"
      ]
     },
     "execution_count": 33,
     "metadata": {},
     "output_type": "execute_result"
    }
   ],
   "source": [
    "len(mots)"
   ]
  },
  {
   "cell_type": "markdown",
   "id": "alike-tunisia",
   "metadata": {},
   "source": [
    "## Accéder à des mots\n",
    "\n",
    "Afficher le dernier mot"
   ]
  },
  {
   "cell_type": "code",
   "execution_count": 39,
   "id": "respected-coast",
   "metadata": {},
   "outputs": [
    {
     "data": {
      "text/plain": [
       "'AA'"
      ]
     },
     "execution_count": 39,
     "metadata": {},
     "output_type": "execute_result"
    }
   ],
   "source": [
    "mots[0]"
   ]
  },
  {
   "cell_type": "markdown",
   "id": "progressive-johnson",
   "metadata": {},
   "source": [
    "Et voici le mot avec l'index 10 (qui est effectivement le 11e mot)."
   ]
  },
  {
   "cell_type": "code",
   "execution_count": 40,
   "id": "aerial-tactics",
   "metadata": {},
   "outputs": [
    {
     "data": {
      "text/plain": [
       "'AARDVARKS'"
      ]
     },
     "execution_count": 40,
     "metadata": {},
     "output_type": "execute_result"
    }
   ],
   "source": [
    "mots[10]"
   ]
  },
  {
   "cell_type": "markdown",
   "id": "marked-contemporary",
   "metadata": {},
   "source": [
    "Et voici le dernier mot."
   ]
  },
  {
   "cell_type": "code",
   "execution_count": 41,
   "id": "uniform-reconstruction",
   "metadata": {},
   "outputs": [
    {
     "data": {
      "text/plain": [
       "'ZZZS'"
      ]
     },
     "execution_count": 41,
     "metadata": {},
     "output_type": "execute_result"
    }
   ],
   "source": [
    "mots[-1]"
   ]
  },
  {
   "cell_type": "markdown",
   "id": "sized-norway",
   "metadata": {},
   "source": [
    "## Accéder à des tranches\n",
    "\n",
    "Les dix premiers mots"
   ]
  },
  {
   "cell_type": "code",
   "execution_count": 44,
   "id": "cellular-zealand",
   "metadata": {},
   "outputs": [
    {
     "data": {
      "text/plain": [
       "['AA',\n",
       " 'AAH',\n",
       " 'AAHED',\n",
       " 'AAHING',\n",
       " 'AAHS',\n",
       " 'AAL',\n",
       " 'AALII',\n",
       " 'AALIIS',\n",
       " 'AALS',\n",
       " 'AARDVARK']"
      ]
     },
     "execution_count": 44,
     "metadata": {},
     "output_type": "execute_result"
    }
   ],
   "source": [
    "mots[:10]"
   ]
  },
  {
   "cell_type": "markdown",
   "id": "bound-strategy",
   "metadata": {},
   "source": [
    "Les mots avec l'indice 1000 à 1009"
   ]
  },
  {
   "cell_type": "code",
   "execution_count": 45,
   "id": "organized-configuration",
   "metadata": {},
   "outputs": [
    {
     "data": {
      "text/plain": [
       "['ACAUDAL',\n",
       " 'ACAUDATE',\n",
       " 'ACAULESCENT',\n",
       " 'ACAULINE',\n",
       " 'ACAULOSE',\n",
       " 'ACAULOUS',\n",
       " 'ACCA',\n",
       " 'ACCABLE',\n",
       " 'ACCAS',\n",
       " 'ACCEDE']"
      ]
     },
     "execution_count": 45,
     "metadata": {},
     "output_type": "execute_result"
    }
   ],
   "source": [
    "mots[1000:1010]"
   ]
  },
  {
   "cell_type": "markdown",
   "id": "demographic-bathroom",
   "metadata": {},
   "source": [
    "Les 10 derniers mots."
   ]
  },
  {
   "cell_type": "code",
   "execution_count": 48,
   "id": "designed-agency",
   "metadata": {},
   "outputs": [
    {
     "data": {
      "text/plain": [
       "['ZYMOTICALLY',\n",
       " 'ZYMOTICS',\n",
       " 'ZYMURGIES',\n",
       " 'ZYMURGY',\n",
       " 'ZYTHUM',\n",
       " 'ZYTHUMS',\n",
       " 'ZYZZYVA',\n",
       " 'ZYZZYVAS',\n",
       " 'ZZZ',\n",
       " 'ZZZS']"
      ]
     },
     "execution_count": 48,
     "metadata": {},
     "output_type": "execute_result"
    }
   ],
   "source": [
    "mots[-10:]"
   ]
  },
  {
   "cell_type": "code",
   "execution_count": 68,
   "id": "compound-energy",
   "metadata": {},
   "outputs": [
    {
     "name": "stdout",
     "output_type": "stream",
     "text": [
      "ACQUIRABILITIES\n",
      "ACQUISITIVENESS\n",
      "ANTIQUARIANISMS\n",
      "APPROPINQUATING\n",
      "APPROPINQUATION\n",
      "APPROPINQUITIES\n",
      "CHURRIGUERESQUE\n",
      "COLLIQUESCENCES\n",
      "COLLOQUIALITIES\n",
      "CONQUERABLENESS\n",
      "CONSEQUENTIALLY\n",
      "COUNTERQUESTION\n",
      "CYBERSQUATTINGS\n",
      "DEMISEMIQUAVERS\n",
      "DEREQUISITIONED\n",
      "DISEQUILIBRATED\n",
      "DISEQUILIBRATES\n",
      "DISEQUILIBRIUMS\n",
      "DISQUISITIONARY\n",
      "EQUALITARIANISM\n",
      "EQUIPONDERANCES\n",
      "EQUIPONDERATING\n",
      "EQUIPROBABILITY\n",
      "EQUITABLENESSES\n",
      "EQUIVOCALNESSES\n",
      "EXQUISITENESSES\n",
      "GRANDILOQUENCES\n",
      "GRANDILOQUENTLY\n",
      "GROTESQUENESSES\n",
      "GYROFREQUENCIES\n",
      "INCONSEQUENTIAL\n",
      "INEQUITABLENESS\n",
      "INQUISITIONISTS\n",
      "INQUISITIVENESS\n",
      "INQUISITORIALLY\n",
      "LIQUIDATIONISMS\n",
      "LIQUIDATIONISTS\n",
      "LIQUORISHNESSES\n",
      "MICROEARTHQUAKE\n",
      "MICROTECHNIQUES\n",
      "NONEQUILIBRIUMS\n",
      "NONEQUIVALENCES\n",
      "NONQUANTIFIABLE\n",
      "NONQUANTITATIVE\n",
      "NONUNIQUENESSES\n",
      "PICTURESQUENESS\n",
      "PREACQUAINTANCE\n",
      "QUADRAGENARIANS\n",
      "QUADRINGENARIES\n",
      "QUADRIPARTITION\n",
      "QUADRISYLLABICS\n",
      "QUADRISYLLABLES\n",
      "QUADRIVALENCIES\n",
      "QUADRUPLICATING\n",
      "QUADRUPLICATION\n",
      "QUADRUPLICITIES\n",
      "QUANTIFICATIONS\n",
      "QUARRELSOMENESS\n",
      "QUARTERBACKINGS\n",
      "QUARTERFINALIST\n",
      "QUARTERMISTRESS\n",
      "QUATERCENTENARY\n",
      "QUATTROCENTISMS\n",
      "QUATTROCENTISTS\n",
      "QUERULOUSNESSES\n",
      "QUESTIONABILITY\n",
      "QUICKSILVERIEST\n",
      "QUICKSILVERINGS\n",
      "QUINALBARBITONE\n",
      "QUINCENTENARIES\n",
      "QUINCENTENNIALS\n",
      "QUINGENTENARIES\n",
      "QUINQUAGENARIAN\n",
      "QUINQUEVALENCES\n",
      "QUINQUIVALENCES\n",
      "QUINTESSENTIALS\n",
      "QUINTUPLICATING\n",
      "QUINTUPLICATION\n",
      "QUIZZIFICATIONS\n",
      "QUODLIBETARIANS\n",
      "QUODLIBETICALLY\n",
      "REACQUAINTANCES\n",
      "RELINQUISHMENTS\n",
      "REQUISITENESSES\n",
      "REQUISITIONISTS\n",
      "SCULPTURESQUELY\n",
      "SEQUENTIALITIES\n",
      "SESQUICARBONATE\n",
      "SESQUICENTENARY\n",
      "SESQUIPEDALIANS\n",
      "SESQUISULPHIDES\n",
      "SQUEAMISHNESSES\n",
      "SQUEEZABILITIES\n",
      "TRANQUILISATION\n",
      "TRANQUILISINGLY\n",
      "TRANQUILIZATION\n",
      "TRANQUILIZINGLY\n",
      "UBIQUITARIANISM\n",
      "UBIQUITINATIONS\n",
      "UNACQUAINTANCES\n",
      "UNEQUIVOCALNESS\n",
      "UNQUALIFIEDNESS\n",
      "UNQUESTIONINGLY\n",
      "VENTRILOQUIALLY\n",
      "VENTRILOQUISING\n",
      "VENTRILOQUISTIC\n",
      "VENTRILOQUIZING\n"
     ]
    }
   ],
   "source": [
    "for mot in mots:\n",
    "    if 'Q' in mot:\n",
    "        if len(mot) == 15:\n",
    "            print(mot)"
   ]
  },
  {
   "cell_type": "code",
   "execution_count": null,
   "id": "broadband-frame",
   "metadata": {},
   "outputs": [],
   "source": []
  }
 ],
 "metadata": {
  "kernelspec": {
   "display_name": "Python 3",
   "language": "python",
   "name": "python3"
  },
  "language_info": {
   "codemirror_mode": {
    "name": "ipython",
    "version": 3
   },
   "file_extension": ".py",
   "mimetype": "text/x-python",
   "name": "python",
   "nbconvert_exporter": "python",
   "pygments_lexer": "ipython3",
   "version": "3.7.4"
  }
 },
 "nbformat": 4,
 "nbformat_minor": 5
}
