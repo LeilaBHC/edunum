{
 "cells": [
  {
   "cell_type": "markdown",
   "metadata": {},
   "source": [
    "# aide mémoire python"
   ]
  },
  {
   "cell_type": "markdown",
   "metadata": {},
   "source": [
    "* `x = 4`: Affectation de la valeur 4 à la variable x.\n",
    "\n",
    "* `x = x + 1` : Incrémentation de la variable x de 1. x devient dans ce cas 5.\n",
    "\n",
    "* `x == 5` : Teste si la valeur de x est égale à 5 (la réponse dans ce cas est True).\n",
    "Revient à poser la question: est-ce que x est égal à 5?"
   ]
  },
  {
   "cell_type": "markdown",
   "metadata": {},
   "source": [
    "## la fonction print()\n"
   ]
  },
  {
   "cell_type": "markdown",
   "metadata": {},
   "source": [
    "* `print(x)`Affiche dans la console la valeur de la variable x\n",
    "* `print('texte')`affiche texte\n",
    "* `print('la valeur est : ', x)`\t\taffiche la valeur est : 5"
   ]
  },
  {
   "cell_type": "markdown",
   "metadata": {},
   "source": [
    "## la fonction input()"
   ]
  },
  {
   "cell_type": "markdown",
   "metadata": {},
   "source": [
    "`input()`Attend une saisie, suivie de *Enter*\n",
    "\n",
    "`input('message explicatif')`Affiche message explicatif et attend la saisie\n",
    "\n",
    "`a=input('Entrer votre nom:')` Affiche Entrer votre nom:, attend la saisie qui sera sauvegardée dans a \n"
   ]
  },
  {
   "cell_type": "markdown",
   "metadata": {},
   "source": [
    "# Type de données "
   ]
  },
  {
   "cell_type": "markdown",
   "metadata": {},
   "source": [
    "* Nombre : 100 0.1 ..\n",
    "* Texte : 'c', 'Hello', \"Hello\"\n",
    "* **Booléen** : True / False\n",
    "Le type Booléen sert à utiliser les conditions et tests    "
   ]
  },
  {
   "cell_type": "code",
   "execution_count": 2,
   "metadata": {},
   "outputs": [
    {
     "data": {
      "text/plain": [
       "False"
      ]
     },
     "execution_count": 2,
     "metadata": {},
     "output_type": "execute_result"
    }
   ],
   "source": [
    "x = 1\n",
    "x == 0"
   ]
  },
  {
   "cell_type": "markdown",
   "metadata": {},
   "source": [
    "## La fonction `int()` et `str()`"
   ]
  },
  {
   "cell_type": "markdown",
   "metadata": {},
   "source": [
    "La fonction int() permet et de convertir un texte en entier quand cela est possible."
   ]
  },
  {
   "cell_type": "code",
   "execution_count": 6,
   "metadata": {},
   "outputs": [
    {
     "data": {
      "text/plain": [
       "1234"
      ]
     },
     "execution_count": 6,
     "metadata": {},
     "output_type": "execute_result"
    }
   ],
   "source": [
    "int('1234')"
   ]
  },
  {
   "cell_type": "markdown",
   "metadata": {},
   "source": [
    "La fonction str() permet et de convertir un nombre en texte."
   ]
  },
  {
   "cell_type": "code",
   "execution_count": 2,
   "metadata": {},
   "outputs": [
    {
     "data": {
      "text/plain": [
       "'1234'"
      ]
     },
     "execution_count": 2,
     "metadata": {},
     "output_type": "execute_result"
    }
   ],
   "source": [
    "str(1234)"
   ]
  },
  {
   "cell_type": "markdown",
   "metadata": {},
   "source": [
    "# L'instruction  : if elif else\n",
    "Cette instruction permet d'éxecuter un ensemble d'instructions en fonction de l'évaluation d'une condition si une condition est remplie.\n",
    "\n",
    "## Exemple"
   ]
  },
  {
   "cell_type": "code",
   "execution_count": 4,
   "metadata": {},
   "outputs": [
    {
     "name": "stdout",
     "output_type": "stream",
     "text": [
      "n vaud zéro\n"
     ]
    }
   ],
   "source": [
    "n = 0\n",
    "if n > 0 :\n",
    "    print('n positif')\n",
    "elif n < 0:\n",
    "    print('n négatif')\n",
    "else:\n",
    "    print('n vaud zéro')"
   ]
  },
  {
   "cell_type": "markdown",
   "metadata": {},
   "source": [
    "# Attention :\n",
    "1. Les  `:` introduisent le bloc d'instructions à executer \n",
    "1. Les instructions d'un même bloc sont aligées.\n",
    "\n",
    "Changez la valeur de n et observez le resultat:"
   ]
  },
  {
   "cell_type": "code",
   "execution_count": null,
   "metadata": {},
   "outputs": [],
   "source": [
    " n = 2\n",
    "\n",
    "if n > 0:\n",
    "    print('bloc if')\n",
    "    print('bloc if')\n",
    "elif n < 0:\n",
    "    print('bloc elif')\n",
    "    print('bloc elif')\n",
    "else:\n",
    "    print('bloc else')\n",
    "    print('bloc else')"
   ]
  },
  {
   "cell_type": "markdown",
   "metadata": {},
   "source": [
    "## Exercice 1:\n",
    "1. A l'aide de la fonction input() demander l'année de naissance et la mettre dans la variable annee\n",
    "1. Convertir l'annee de naissance en nombre avec la fonction int()\n",
    "1. Calculer l'age de l'utilisateur\n",
    "1. Tester si l'age est inférieur à 18"
   ]
  },
  {
   "cell_type": "code",
   "execution_count": null,
   "metadata": {},
   "outputs": [],
   "source": []
  },
  {
   "cell_type": "markdown",
   "metadata": {},
   "source": [
    "## Exercice 2:"
   ]
  },
  {
   "cell_type": "markdown",
   "metadata": {},
   "source": [
    "1. Réaffectez 4 à la variable *note*\n",
    "1.Utilisez la fonction `print()` pour afficher la valeur de la variable note seule\n",
    "1. Ecrivez une instruction conditionnelle (if elif else) pour afficher en fonction de la note :\n",
    "    * n >= 4 affiche 'Bien !'\n",
    "    * n < 4 affiche 'Ce n'est pas assez! '"
   ]
  },
  {
   "cell_type": "code",
   "execution_count": null,
   "metadata": {},
   "outputs": [],
   "source": [
    "n = 5 "
   ]
  },
  {
   "cell_type": "code",
   "execution_count": null,
   "metadata": {},
   "outputs": [],
   "source": [
    "\n"
   ]
  },
  {
   "cell_type": "markdown",
   "metadata": {},
   "source": [
    "# Le fonction `for` :\n",
    "Cette fonction sert à executer un bloc d'instructions N fois."
   ]
  },
  {
   "cell_type": "code",
   "execution_count": 4,
   "metadata": {},
   "outputs": [
    {
     "name": "stdout",
     "output_type": "stream",
     "text": [
      "i =  0\n",
      "Dans la boucle\n",
      "i =  1\n",
      "Dans la boucle\n",
      "i =  2\n",
      "Dans la boucle\n",
      "i =  3\n",
      "Dans la boucle\n",
      "i =  4\n",
      "Dans la boucle\n",
      "Hors de la boucle\n"
     ]
    }
   ],
   "source": [
    "for i in range(5):\n",
    "    print('i = ', i)\n",
    "    print('Dans la boucle')\n",
    "print('Hors de la boucle')"
   ]
  },
  {
   "cell_type": "markdown",
   "metadata": {},
   "source": [
    "## Exercice 3:\n",
    "1. modifiez les instructions suivantes pour afficher un rectangle 4 x 15\n",
    "1. modifiez les instructions pour afficher un triangle de taille 9 avec le caractère #\n",
    "1. Ecrivez un code qui affiche une pyramide\n",
    "1. Ecrivez un code qui affiche une maison"
   ]
  },
  {
   "cell_type": "code",
   "execution_count": 13,
   "metadata": {},
   "outputs": [
    {
     "name": "stdout",
     "output_type": "stream",
     "text": [
      " ====== Rectangle ======\n",
      "0 $$$$$$$\n",
      "1 $$$$$$$\n",
      "2 $$$$$$$\n",
      " ====== Triangle ======\n",
      "1 $\n",
      "2 $$\n",
      "3 $$$\n",
      "4 $$$$\n",
      "5 $$$$$\n",
      " ====== Triangle miroir ======\n",
      "1       X\n",
      "2      XX\n",
      "3     XXX\n",
      "4    XXXX\n",
      "5   XXXXX\n"
     ]
    }
   ],
   "source": [
    "print(' ====== Rectangle ======')\n",
    "a = 3\n",
    "b = 7\n",
    "for i in range(a):\n",
    "    print(i, '$' * b)\n",
    "\n",
    "print(' ====== Triangle ======')\n",
    "for i in range(1, 6):\n",
    "    print(i, '$' * i)\n",
    "\n",
    "print(' ====== Triangle miroir ======')\n",
    "for i in range(1, 6):\n",
    "    print(i, ' '*(6-i), 'X' * i)\n",
    "\n",
    "\n"
   ]
  },
  {
   "cell_type": "code",
   "execution_count": null,
   "metadata": {},
   "outputs": [],
   "source": []
  }
 ],
 "metadata": {
  "kernelspec": {
   "display_name": "Python 3",
   "language": "python",
   "name": "python3"
  },
  "language_info": {
   "codemirror_mode": {
    "name": "ipython",
    "version": 3
   },
   "file_extension": ".py",
   "mimetype": "text/x-python",
   "name": "python",
   "nbconvert_exporter": "python",
   "pygments_lexer": "ipython3",
   "version": "3.8.5"
  }
 },
 "nbformat": 4,
 "nbformat_minor": 4
}
