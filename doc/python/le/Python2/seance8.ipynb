{
 "cells": [
  {
   "cell_type": "markdown",
   "metadata": {},
   "source": [
    "# aide mémoire python"
   ]
  },
  {
   "cell_type": "markdown",
   "metadata": {},
   "source": [
    "* `x = 4`: Affectation de la valeur 4 à la variable x.\n",
    "\n",
    "* `x = x + 1` : Incrémentation de la variable x de 1. x devient dans ce cas 5.\n",
    "\n",
    "* `x == 5` : Teste si la valeur de x est égale à 5 (la réponse dans ce cas est True).\n",
    "Revient à poser la question: est-ce que x est égal à 5?"
   ]
  },
  {
   "cell_type": "markdown",
   "metadata": {},
   "source": [
    "## la fonction print()\n"
   ]
  },
  {
   "cell_type": "markdown",
   "metadata": {},
   "source": [
    "* `print(x)`Affiche dans la console la valeur de la variable x\n",
    "* `print('texte')`affiche texte\n",
    "* `print('la valeur est : ', x)`\t\taffiche la valeur est : 5"
   ]
  },
  {
   "cell_type": "markdown",
   "metadata": {},
   "source": [
    "## la fonction input()"
   ]
  },
  {
   "cell_type": "markdown",
   "metadata": {},
   "source": [
    "`input()`Attend une saisie, suivie de *Enter*\n",
    "\n",
    "`input('message explicatif')`Affiche message explicatif et attend la saisie\n",
    "\n",
    "`a=input('Entrer votre nom:')` Affiche Entrer votre nom:, attend la saisie qui sera sauvegardée dans a \n"
   ]
  },
  {
   "cell_type": "markdown",
   "metadata": {},
   "source": [
    "# Type de données "
   ]
  },
  {
   "cell_type": "markdown",
   "metadata": {},
   "source": [
    "* Nombre : 100 0.1 ..\n",
    "* Texte : 'c', 'Hello', \"Hello\"\n",
    "* **Booléen** : True / False\n",
    "Le type Booléen sert à utiliser les conditions et tests    "
   ]
  },
  {
   "cell_type": "code",
   "execution_count": 2,
   "metadata": {},
   "outputs": [
    {
     "data": {
      "text/plain": [
       "False"
      ]
     },
     "execution_count": 2,
     "metadata": {},
     "output_type": "execute_result"
    }
   ],
   "source": [
    "x = 1\n",
    "x == 0"
   ]
  },
  {
   "cell_type": "markdown",
   "metadata": {},
   "source": [
    "## La fonction `int()` et `str()`"
   ]
  },
  {
   "cell_type": "markdown",
   "metadata": {},
   "source": [
    "La fonction int() permet et de convertir un texte en entier quand cela est possible."
   ]
  },
  {
   "cell_type": "code",
   "execution_count": 6,
   "metadata": {},
   "outputs": [
    {
     "data": {
      "text/plain": [
       "1234"
      ]
     },
     "execution_count": 6,
     "metadata": {},
     "output_type": "execute_result"
    }
   ],
   "source": [
    "int('1234')"
   ]
  },
  {
   "cell_type": "markdown",
   "metadata": {},
   "source": [
    "La fonction str() permet et de convertir un nombre en texte."
   ]
  },
  {
   "cell_type": "code",
   "execution_count": 2,
   "metadata": {},
   "outputs": [
    {
     "data": {
      "text/plain": [
       "'1234'"
      ]
     },
     "execution_count": 2,
     "metadata": {},
     "output_type": "execute_result"
    }
   ],
   "source": [
    "str(1234)"
   ]
  },
  {
   "cell_type": "markdown",
   "metadata": {},
   "source": [
    "# if elif else\n",
    "## Exemple"
   ]
  },
  {
   "cell_type": "code",
   "execution_count": 4,
   "metadata": {},
   "outputs": [
    {
     "name": "stdout",
     "output_type": "stream",
     "text": [
      "n vaud zéro\n"
     ]
    }
   ],
   "source": [
    "n = 0\n",
    "if n > 0 :\n",
    "    print('n positif')\n",
    "elif n < 0:\n",
    "    print('n négatif')\n",
    "else:\n",
    "    print('n vaud zéro')\n",
    "    "
   ]
  },
  {
   "cell_type": "markdown",
   "metadata": {},
   "source": [
    "## Exercice 1:\n",
    "1. A l'aide de la fonction input() demander l'année de naissance et la mettre dans la variable annee\n",
    "1. Convertir l'annee de naissance en nombre avec la fonction int()\n",
    "1. Calculer l'age de l'utilisateur\n",
    "1. Tester si l'age est inférieur à 18"
   ]
  },
  {
   "cell_type": "code",
   "execution_count": null,
   "metadata": {},
   "outputs": [],
   "source": []
  },
  {
   "cell_type": "code",
   "execution_count": null,
   "metadata": {},
   "outputs": [],
   "source": []
  }
 ],
 "metadata": {
  "kernelspec": {
   "display_name": "Python 3",
   "language": "python",
   "name": "python3"
  },
  "language_info": {
   "codemirror_mode": {
    "name": "ipython",
    "version": 3
   },
   "file_extension": ".py",
   "mimetype": "text/x-python",
   "name": "python",
   "nbconvert_exporter": "python",
   "pygments_lexer": "ipython3",
   "version": "3.8.5"
  }
 },
 "nbformat": 4,
 "nbformat_minor": 4
}
