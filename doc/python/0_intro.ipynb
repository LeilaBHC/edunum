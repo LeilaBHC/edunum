{
 "cells": [
  {
   "cell_type": "markdown",
   "id": "expected-burning",
   "metadata": {},
   "source": [
    "# Démarrer\n",
    "\n",
    "Pour commencer à programmer nous avons besoin d'un **environnement de dévelopement**.\n",
    "\n",
    "![intro](https://media.giphy.com/media/mXeOgQvTWweG1hODif/giphy-downsized.gif)"
   ]
  },
  {
   "cell_type": "markdown",
   "id": "emerging-engineering",
   "metadata": {},
   "source": [
    "## Thonny"
   ]
  },
  {
   "cell_type": "markdown",
   "id": "passive-still",
   "metadata": {},
   "source": [
    "## Jupyter notebooks\n",
    "\n",
    "Local\n",
    "- Anaconda\n",
    "- Thonny module\n",
    "\n",
    "Cloud\n",
    "- Google Colab\n",
    "- My Binder\n",
    "- Cocalc"
   ]
  },
  {
   "cell_type": "code",
   "execution_count": null,
   "id": "alert-avenue",
   "metadata": {},
   "outputs": [],
   "source": []
  }
 ],
 "metadata": {
  "kernelspec": {
   "display_name": "Python 3",
   "language": "python",
   "name": "python3"
  },
  "language_info": {
   "codemirror_mode": {
    "name": "ipython",
    "version": 3
   },
   "file_extension": ".py",
   "mimetype": "text/x-python",
   "name": "python",
   "nbconvert_exporter": "python",
   "pygments_lexer": "ipython3",
   "version": "3.7.9"
  }
 },
 "nbformat": 4,
 "nbformat_minor": 5
}
