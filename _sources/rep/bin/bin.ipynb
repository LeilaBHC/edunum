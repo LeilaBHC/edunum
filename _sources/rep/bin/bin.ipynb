{
 "cells": [
  {
   "cell_type": "markdown",
   "id": "confused-lindsay",
   "metadata": {},
   "source": [
    "# Système binaire"
   ]
  },
  {
   "cell_type": "markdown",
   "id": "nonprofit-edmonton",
   "metadata": {},
   "source": [
    "Le système **binaire** est la base de toute représentation d'information d'un ordinateur.\n",
    "\n",
    "![](binaire.jpg)"
   ]
  },
  {
   "cell_type": "markdown",
   "id": "attended-oakland",
   "metadata": {},
   "source": [
    "## Tour de magie\n",
    "\n",
    "Nous commençons ce chapitre par un **tour de magie**.\n",
    "Pensez à un nombre entre 0 et 15, mais ne le dites pas.\n",
    "\n",
    "![](binaire.png)\n",
    "\n",
    "Votre nombre, se trouve-t-il sur la\n",
    "- première carte ? – oui\n",
    "- deuxième carte ? – oui\n",
    "- troisième carte ? – non\n",
    "- quatrième carte ? – oui \n",
    "\n",
    "Alors vous avez pensé à 11.\n",
    "\n",
    "Encore une fois!  \n",
    "Pensez à une autre nombre entre 0 et 15.  \n",
    "Votre nombre, se trouve-t-il sur la\n",
    "- première carte ? – oui\n",
    "- deuxième carte ? – oui\n",
    "- troisième carte ? – oui\n",
    "- quatrième carte ? – non\n",
    "\n",
    "Alors vous avez pensé à 7.\n",
    "\n",
    "**Astuce:** Vous pouvez imprimer ces 4 cartes pour présenter le tour de magie à vos amis.\n",
    "- faites un **clic-droit** sur l'image\n",
    "- choisissez **Ouvrir l'image dans un noveau onglet**\n",
    "- imprimez la page"
   ]
  },
  {
   "cell_type": "markdown",
   "id": "detected-malta",
   "metadata": {},
   "source": [
    "## Comment ça fonctionne?\n",
    "\n",
    "Pour vous donner un indice, nous ajoutons à ces nombres leur code binaire.\n",
    "\n",
    "![](binaire2.png)\n",
    "\n",
    "Regardez bien ce qui est commun aux séquences binaires de chaque carte.  \n",
    "Vous trouvez l'aspect commun ?"
   ]
  },
  {
   "cell_type": "markdown",
   "id": "tired-mambo",
   "metadata": {},
   "source": [
    "## Code binaire\n",
    "\n",
    "Un vrai magicien ne divulgue jamais comment fonctione son tour de magie.  \n",
    "Mais vous avez maintenant assez d'indices pour trouver la solution par vous mêmes.\n",
    "\n",
    "Pour vous donner encore un indice, pensez de nouveau à un nombre entre 0 et 15, mais cette fois représenté-le pas en décimal, mais avec un code binaire de 4 chiffres (lu de droite à gauche).\n",
    "\n",
    "Voici les quatre questions. Est-ce que le\n",
    "- premier chiffre est 1 - oui\n",
    "- deuxième chiffre est 1 - non\n",
    "- troisièe chiffre est 1 - oui\n",
    "- uatrième chiffre est 1 - oui\n",
    "\n",
    "Alors, le nombre auqel vous avez pensé est `1011`.  \n",
    "Ceci correspond au nombre décimal 11."
   ]
  },
  {
   "cell_type": "markdown",
   "id": "advanced-irrigation",
   "metadata": {},
   "source": [
    "## La fonction `bin`\n",
    "\n",
    "Python possèce une fonction `bin()` qui transforme un décimal en binaire.  \n",
    "Par exemple voici le code binaire de 9."
   ]
  },
  {
   "cell_type": "code",
   "execution_count": 1,
   "id": "concrete-proxy",
   "metadata": {},
   "outputs": [
    {
     "data": {
      "text/plain": [
       "'0b1001'"
      ]
     },
     "execution_count": 1,
     "metadata": {},
     "output_type": "execute_result"
    }
   ],
   "source": [
    "bin(9)"
   ]
  },
  {
   "cell_type": "markdown",
   "id": "arbitrary-block",
   "metadata": {},
   "source": [
    "Dans la réponse le terme `0b` est ajouté au début du code binaire pour le différencier d'un nombre décimal. Utilisant la fonction `bin()` nous pouvons maintenant imprimer les nombres de 0 à 15."
   ]
  },
  {
   "cell_type": "code",
   "execution_count": 2,
   "id": "compact-making",
   "metadata": {},
   "outputs": [
    {
     "name": "stdout",
     "output_type": "stream",
     "text": [
      "0 = 0b0\n",
      "1 = 0b1\n",
      "2 = 0b10\n",
      "3 = 0b11\n",
      "4 = 0b100\n",
      "5 = 0b101\n",
      "6 = 0b110\n",
      "7 = 0b111\n",
      "8 = 0b1000\n",
      "9 = 0b1001\n",
      "10 = 0b1010\n",
      "11 = 0b1011\n",
      "12 = 0b1100\n",
      "13 = 0b1101\n",
      "14 = 0b1110\n",
      "15 = 0b1111\n"
     ]
    }
   ],
   "source": [
    "for i in range(16):\n",
    "    print(i, '=', bin(i))"
   ]
  },
  {
   "cell_type": "markdown",
   "id": "canadian-disney",
   "metadata": {},
   "source": [
    "En Python nous pouvons représenter un nombre sous sa forme binare en le précédent de `0b`. Voici la séquence `101` en binaire et en décimal."
   ]
  },
  {
   "cell_type": "code",
   "execution_count": 3,
   "id": "closing-separate",
   "metadata": {},
   "outputs": [
    {
     "data": {
      "text/plain": [
       "(5, 101)"
      ]
     },
     "execution_count": 3,
     "metadata": {},
     "output_type": "execute_result"
    }
   ],
   "source": [
    "0b101, 101"
   ]
  },
  {
   "cell_type": "markdown",
   "id": "confirmed-registration",
   "metadata": {},
   "source": [
    "## Le format-string\n",
    "La notation **f-string** (chaîne avec formattage) est très util pour afficher des codes binaires, et c'est une méthode plus puissant que la fonction `bin()`. \n",
    "\n",
    "Un **f-string** est une chaîne de caractères qui\n",
    "- commence par `f`\n",
    "- contient des accolades `{}` qui peuvent contenir des variables avec description de format\n",
    "\n",
    "Par exemple:\n",
    "- `{i:2}` imprime la variable `i` sur 2 positions\n",
    "- `{i:4b}` imprime la variable `i` sur 4 positions en binaire\n",
    "\n",
    "Ceci nous permet d'aligner les nombres décimaux et binaires à droite."
   ]
  },
  {
   "cell_type": "code",
   "execution_count": 4,
   "id": "federal-operator",
   "metadata": {},
   "outputs": [
    {
     "name": "stdout",
     "output_type": "stream",
     "text": [
      " 0 =    0\n",
      " 1 =    1\n",
      " 2 =   10\n",
      " 3 =   11\n",
      " 4 =  100\n",
      " 5 =  101\n",
      " 6 =  110\n",
      " 7 =  111\n",
      " 8 = 1000\n",
      " 9 = 1001\n",
      "10 = 1010\n",
      "11 = 1011\n",
      "12 = 1100\n",
      "13 = 1101\n",
      "14 = 1110\n",
      "15 = 1111\n"
     ]
    }
   ],
   "source": [
    "for i in range(16):\n",
    "    print(f'{i:2} = {i:4b}')"
   ]
  },
  {
   "cell_type": "markdown",
   "id": "boxed-wireless",
   "metadata": {},
   "source": [
    "Au lieu de mettre un espace, le zéro est fréquemment utilisé pour créer des nombres qui ont tous la même longueur. Le **f-string** permet de choisir le symbole de rembourrage (padding).\n",
    "\n",
    "- `{i:02}` imprimer la variable `i` sur 2 positions (rembourré avec des `0`)\n",
    "- `{i:04b}` imprimer la variable `i` sur 4 positions en binaire (rembourré avec des `0`)"
   ]
  },
  {
   "cell_type": "code",
   "execution_count": 5,
   "id": "ancient-coverage",
   "metadata": {},
   "outputs": [
    {
     "name": "stdout",
     "output_type": "stream",
     "text": [
      "00 = 0000\n",
      "01 = 0001\n",
      "02 = 0010\n",
      "03 = 0011\n",
      "04 = 0100\n",
      "05 = 0101\n",
      "06 = 0110\n",
      "07 = 0111\n",
      "08 = 1000\n",
      "09 = 1001\n",
      "10 = 1010\n",
      "11 = 1011\n",
      "12 = 1100\n",
      "13 = 1101\n",
      "14 = 1110\n",
      "15 = 1111\n"
     ]
    }
   ],
   "source": [
    "for i in range(16):\n",
    "    print(f'{i:02} = {i:04b}')"
   ]
  },
  {
   "cell_type": "markdown",
   "id": "inside-champagne",
   "metadata": {},
   "source": [
    "## Programmer un quiz\n",
    "\n",
    "Nous allons créer un **quiz pour apprendre le code binaire**.\n",
    "Nous commençons par créer une liste de nombres que nous voulons utiliser dans le quiz."
   ]
  },
  {
   "cell_type": "code",
   "execution_count": 6,
   "id": "trained-wallace",
   "metadata": {},
   "outputs": [
    {
     "data": {
      "text/plain": [
       "[0, 1, 2, 3, 4, 5, 6, 7]"
      ]
     },
     "execution_count": 6,
     "metadata": {},
     "output_type": "execute_result"
    }
   ],
   "source": [
    "nombres = list(range(8))\n",
    "nombres"
   ]
  },
  {
   "cell_type": "markdown",
   "id": "hazardous-chicken",
   "metadata": {},
   "source": [
    "Du module `random` nous importons la fonction `shuffle`.  Cette fonction permet de réarranger une liste de façon aléatoire. L'aventage de cette méthode est que chaqe élément est testé une seule fois."
   ]
  },
  {
   "cell_type": "code",
   "execution_count": 7,
   "id": "ordered-morning",
   "metadata": {},
   "outputs": [
    {
     "data": {
      "text/plain": [
       "[6, 4, 1, 3, 0, 2, 7, 5]"
      ]
     },
     "execution_count": 7,
     "metadata": {},
     "output_type": "execute_result"
    }
   ],
   "source": [
    "from random import shuffle\n",
    "shuffle(nombres)\n",
    "nombres"
   ]
  },
  {
   "cell_type": "markdown",
   "id": "sporting-douglas",
   "metadata": {},
   "source": [
    "Voici le code de ce quiz. Vous pouvez le copier dans l'éditeur de script de Thonny."
   ]
  },
  {
   "cell_type": "code",
   "execution_count": 8,
   "id": "unlimited-nursing",
   "metadata": {},
   "outputs": [
    {
     "name": "stdout",
     "output_type": "stream",
     "text": [
      "Quiz: décimal en binaire\n"
     ]
    },
    {
     "name": "stdin",
     "output_type": "stream",
     "text": [
      "0b110: 6\n",
      "0b100: 5\n"
     ]
    },
    {
     "name": "stdout",
     "output_type": "stream",
     "text": [
      "faux! réponse correcte = 4\n"
     ]
    },
    {
     "name": "stdin",
     "output_type": "stream",
     "text": [
      "0b1: 1\n",
      "0b11: 2\n"
     ]
    },
    {
     "name": "stdout",
     "output_type": "stream",
     "text": [
      "faux! réponse correcte = 3\n"
     ]
    },
    {
     "name": "stdin",
     "output_type": "stream",
     "text": [
      "0b0: 0\n",
      "0b10: 3\n"
     ]
    },
    {
     "name": "stdout",
     "output_type": "stream",
     "text": [
      "faux! réponse correcte = 2\n"
     ]
    },
    {
     "name": "stdin",
     "output_type": "stream",
     "text": [
      "0b111: 7\n",
      "0b101: 5\n"
     ]
    },
    {
     "name": "stdout",
     "output_type": "stream",
     "text": [
      "score = 5\n"
     ]
    }
   ],
   "source": [
    "print('Quiz: décimal en binaire')\n",
    "\n",
    "score = 0\n",
    "for i in nombres:\n",
    "    dec = input(bin(i) + ':')\n",
    "    dec = int(dec)\n",
    "    if dec == i:\n",
    "        score += 1\n",
    "    else:\n",
    "        print('faux! réponse correcte =', i)\n",
    "        \n",
    "print('score =', score)"
   ]
  },
  {
   "cell_type": "markdown",
   "id": "aware-making",
   "metadata": {},
   "source": [
    "**Attention:**  \n",
    "Il est possible que l'indicateur de cellule reste à `[*]` ce qui indique que l'execution n'est pas terminée.  \n",
    "En haut à droite vous avec **Python 3 ⚫️**  (noyeau en tour d'exécution).  \n",
    "Si nécessaire vous pouvez interrompre l'exécution avec le bouton ◼️."
   ]
  },
  {
   "cell_type": "markdown",
   "id": "personalized-rider",
   "metadata": {},
   "source": [
    "### Exercice\n",
    "\n",
    "Créez le quiz inverse, ou il faut trouver le code binaire pour un nombre donné en format décimal."
   ]
  },
  {
   "cell_type": "markdown",
   "id": "framed-brown",
   "metadata": {},
   "source": [
    "## Les chiffres\n",
    "\n",
    "Nous appelons **base b** le nombre de chiffres utilisé pour représenter un nombre.\n",
    "\n",
    "Dans le système de base 10 (système décimal) nous utilisons les chiffres\n",
    "\n",
    "    '0123456789'\n",
    "    \n",
    "Dans le système de base 2 (système binaire) nous utilisons seulement\n",
    "\n",
    "    '01'\n",
    "    \n",
    "et dans le système héxadécimal nous utilisons 16 symboles.\n",
    "\n",
    "    '0123456789ABCDEF'"
   ]
  },
  {
   "cell_type": "markdown",
   "id": "massive-clause",
   "metadata": {},
   "source": [
    "## Le système positionnel\n",
    "\n",
    "Dans un système positionnel la valeur d'un symbol est determinée par \n",
    "- sa propre valeur,\n",
    "- sa position dans la séquence."
   ]
  },
  {
   "cell_type": "markdown",
   "id": "coupled-destruction",
   "metadata": {},
   "source": [
    "Un nombre est représenté par une **séquences de chiffres**.  Par exemple:\n",
    "\n",
    "    n = '2021'\n",
    "    \n",
    "La valeur d'un chiffre dépend de sa position.\n",
    "- le premier 2 a la valeur 2000\n",
    "- le deuxième 2 a la valeur 20"
   ]
  },
  {
   "cell_type": "markdown",
   "id": "essential-puzzle",
   "metadata": {},
   "source": [
    "Nous povons représenter un **nombre n** dans une **base b** par une séquence de **chiffres c** dont les **indices i** vont de 0 à m-1.\n",
    "\n",
    "$$ c_{m-1} ... c_2 c_1 c_0 $$\n",
    "\n",
    "Le valeur de cette séquence des chiffres est \n",
    "\n",
    "$$ n_b = \\sum_{i=0}^{m-1} {c_i \\cdot b^i} $$\n",
    "\n",
    "La valeur du nombre est donc la somme des valeur du **chiffre** $c_i$ muliplié par son **poids** $b^i$."
   ]
  },
  {
   "cell_type": "markdown",
   "id": "plain-sauce",
   "metadata": {},
   "source": [
    "## Indexage\n",
    "\n",
    "La fonction `range(m)` nous donne la liste des indices 0 à m-1 que nous aurons besoin pour les calculs."
   ]
  },
  {
   "cell_type": "code",
   "execution_count": 9,
   "id": "latin-politics",
   "metadata": {},
   "outputs": [
    {
     "data": {
      "text/plain": [
       "[0, 1, 2, 3, 4, 5, 6, 7]"
      ]
     },
     "execution_count": 9,
     "metadata": {},
     "output_type": "execute_result"
    }
   ],
   "source": [
    "m = 8\n",
    "list(range(m))"
   ]
  },
  {
   "cell_type": "markdown",
   "id": "prime-lottery",
   "metadata": {},
   "source": [
    "Seulement, nous avons pris l'habitude d'écrire les nombres de droite à gauche.\n",
    "\n",
    "$$ c_{m-1} ... c_2 c_1 c_0 $$\n",
    "\n",
    "Donc l'indice m-1 se trouve à gauche et l'indice 0 à droite.  \n",
    "L'opérateur de tranche `[::-1]` permet d'inverser l'ordre d'une liste."
   ]
  },
  {
   "cell_type": "code",
   "execution_count": 10,
   "id": "conservative-natural",
   "metadata": {},
   "outputs": [
    {
     "data": {
      "text/plain": [
       "[7, 6, 5, 4, 3, 2, 1, 0]"
      ]
     },
     "execution_count": 10,
     "metadata": {},
     "output_type": "execute_result"
    }
   ],
   "source": [
    "list(range(m))[::-1]"
   ]
  },
  {
   "cell_type": "markdown",
   "id": "alternate-shield",
   "metadata": {},
   "source": [
    "## Le poids des positions\n",
    "\n",
    "Le poids du chiffre $c_i$ est $b^i$, donc la puissance de la **base b** et sa **position i**.  \n",
    "Les poids pour 5 positions décimales est"
   ]
  },
  {
   "cell_type": "code",
   "execution_count": 11,
   "id": "alpine-puppy",
   "metadata": {},
   "outputs": [
    {
     "data": {
      "text/plain": [
       "[10000, 1000, 100, 10, 1]"
      ]
     },
     "execution_count": 11,
     "metadata": {},
     "output_type": "execute_result"
    }
   ],
   "source": [
    "[10**i for i in range(5)][::-1]"
   ]
  },
  {
   "cell_type": "markdown",
   "id": "trained-roots",
   "metadata": {},
   "source": [
    "Pour reprendre le nombre 2021 sa décomposition est"
   ]
  },
  {
   "cell_type": "code",
   "execution_count": 12,
   "id": "naked-contribution",
   "metadata": {},
   "outputs": [
    {
     "data": {
      "text/plain": [
       "2021"
      ]
     },
     "execution_count": 12,
     "metadata": {},
     "output_type": "execute_result"
    }
   ],
   "source": [
    "2*1000 + 0*100 + 2*10 + 1"
   ]
  },
  {
   "cell_type": "markdown",
   "id": "earlier-declaration",
   "metadata": {},
   "source": [
    "Les poids du système binaire sont des puissances de 2."
   ]
  },
  {
   "cell_type": "code",
   "execution_count": 13,
   "id": "hydraulic-pledge",
   "metadata": {},
   "outputs": [
    {
     "name": "stdout",
     "output_type": "stream",
     "text": [
      "128\t64\t32\t16\t8\t4\t2\t1\n"
     ]
    }
   ],
   "source": [
    "poids = [2**i for i in range(8)][::-1]\n",
    "print(*poids, sep='\\t')"
   ]
  },
  {
   "cell_type": "markdown",
   "id": "cultural-cooling",
   "metadata": {},
   "source": [
    "## Binaire en décimal\n",
    "\n",
    "Nous pouvons donc calculer la valeur de la séquence binaire et l'exprimer en décimal.  \n",
    "Affichons les 8 poids binaires et les 8 chiffres binaires ensemble."
   ]
  },
  {
   "cell_type": "code",
   "execution_count": 14,
   "id": "nonprofit-blood",
   "metadata": {},
   "outputs": [
    {
     "name": "stdout",
     "output_type": "stream",
     "text": [
      "128\t64\t32\t16\t8\t4\t2\t1\n",
      "1\t0\t0\t1\t0\t1\t0\t0\n"
     ]
    }
   ],
   "source": [
    "c = '10010100'\n",
    "print(*poids, sep='\\t')\n",
    "print(*c, sep='\\t')"
   ]
  },
  {
   "cell_type": "markdown",
   "id": "unauthorized-protocol",
   "metadata": {},
   "source": [
    "La valeur représenté par `10010100` correspond à"
   ]
  },
  {
   "cell_type": "code",
   "execution_count": 15,
   "id": "blank-representation",
   "metadata": {},
   "outputs": [
    {
     "data": {
      "text/plain": [
       "148"
      ]
     },
     "execution_count": 15,
     "metadata": {},
     "output_type": "execute_result"
    }
   ],
   "source": [
    "128 + 16 + 4"
   ]
  },
  {
   "cell_type": "markdown",
   "id": "anonymous-burke",
   "metadata": {},
   "source": [
    "Nous pouvons visualiser cet algorithme en Python. L'indexe `c[m-1-i]` tient compte que nous indexons la séquence des chiffres de droite à gauche."
   ]
  },
  {
   "cell_type": "code",
   "execution_count": 28,
   "id": "combined-memphis",
   "metadata": {},
   "outputs": [
    {
     "name": "stdout",
     "output_type": "stream",
     "text": [
      "+ 4\n",
      "+ 16\n",
      "+ 128\n",
      "= 148\n"
     ]
    }
   ],
   "source": [
    "c = '10010100'\n",
    "m = len(c)\n",
    "n = 0\n",
    "\n",
    "for i in range(m):\n",
    "    if c[m-1-i] == '1':\n",
    "        print('+', 2**i)\n",
    "        n += 2**i\n",
    "        \n",
    "print('=', n)"
   ]
  },
  {
   "cell_type": "markdown",
   "id": "loved-battery",
   "metadata": {},
   "source": [
    "Nous pouvons maintenant définir une fonction `bin2dec` qui fait la conversion chaîne binaire vers nombre décimal."
   ]
  },
  {
   "cell_type": "code",
   "execution_count": 19,
   "id": "electric-straight",
   "metadata": {},
   "outputs": [],
   "source": [
    "def bin2dec(c):\n",
    "    m = len(c)\n",
    "    n = 0\n",
    "    for i in range(m):\n",
    "        if c[m-1-i] == '1':\n",
    "            n += 2**i\n",
    "    return n"
   ]
  },
  {
   "cell_type": "code",
   "execution_count": 21,
   "id": "distant-nightlife",
   "metadata": {},
   "outputs": [
    {
     "data": {
      "text/plain": [
       "148"
      ]
     },
     "execution_count": 21,
     "metadata": {},
     "output_type": "execute_result"
    }
   ],
   "source": [
    "bin2dec('10010100')"
   ]
  },
  {
   "cell_type": "markdown",
   "id": "indie-cartoon",
   "metadata": {},
   "source": [
    "### Python avancé\n",
    "\n",
    "La **compréhension de liste** permet d'écrire la liste des termes $c_i b^i$ en une seule ligne."
   ]
  },
  {
   "cell_type": "code",
   "execution_count": 23,
   "id": "emotional-elizabeth",
   "metadata": {},
   "outputs": [
    {
     "data": {
      "text/plain": [
       "[0, 0, 4, 0, 16, 0, 0, 128]"
      ]
     },
     "execution_count": 23,
     "metadata": {},
     "output_type": "execute_result"
    }
   ],
   "source": [
    "[int(c[m-1-i]) * 2**i for i in range(m)]"
   ]
  },
  {
   "cell_type": "markdown",
   "id": "marine-masters",
   "metadata": {},
   "source": [
    "La fonction `sum` permet de sommer les éléments de cette liste."
   ]
  },
  {
   "cell_type": "code",
   "execution_count": 24,
   "id": "established-confirmation",
   "metadata": {},
   "outputs": [
    {
     "data": {
      "text/plain": [
       "148"
      ]
     },
     "execution_count": 24,
     "metadata": {},
     "output_type": "execute_result"
    }
   ],
   "source": [
    "sum([int(c[m-1-i]) * 2**i for i in range(m)])"
   ]
  },
  {
   "cell_type": "markdown",
   "id": "green-ultimate",
   "metadata": {},
   "source": [
    "La notation Python est pratiquement identique à la formule mathématique.\n",
    "\n",
    "$$ n_b = \\sum_{i=0}^{m-1} {c_i \\cdot b^i} $$"
   ]
  },
  {
   "cell_type": "markdown",
   "id": "viral-rental",
   "metadata": {},
   "source": [
    "## Décimal en binaire\n",
    "\n",
    "L'algorithme de conversion décimale en binaire utilise\n",
    "- division entière `//`\n",
    "- division modulo `%`"
   ]
  },
  {
   "cell_type": "code",
   "execution_count": 25,
   "id": "beneficial-baltimore",
   "metadata": {},
   "outputs": [
    {
     "name": "stdout",
     "output_type": "stream",
     "text": [
      "10010100\n"
     ]
    }
   ],
   "source": [
    "n = 148\n",
    "\n",
    "c = ''\n",
    "while n > 0:\n",
    "    c = str(n % 2) + c\n",
    "    n = n // 2\n",
    "    \n",
    "print(c)"
   ]
  },
  {
   "cell_type": "markdown",
   "id": "involved-legislation",
   "metadata": {},
   "source": [
    "Nous en créons une fonction"
   ]
  },
  {
   "cell_type": "code",
   "execution_count": 26,
   "id": "preliminary-singles",
   "metadata": {},
   "outputs": [],
   "source": [
    "def dec2bin(n):\n",
    "    c = ''\n",
    "    while n > 0:\n",
    "        c = str(n % 2) + c\n",
    "        n = n // 2\n",
    "    return c"
   ]
  },
  {
   "cell_type": "code",
   "execution_count": 27,
   "id": "distinct-dealing",
   "metadata": {},
   "outputs": [
    {
     "data": {
      "text/plain": [
       "'10010100'"
      ]
     },
     "execution_count": 27,
     "metadata": {},
     "output_type": "execute_result"
    }
   ],
   "source": [
    "dec2bin(148)"
   ]
  },
  {
   "cell_type": "markdown",
   "id": "agricultural-science",
   "metadata": {},
   "source": [
    "### Exercice\n",
    "Créez une fonction qui permet de choisir la base, par exemple 3, 4 et 5."
   ]
  },
  {
   "cell_type": "code",
   "execution_count": null,
   "id": "unknown-newton",
   "metadata": {},
   "outputs": [],
   "source": []
  }
 ],
 "metadata": {
  "kernelspec": {
   "display_name": "Python 3",
   "language": "python",
   "name": "python3"
  },
  "language_info": {
   "codemirror_mode": {
    "name": "ipython",
    "version": 3
   },
   "file_extension": ".py",
   "mimetype": "text/x-python",
   "name": "python",
   "nbconvert_exporter": "python",
   "pygments_lexer": "ipython3",
   "version": "3.7.9"
  }
 },
 "nbformat": 4,
 "nbformat_minor": 5
}
