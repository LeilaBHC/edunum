{
 "cells": [
  {
   "cell_type": "markdown",
   "metadata": {},
   "source": [
    "# Algorithmique"
   ]
  },
  {
   "cell_type": "markdown",
   "metadata": {},
   "source": [
    "Un algorithme est une marche à suivre par étappes pour faire un calcul répétitif"
   ]
  },
  {
   "cell_type": "code",
   "execution_count": 16,
   "metadata": {},
   "outputs": [],
   "source": [
    "liste = [3, 4, 5, 3, 6]"
   ]
  },
  {
   "cell_type": "markdown",
   "metadata": {},
   "source": [
    "## Somme\n",
    "\n",
    "Voici un exemple simple pour calculer la somme des éléments d'une liste\n",
    "\n",
    "- l'accumuleur `somme` est mis à zéro\n",
    "- la `liste` est parcouru dans une boucle\n",
    "- chaque élément `x`\n",
    " de la liste est additionné"
   ]
  },
  {
   "cell_type": "code",
   "execution_count": 4,
   "metadata": {},
   "outputs": [
    {
     "data": {
      "text/plain": [
       "28"
      ]
     },
     "execution_count": 4,
     "metadata": {},
     "output_type": "execute_result"
    }
   ],
   "source": [
    "somme = 0\n",
    "for x in liste:\n",
    "    somme += x\n",
    "    \n",
    "somme"
   ]
  },
  {
   "cell_type": "markdown",
   "metadata": {},
   "source": [
    "## Minimum"
   ]
  },
  {
   "cell_type": "code",
   "execution_count": 6,
   "metadata": {},
   "outputs": [
    {
     "data": {
      "text/plain": [
       "3"
      ]
     },
     "execution_count": 6,
     "metadata": {},
     "output_type": "execute_result"
    }
   ],
   "source": [
    "minimum = liste[0]\n",
    "for x in liste:\n",
    "    if x < minimum:\n",
    "        minimum = x\n",
    "        \n",
    "minimum"
   ]
  },
  {
   "cell_type": "markdown",
   "metadata": {},
   "source": [
    "## Maximum"
   ]
  },
  {
   "cell_type": "code",
   "execution_count": 7,
   "metadata": {},
   "outputs": [
    {
     "data": {
      "text/plain": [
       "7"
      ]
     },
     "execution_count": 7,
     "metadata": {},
     "output_type": "execute_result"
    }
   ],
   "source": [
    "maximum = liste[0]\n",
    "for x in liste:\n",
    "    if x > maximum:\n",
    "        maximum = x\n",
    "        \n",
    "maximum"
   ]
  },
  {
   "cell_type": "markdown",
   "metadata": {},
   "source": [
    "## Enumérer une liste\n",
    "\n",
    "La fonction `enumerate()` retourne pour chaque élément d'une liste un tuple avec son index et sa valeur `(i, val)`"
   ]
  },
  {
   "cell_type": "code",
   "execution_count": 22,
   "metadata": {},
   "outputs": [
    {
     "name": "stdout",
     "output_type": "stream",
     "text": [
      "(0, 3)\n",
      "(1, 5)\n",
      "(2, 4)\n",
      "(3, 6)\n",
      "(4, 2)\n"
     ]
    }
   ],
   "source": [
    "a = [3, 5, 4, 6, 2]\n",
    "\n",
    "for x in enumerate(a):\n",
    "    print(x)"
   ]
  },
  {
   "cell_type": "code",
   "execution_count": 23,
   "metadata": {},
   "outputs": [
    {
     "data": {
      "text/plain": [
       "[(0, 3), (1, 5), (2, 4), (3, 6), (4, 2)]"
      ]
     },
     "execution_count": 23,
     "metadata": {},
     "output_type": "execute_result"
    }
   ],
   "source": [
    "list(enumerate(a))"
   ]
  },
  {
   "cell_type": "markdown",
   "metadata": {},
   "source": [
    "## Position\n",
    "\n",
    "Parfois nous voulons connaitre la position d'un maximum."
   ]
  },
  {
   "cell_type": "code",
   "execution_count": 28,
   "metadata": {},
   "outputs": [
    {
     "name": "stdout",
     "output_type": "stream",
     "text": [
      "6 at 3\n"
     ]
    }
   ],
   "source": [
    "a = [3, 5, 4, 6, 2]\n",
    "\n",
    "max_pos = 0\n",
    "max_val = a[0]\n",
    "\n",
    "for i, x in enumerate(a):\n",
    "    if x > max_val:\n",
    "        max_pos = i\n",
    "        max_val = x\n",
    "        \n",
    "print(max_val, 'at', max_pos)"
   ]
  },
  {
   "cell_type": "code",
   "execution_count": 26,
   "metadata": {},
   "outputs": [
    {
     "name": "stdout",
     "output_type": "stream",
     "text": [
      "maximum value 6 at position 3\n"
     ]
    }
   ],
   "source": [
    "for i in range(len(a)):\n",
    "    if i == 0:\n",
    "        val, pos = a[0], 0\n",
    "    elif a[i] > val:\n",
    "        val, pos = a[i], i\n",
    "        \n",
    "print('maximum value', val, 'at position', pos)"
   ]
  },
  {
   "cell_type": "markdown",
   "metadata": {},
   "source": [
    "## Tri par insertion"
   ]
  },
  {
   "cell_type": "code",
   "execution_count": 32,
   "metadata": {},
   "outputs": [],
   "source": [
    "a = [2, 4, 9]"
   ]
  },
  {
   "cell_type": "markdown",
   "metadata": {},
   "source": [
    "## Trouver position\n",
    "\n",
    "Voici un algorithme pour trouver la position d'une valeur `x` dans une liste `a`déjà trié."
   ]
  },
  {
   "cell_type": "code",
   "execution_count": 93,
   "metadata": {},
   "outputs": [],
   "source": [
    "def position(a, x):\n",
    "    for i in range(len(a)):\n",
    "        if x < a[i]:\n",
    "            return i\n",
    "    return i + 1"
   ]
  },
  {
   "cell_type": "markdown",
   "metadata": {},
   "source": [
    "Nous allons tester l'algorithme avec une liste trié simple, consistant de 2 éléments."
   ]
  },
  {
   "cell_type": "code",
   "execution_count": 94,
   "metadata": {},
   "outputs": [
    {
     "name": "stdout",
     "output_type": "stream",
     "text": [
      "0\n",
      "1\n",
      "2\n"
     ]
    }
   ],
   "source": [
    "a = [2, 5]\n",
    "print(position(a, 1))\n",
    "print(position(a, 3))\n",
    "print(position(a, 9))"
   ]
  },
  {
   "cell_type": "markdown",
   "metadata": {},
   "source": [
    "## Trouver le minimum\n",
    "\n",
    "Voici un algorithme pour trouver la position du minimum."
   ]
  },
  {
   "cell_type": "code",
   "execution_count": 75,
   "metadata": {},
   "outputs": [],
   "source": [
    "def minimum(a):\n",
    "    pos, val = 0, a[0]\n",
    "    for i in range(len(a)):\n",
    "        if a[i] < val:\n",
    "             pos, val = i, a[i]\n",
    "    return pos"
   ]
  },
  {
   "cell_type": "code",
   "execution_count": 76,
   "metadata": {},
   "outputs": [
    {
     "data": {
      "text/plain": [
       "3"
      ]
     },
     "execution_count": 76,
     "metadata": {},
     "output_type": "execute_result"
    }
   ],
   "source": [
    "a = [3, 5, 2, 1, 8]\n",
    "minimum(a)"
   ]
  },
  {
   "cell_type": "markdown",
   "metadata": {},
   "source": [
    "## Tri par séléction\n",
    "\n",
    "Dans cet algorithme nous cherchons le plus petit élément de la liste et nous l'ajoutons à une nouvelle liste."
   ]
  },
  {
   "cell_type": "code",
   "execution_count": 96,
   "metadata": {},
   "outputs": [
    {
     "name": "stdout",
     "output_type": "stream",
     "text": [
      "[5, 6, 9, 7] --> 3 --> [3]\n",
      "[6, 9, 7] --> 5 --> [3, 5]\n",
      "[9, 7] --> 6 --> [3, 5, 6]\n",
      "[9] --> 7 --> [3, 5, 6, 7]\n",
      "[] --> 9 --> [3, 5, 6, 7, 9]\n"
     ]
    }
   ],
   "source": [
    "a = [5, 6, 9, 7, 3]\n",
    "b = []\n",
    "while len(a) > 0:\n",
    "    i = minimum(a)\n",
    "    x = a.pop(i)\n",
    "    b.append(x)\n",
    "    print(a, '-->', x, '-->', b)"
   ]
  },
  {
   "cell_type": "code",
   "execution_count": 100,
   "metadata": {},
   "outputs": [
    {
     "name": "stdout",
     "output_type": "stream",
     "text": [
      "[2, 4] 3\n"
     ]
    }
   ],
   "source": [
    "a = [2, 3, 4]\n",
    "x = a.pop(1)\n",
    "print(a, x)"
   ]
  },
  {
   "cell_type": "code",
   "execution_count": 101,
   "metadata": {},
   "outputs": [
    {
     "data": {
      "text/plain": [
       "[2, 9, 3, 4]"
      ]
     },
     "execution_count": 101,
     "metadata": {},
     "output_type": "execute_result"
    }
   ],
   "source": [
    "a = [2, 3, 4]\n",
    "a.insert(1, 9)\n",
    "a"
   ]
  },
  {
   "cell_type": "code",
   "execution_count": 104,
   "metadata": {},
   "outputs": [
    {
     "data": {
      "text/plain": [
       "[0, 1, 2, 3, 4, 5, 6, 7, 8, 9]"
      ]
     },
     "execution_count": 104,
     "metadata": {},
     "output_type": "execute_result"
    }
   ],
   "source": [
    "a = list(range(10))\n",
    "a"
   ]
  },
  {
   "cell_type": "markdown",
   "metadata": {},
   "source": [
    "## Echanger deux éléments\n",
    "\n",
    "Voici une fonction pour échanger deux éléments d'une liste."
   ]
  },
  {
   "cell_type": "code",
   "execution_count": 107,
   "metadata": {},
   "outputs": [
    {
     "data": {
      "text/plain": [
       "[0, 1, 2, 8, 4, 5, 6, 7, 3, 9]"
      ]
     },
     "execution_count": 107,
     "metadata": {},
     "output_type": "execute_result"
    }
   ],
   "source": [
    "a[3], a[8] = a[8], a[3] \n",
    "a"
   ]
  },
  {
   "cell_type": "code",
   "execution_count": 108,
   "metadata": {},
   "outputs": [],
   "source": [
    "def swap(a, i, j):\n",
    "    a[i], a[j] = a[j], a[i] "
   ]
  },
  {
   "cell_type": "code",
   "execution_count": 116,
   "metadata": {},
   "outputs": [
    {
     "data": {
      "text/plain": [
       "[0, 8, 1, 2, 4, 5, 6, 7, 3, 9]"
      ]
     },
     "execution_count": 116,
     "metadata": {},
     "output_type": "execute_result"
    }
   ],
   "source": [
    "swap(a, 1, 2)\n",
    "a"
   ]
  },
  {
   "cell_type": "code",
   "execution_count": null,
   "metadata": {},
   "outputs": [],
   "source": []
  }
 ],
 "metadata": {
  "kernelspec": {
   "display_name": "Python 3",
   "language": "python",
   "name": "python3"
  },
  "language_info": {
   "codemirror_mode": {
    "name": "ipython",
    "version": 3
   },
   "file_extension": ".py",
   "mimetype": "text/x-python",
   "name": "python",
   "nbconvert_exporter": "python",
   "pygments_lexer": "ipython3",
   "version": "3.7.4"
  }
 },
 "nbformat": 4,
 "nbformat_minor": 4
}
