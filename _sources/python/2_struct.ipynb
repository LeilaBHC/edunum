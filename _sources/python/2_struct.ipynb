{
 "cells": [
  {
   "cell_type": "markdown",
   "metadata": {},
   "source": [
    "# Les structures de flux\n",
    "\n",
    "Tout programme suit 3 principes de base\n",
    "\n",
    "- exécution linéaire\n",
    "- branchement\n",
    "- boucle\n",
    "\n",
    "Tout d'abord un programme est une séquence linéaire d'instructions, qui ont un ordre défini, et ils sont exécuté dans cet ordre.\n",
    "\n",
    "Ensuite il y a des instructions conditionnel, ou il y a un choix entre différents options et seulement une branche est execute.\n",
    "\n",
    "Le troisième schéma est la boucle, qui permet de parcourir une partie du code multiple fois."
   ]
  },
  {
   "cell_type": "code",
   "execution_count": 4,
   "metadata": {},
   "outputs": [
    {
     "name": "stdout",
     "output_type": "stream",
     "text": [
      "Exécution linéaire\n",
      "12 à la puissance 34 est\n",
      "4922235242952026704037113243122008064\n"
     ]
    }
   ],
   "source": [
    "print('Exécution linéaire')\n",
    "print('12 à la puissance 34 est')\n",
    "print(12 ** 34)"
   ]
  },
  {
   "cell_type": "markdown",
   "metadata": {},
   "source": [
    "## Les comparaisons"
   ]
  },
  {
   "cell_type": "markdown",
   "metadata": {},
   "source": [
    "En Python, il y a 6 opérateur de comparaison\n",
    "\n",
    "- `==` égal\n",
    "- `!=` inégal\n",
    "- `>` plus grand\n",
    "- `>=` plus grand ou égal\n",
    "- `<` plus petit\n",
    "- `<=` plus petit ou égal\n",
    "\n",
    "Definissons une varaible que nous allons utiliser pour les comparaison"
   ]
  },
  {
   "cell_type": "code",
   "execution_count": 2,
   "metadata": {},
   "outputs": [],
   "source": [
    "x = 3"
   ]
  },
  {
   "cell_type": "markdown",
   "metadata": {},
   "source": [
    "Plus grand que 0?"
   ]
  },
  {
   "cell_type": "code",
   "execution_count": 3,
   "metadata": {},
   "outputs": [
    {
     "data": {
      "text/plain": [
       "True"
      ]
     },
     "execution_count": 3,
     "metadata": {},
     "output_type": "execute_result"
    }
   ],
   "source": [
    "x > 0"
   ]
  },
  {
   "cell_type": "markdown",
   "metadata": {},
   "source": [
    "Différent de 10?"
   ]
  },
  {
   "cell_type": "code",
   "execution_count": 4,
   "metadata": {},
   "outputs": [
    {
     "data": {
      "text/plain": [
       "True"
      ]
     },
     "execution_count": 4,
     "metadata": {},
     "output_type": "execute_result"
    }
   ],
   "source": [
    "x != 10"
   ]
  },
  {
   "cell_type": "markdown",
   "metadata": {},
   "source": [
    "Plus grand que 10?"
   ]
  },
  {
   "cell_type": "code",
   "execution_count": 5,
   "metadata": {},
   "outputs": [
    {
     "data": {
      "text/plain": [
       "False"
      ]
     },
     "execution_count": 5,
     "metadata": {},
     "output_type": "execute_result"
    }
   ],
   "source": [
    "x > 10"
   ]
  },
  {
   "cell_type": "markdown",
   "metadata": {},
   "source": [
    "Plus grand que 0?"
   ]
  },
  {
   "cell_type": "markdown",
   "metadata": {},
   "source": [
    "## Comparaison avec un seuil\n",
    "\n",
    "Nous comparons les nombre 0 à 9 avec un seuil 4."
   ]
  },
  {
   "cell_type": "code",
   "execution_count": 13,
   "metadata": {},
   "outputs": [
    {
     "name": "stdout",
     "output_type": "stream",
     "text": [
      "0 > 4  False\n",
      "1 > 4  False\n",
      "2 > 4  False\n",
      "3 > 4  False\n",
      "4 > 4  False\n",
      "5 > 4  False\n",
      "6 > 4  True\n",
      "7 > 4  True\n",
      "8 > 4  True\n",
      "9 > 4  True\n"
     ]
    }
   ],
   "source": [
    "for i in range(10):\n",
    "    print(i, '> 4 ', i > 5)"
   ]
  },
  {
   "cell_type": "markdown",
   "metadata": {},
   "source": [
    "## Comparaison pour une interval\n",
    "\n",
    "Nous vérifions si un nombre `i` variant de 0 à 9 se trouve dans l'interval ]3, 7[."
   ]
  },
  {
   "cell_type": "code",
   "execution_count": 17,
   "metadata": {},
   "outputs": [
    {
     "name": "stdout",
     "output_type": "stream",
     "text": [
      "3 < 0 < 7   False\n",
      "3 < 1 < 7   False\n",
      "3 < 2 < 7   False\n",
      "3 < 3 < 7   False\n",
      "3 < 4 < 7   True\n",
      "3 < 5 < 7   True\n",
      "3 < 6 < 7   True\n",
      "3 < 7 < 7   False\n",
      "3 < 8 < 7   False\n",
      "3 < 9 < 7   False\n"
     ]
    }
   ],
   "source": [
    "for i in range(10):\n",
    "    print('3 <', i, '< 7  ', 3 < i < 7)"
   ]
  },
  {
   "cell_type": "code",
   "execution_count": 10,
   "metadata": {},
   "outputs": [
    {
     "name": "stdout",
     "output_type": "stream",
     "text": [
      "012345678901234567890123456789\n",
      "-----------xxxxxxxxxxxxxxxxxxx"
     ]
    }
   ],
   "source": [
    "print('0123456789' * 3)\n",
    "for i in range(30):\n",
    "    x = 'x' if i > 10 else '-'\n",
    "    print(x, end='')"
   ]
  },
  {
   "cell_type": "markdown",
   "metadata": {},
   "source": [
    "## Comparaison if-else"
   ]
  },
  {
   "cell_type": "code",
   "execution_count": 21,
   "metadata": {},
   "outputs": [
    {
     "name": "stdout",
     "output_type": "stream",
     "text": [
      "-3  non-positif\n",
      "-2  non-positif\n",
      "-1  non-positif\n",
      "0  non-positif\n",
      "1  positif\n",
      "2  positif\n",
      "3  positif\n"
     ]
    }
   ],
   "source": [
    "for i in range(-3, 4):\n",
    "    if i > 0:\n",
    "        print(i, ' positif')\n",
    "    else:\n",
    "        print(i, ' non-positif')"
   ]
  },
  {
   "cell_type": "markdown",
   "metadata": {},
   "source": [
    "## Comparaison if-elif-else"
   ]
  },
  {
   "cell_type": "code",
   "execution_count": 20,
   "metadata": {},
   "outputs": [
    {
     "name": "stdout",
     "output_type": "stream",
     "text": [
      "-3  négatif\n",
      "-2  négatif\n",
      "-1  négatif\n",
      "0  zéro\n",
      "1  positif\n",
      "2  positif\n",
      "3  positif\n"
     ]
    }
   ],
   "source": [
    "for i in range(-3, 4):\n",
    "    if i > 0:\n",
    "        print(i, ' positif')\n",
    "    elif i < 0:\n",
    "        print(i, ' négatif')\n",
    "    else:\n",
    "        print(i, ' zéro')"
   ]
  },
  {
   "cell_type": "code",
   "execution_count": 16,
   "metadata": {},
   "outputs": [
    {
     "name": "stdout",
     "output_type": "stream",
     "text": [
      "itération 0\n",
      "itération 1\n",
      "itération 2\n",
      "end\n"
     ]
    }
   ],
   "source": [
    "n = 0\n",
    "while n < 3:\n",
    "    print('itération', n)\n",
    "    n = n + 1\n",
    "print('end')"
   ]
  }
 ],
 "metadata": {
  "kernelspec": {
   "display_name": "Python 3",
   "language": "python",
   "name": "python3"
  },
  "language_info": {
   "codemirror_mode": {
    "name": "ipython",
    "version": 3
   },
   "file_extension": ".py",
   "mimetype": "text/x-python",
   "name": "python",
   "nbconvert_exporter": "python",
   "pygments_lexer": "ipython3",
   "version": "3.7.9"
  },
  "toc-autonumbering": false
 },
 "nbformat": 4,
 "nbformat_minor": 4
}
