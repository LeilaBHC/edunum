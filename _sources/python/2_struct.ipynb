{
 "cells": [
  {
   "cell_type": "markdown",
   "metadata": {},
   "source": [
    "# Les structures de flux\n",
    "\n",
    "Tout programme suit 3 principes de base\n",
    "\n",
    "- exécution linéaire\n",
    "- branchement\n",
    "- boucle\n",
    "\n",
    "Tout d'abord un programme est une séquence linéaire d'instructions, qui ont un ordre défini, et ils sont exécuté dans cet ordre.\n",
    "\n",
    "Ensuite il y a des instructions conditionnel, ou il y a un choix entre différents options et seulement une branche est execute.\n",
    "\n",
    "Le troisième schéma est la boucle, qui permet de parcourir une partie du code multiple fois."
   ]
  },
  {
   "cell_type": "code",
   "execution_count": 4,
   "metadata": {},
   "outputs": [
    {
     "name": "stdout",
     "output_type": "stream",
     "text": [
      "Exécution linéaire\n",
      "12 à la puissance 34 est\n",
      "4922235242952026704037113243122008064\n"
     ]
    }
   ],
   "source": [
    "print('Exécution linéaire')\n",
    "print('12 à la puissance 34 est')\n",
    "print(12 ** 34)"
   ]
  },
  {
   "cell_type": "code",
   "execution_count": 16,
   "metadata": {},
   "outputs": [
    {
     "name": "stdout",
     "output_type": "stream",
     "text": [
      "itération 0\n",
      "itération 1\n",
      "itération 2\n",
      "end\n"
     ]
    }
   ],
   "source": [
    "n = 0\n",
    "while n < 3:\n",
    "    print('itération', n)\n",
    "    n = n + 1\n",
    "print('end')"
   ]
  },
  {
   "cell_type": "code",
   "execution_count": 13,
   "metadata": {},
   "outputs": [
    {
     "name": "stdout",
     "output_type": "stream",
     "text": [
      "-2 négatif\n",
      "-1 négatif\n",
      "0 zéro\n",
      "1 positif\n",
      "2 positif\n"
     ]
    }
   ],
   "source": [
    "for n in range(-2, 3):\n",
    "    if n < 0:\n",
    "        print(n, 'négatif')\n",
    "    elif n > 0:\n",
    "        print(n, 'positif')\n",
    "    else:\n",
    "        print(n, 'zéro')"
   ]
  },
  {
   "cell_type": "markdown",
   "metadata": {},
   "source": [
    "## Variables\n",
    "\n",
    "Nous allons introduire les variables pour un rectangle. \n",
    "Une variable permet de considérer un cas général. Nous donnons un nom à une quantité."
   ]
  },
  {
   "cell_type": "code",
   "execution_count": 12,
   "metadata": {},
   "outputs": [
    {
     "data": {
      "text/plain": [
       "12"
      ]
     },
     "execution_count": 12,
     "metadata": {},
     "output_type": "execute_result"
    }
   ],
   "source": [
    "a = 3\n",
    "b = 4\n",
    "a * b"
   ]
  },
  {
   "cell_type": "code",
   "execution_count": 13,
   "metadata": {},
   "outputs": [
    {
     "name": "stdout",
     "output_type": "stream",
     "text": [
      "a = 3\n",
      "b = 4\n"
     ]
    }
   ],
   "source": [
    "print('a =', a)\n",
    "print('b =', b)"
   ]
  },
  {
   "cell_type": "code",
   "execution_count": 14,
   "metadata": {},
   "outputs": [
    {
     "name": "stdout",
     "output_type": "stream",
     "text": [
      "surface = 12\n",
      "perimètre = 14\n"
     ]
    }
   ],
   "source": [
    "print('surface =', a * b)\n",
    "print('perimètre =', a + a + b + b)"
   ]
  },
  {
   "cell_type": "code",
   "execution_count": 15,
   "metadata": {},
   "outputs": [
    {
     "name": "stdout",
     "output_type": "stream",
     "text": [
      "diagonale = 5.0\n"
     ]
    }
   ],
   "source": [
    "d = (a**2 + b**2)**0.5\n",
    "print('diagonale =', d)"
   ]
  },
  {
   "cell_type": "markdown",
   "metadata": {},
   "source": [
    "## Chaînes"
   ]
  },
  {
   "cell_type": "code",
   "execution_count": 16,
   "metadata": {},
   "outputs": [],
   "source": [
    "s = 'Python'"
   ]
  },
  {
   "cell_type": "code",
   "execution_count": 17,
   "metadata": {},
   "outputs": [
    {
     "data": {
      "text/plain": [
       "6"
      ]
     },
     "execution_count": 17,
     "metadata": {},
     "output_type": "execute_result"
    }
   ],
   "source": [
    "len(s)"
   ]
  },
  {
   "cell_type": "markdown",
   "metadata": {},
   "source": [
    "Indexes simples"
   ]
  },
  {
   "cell_type": "code",
   "execution_count": 23,
   "metadata": {},
   "outputs": [
    {
     "data": {
      "text/plain": [
       "('P', 'y', 'n')"
      ]
     },
     "execution_count": 23,
     "metadata": {},
     "output_type": "execute_result"
    }
   ],
   "source": [
    "s[0], s[1], s[5]\n"
   ]
  },
  {
   "cell_type": "markdown",
   "metadata": {},
   "source": [
    "Indexes à partir de la fin de chaine."
   ]
  },
  {
   "cell_type": "code",
   "execution_count": 25,
   "metadata": {},
   "outputs": [
    {
     "data": {
      "text/plain": [
       "('n', 'o', 'y')"
      ]
     },
     "execution_count": 25,
     "metadata": {},
     "output_type": "execute_result"
    }
   ],
   "source": [
    "s[-1], s[-2], s[-5]\n"
   ]
  },
  {
   "cell_type": "markdown",
   "metadata": {},
   "source": [
    "Une tranche est un sous-ensemble d'une chaine indiqué par un indice de la forme `[n:m]`"
   ]
  },
  {
   "cell_type": "code",
   "execution_count": null,
   "metadata": {},
   "outputs": [],
   "source": [
    "s[:2], s[2:4], s[4:]"
   ]
  },
  {
   "cell_type": "markdown",
   "metadata": {},
   "source": [
    "Contrairement à une liste, une chaine est immuable.  \n",
    "Essayer de réaffecter une lettre, donne une erreur.\n",
    "\n",
    "    s[0] = 'J'\n",
    "    TypeError: 'str' object does not support item assignment\n",
    "    \n",
    "Par contre c'est possible de créer une nouvelle chaine.  \n",
    "Nous pouvons concaténer une lettre et une tranche d'une chaine existante, pour en former une nouvelle chaine."
   ]
  },
  {
   "cell_type": "code",
   "execution_count": 28,
   "metadata": {},
   "outputs": [
    {
     "data": {
      "text/plain": [
       "'Jython'"
      ]
     },
     "execution_count": 28,
     "metadata": {},
     "output_type": "execute_result"
    }
   ],
   "source": [
    "'J' + s[1:]"
   ]
  },
  {
   "cell_type": "markdown",
   "metadata": {},
   "source": [
    "## Listes"
   ]
  },
  {
   "cell_type": "code",
   "execution_count": 29,
   "metadata": {},
   "outputs": [],
   "source": [
    "a = [1, 2, 3, 5, 7]"
   ]
  },
  {
   "cell_type": "code",
   "execution_count": 30,
   "metadata": {},
   "outputs": [
    {
     "data": {
      "text/plain": [
       "2"
      ]
     },
     "execution_count": 30,
     "metadata": {},
     "output_type": "execute_result"
    }
   ],
   "source": [
    "a[1]"
   ]
  },
  {
   "cell_type": "markdown",
   "metadata": {},
   "source": [
    "Les tranches pour une chaine"
   ]
  },
  {
   "cell_type": "code",
   "execution_count": 32,
   "metadata": {},
   "outputs": [
    {
     "data": {
      "text/plain": [
       "('ab', 'cd', 'ghi')"
      ]
     },
     "execution_count": 32,
     "metadata": {},
     "output_type": "execute_result"
    }
   ],
   "source": [
    "s = 'abcdefghi'\n",
    "s[:2], s[2:4], s[6:]"
   ]
  },
  {
   "cell_type": "code",
   "execution_count": 34,
   "metadata": {},
   "outputs": [
    {
     "data": {
      "text/plain": [
       "([0, 1], [2, 3], [6, 7, 8])"
      ]
     },
     "execution_count": 34,
     "metadata": {},
     "output_type": "execute_result"
    }
   ],
   "source": [
    "s = list(range(9))\n",
    "s[:2], s[2:4], s[6:]"
   ]
  },
  {
   "cell_type": "code",
   "execution_count": 36,
   "metadata": {},
   "outputs": [
    {
     "data": {
      "text/plain": [
       "[[1, 2, 3, 5, 7], 4, [0, 1, 2, 3, 4, 5, 6, 7, 8]]"
      ]
     },
     "execution_count": 36,
     "metadata": {},
     "output_type": "execute_result"
    }
   ],
   "source": [
    "[a, b, s]"
   ]
  },
  {
   "cell_type": "code",
   "execution_count": 37,
   "metadata": {},
   "outputs": [
    {
     "name": "stdout",
     "output_type": "stream",
     "text": [
      "0 plus petit que 4\n",
      "1 plus petit que 4\n",
      "2 plus petit que 4\n",
      "3 plus petit que 4\n",
      "4 égal à 4\n",
      "5 plus grand que 4\n",
      "6 plus grand que 4\n",
      "7 plus grand que 4\n",
      "8 plus grand que 4\n"
     ]
    }
   ],
   "source": [
    "for i in range(9):\n",
    "    if i > 4:\n",
    "        print(i, 'plus grand que 4')\n",
    "    elif i < 4:\n",
    "        print(i, 'plus petit que 4')\n",
    "    else:\n",
    "        print(i, 'égal à 4')"
   ]
  },
  {
   "cell_type": "markdown",
   "metadata": {},
   "source": [
    "## Boucles\n",
    "Une boucle permet de répéter des instructions.\n",
    "Par exemple le code ci-dessous répète l'instruction `print()` 3 fois."
   ]
  },
  {
   "cell_type": "code",
   "execution_count": 38,
   "metadata": {},
   "outputs": [
    {
     "name": "stdout",
     "output_type": "stream",
     "text": [
      "hello\n",
      "hello\n",
      "hello\n"
     ]
    }
   ],
   "source": [
    "for i in range(3):\n",
    "    print('hello')"
   ]
  },
  {
   "cell_type": "markdown",
   "metadata": {},
   "source": [
    "Pour répéter 5 fois, nous écrivons `range(5)`.  \n",
    "La variable `i` est un compteur de boucle et parcours les itérations, à partir de 0."
   ]
  },
  {
   "cell_type": "code",
   "execution_count": 39,
   "metadata": {},
   "outputs": [
    {
     "name": "stdout",
     "output_type": "stream",
     "text": [
      "0\n",
      "1\n",
      "2\n",
      "3\n",
      "4\n"
     ]
    }
   ],
   "source": [
    "for i in range(5):\n",
    "    print(i)"
   ]
  },
  {
   "cell_type": "markdown",
   "metadata": {},
   "source": [
    " Nous pouvons aussi répéter un calcul. Par exemple une addition."
   ]
  },
  {
   "cell_type": "code",
   "execution_count": 40,
   "metadata": {},
   "outputs": [
    {
     "name": "stdout",
     "output_type": "stream",
     "text": [
      "3\n",
      "4\n",
      "5\n",
      "6\n",
      "7\n"
     ]
    }
   ],
   "source": [
    "for i in range(5):\n",
    "    print(i + 3)"
   ]
  },
  {
   "cell_type": "markdown",
   "metadata": {},
   "source": [
    "Dans les arguments de la fonction `print()` nous pouvons mélanger\n",
    "- variables\n",
    "- chaines de texte\n",
    "- expressions"
   ]
  },
  {
   "cell_type": "code",
   "execution_count": 43,
   "metadata": {},
   "outputs": [
    {
     "name": "stdout",
     "output_type": "stream",
     "text": [
      "0 + 3 = 3\n",
      "1 + 3 = 4\n",
      "2 + 3 = 5\n"
     ]
    }
   ],
   "source": [
    "for i in range(3):\n",
    "    print(i, '+ 3 =', i + 3)"
   ]
  },
  {
   "cell_type": "markdown",
   "metadata": {},
   "source": [
    "Quel est le code pour produire ceci ?"
   ]
  },
  {
   "cell_type": "markdown",
   "metadata": {},
   "source": [
    "Quel est le code pour produire ceci ?"
   ]
  },
  {
   "cell_type": "code",
   "execution_count": null,
   "metadata": {},
   "outputs": [],
   "source": []
  }
 ],
 "metadata": {
  "kernelspec": {
   "display_name": "Python 3",
   "language": "python",
   "name": "python3"
  },
  "language_info": {
   "codemirror_mode": {
    "name": "ipython",
    "version": 3
   },
   "file_extension": ".py",
   "mimetype": "text/x-python",
   "name": "python",
   "nbconvert_exporter": "python",
   "pygments_lexer": "ipython3",
   "version": "3.7.4"
  }
 },
 "nbformat": 4,
 "nbformat_minor": 4
}
