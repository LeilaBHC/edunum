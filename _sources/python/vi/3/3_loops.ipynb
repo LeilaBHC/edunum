{
 "cells": [
  {
   "cell_type": "markdown",
   "metadata": {},
   "source": [
    "# Listes et boucles\n",
    "\n",
    "## Objectifs\n",
    "\n",
    "- Listes\n",
    "- Boucles `for` et `wile`\n",
    "- Opérateurs booléens `and`, `or` et `not`\n",
    "- Révision des fonctions `print()` et `input()`\n",
    "- Révision des tests conditionnels `if`, `elif` et `else`\n",
    "- Test formatif"
   ]
  },
  {
   "cell_type": "markdown",
   "metadata": {},
   "source": [
    "## Listes\n",
    "\n",
    "Une liste est une seéquence plusieurs valeurs (nombres, texte, booléen, etc.).  \n",
    "On la déclare avec des crochets `[ ]` et on sépare chaque élément par une virgule `,`.\n",
    "\n",
    "Ceci est une liste avec 3 éléments:"
   ]
  },
  {
   "cell_type": "code",
   "execution_count": 2,
   "metadata": {},
   "outputs": [
    {
     "data": {
      "text/plain": [
       "[123, 'hello', True]"
      ]
     },
     "execution_count": 2,
     "metadata": {},
     "output_type": "execute_result"
    }
   ],
   "source": [
    "[123, 'hello', True]"
   ]
  },
  {
   "cell_type": "markdown",
   "metadata": {},
   "source": [
    "Voici une autre liste avec des arbres."
   ]
  },
  {
   "cell_type": "code",
   "execution_count": 1,
   "metadata": {
    "collapsed": false,
    "jupyter": {
     "outputs_hidden": false
    }
   },
   "outputs": [
    {
     "name": "stdout",
     "output_type": "stream",
     "text": [
      "['sapin', 'cedre', 'meleze', 'bouleau']\n"
     ]
    }
   ],
   "source": [
    "arbres = ['sapin', 'cedre', 'meleze', 'bouleau']\n",
    "print(arbres)"
   ]
  },
  {
   "cell_type": "markdown",
   "metadata": {},
   "source": [
    "Chaque élément de la liste a un index (le premier est toujours 0, puis 1, puis 2, etc..)"
   ]
  },
  {
   "cell_type": "code",
   "execution_count": 5,
   "metadata": {
    "collapsed": false,
    "jupyter": {
     "outputs_hidden": false
    }
   },
   "outputs": [
    {
     "name": "stdout",
     "output_type": "stream",
     "text": [
      "sapin\n"
     ]
    }
   ],
   "source": [
    "print(arbres[0])"
   ]
  },
  {
   "cell_type": "code",
   "execution_count": 6,
   "metadata": {
    "collapsed": false,
    "jupyter": {
     "outputs_hidden": false
    }
   },
   "outputs": [
    {
     "name": "stdout",
     "output_type": "stream",
     "text": [
      "bouleau\n"
     ]
    }
   ],
   "source": [
    "print(arbres[3])"
   ]
  },
  {
   "cell_type": "markdown",
   "metadata": {},
   "source": [
    "## Les boucles\n",
    "\n",
    "Une **boucle** permet de répéter une parti du code (un bloc) multiple fois.\n",
    "\n",
    "Il existe deux types de boucles :\n",
    "\n",
    "* la boucle `for` répète un bloc **pour chaque élément** d'un ensemble\n",
    "* la boucle `while` répète un bloc **tant qu'une condition** est vrai"
   ]
  },
  {
   "cell_type": "markdown",
   "metadata": {},
   "source": [
    "### Boucle for\n",
    "\n",
    "Elle a toujours la même structure :\n",
    "\n",
    "1. Commence par le mot-clef `for`\n",
    "2. Puis le nom d'un itérateur (une variable)\n",
    "3. Puis le mot-clef `in`\n",
    "4. Puis un objet itérable (une chaîne de caractères, une liste, un tuple ou la fonction `range()` )\n",
    "5. Et termine par deux points `:`\n",
    "6. Attention à l'indentation du bloc ensuite !!"
   ]
  },
  {
   "cell_type": "markdown",
   "metadata": {},
   "source": [
    "Voici une itération sur la liste `arbre` qui contients des textes."
   ]
  },
  {
   "cell_type": "code",
   "execution_count": 8,
   "metadata": {
    "collapsed": false,
    "jupyter": {
     "outputs_hidden": false
    }
   },
   "outputs": [
    {
     "name": "stdout",
     "output_type": "stream",
     "text": [
      "sapin\n",
      "cedre\n",
      "meleze\n",
      "bouleau\n"
     ]
    }
   ],
   "source": [
    "for arbre in arbres:\n",
    "    print(arbre)"
   ]
  },
  {
   "cell_type": "markdown",
   "metadata": {},
   "source": [
    "Voici une itération sur une plage de nombres."
   ]
  },
  {
   "cell_type": "code",
   "execution_count": 3,
   "metadata": {
    "collapsed": false,
    "jupyter": {
     "outputs_hidden": false
    }
   },
   "outputs": [
    {
     "name": "stdout",
     "output_type": "stream",
     "text": [
      "0\n",
      "1\n",
      "2\n"
     ]
    }
   ],
   "source": [
    "for i in range(3):\n",
    "    print(i)"
   ]
  },
  {
   "cell_type": "markdown",
   "metadata": {},
   "source": [
    "Voici une itération sur une liste de nombres."
   ]
  },
  {
   "cell_type": "code",
   "execution_count": 9,
   "metadata": {
    "collapsed": false,
    "jupyter": {
     "outputs_hidden": false
    }
   },
   "outputs": [
    {
     "name": "stdout",
     "output_type": "stream",
     "text": [
      "1\n",
      "3\n",
      "5\n",
      "7\n",
      "9\n",
      "11\n"
     ]
    }
   ],
   "source": [
    "l = [1, 3, 5, 7, 9, 11]\n",
    "for i in l:\n",
    "    print(i)"
   ]
  },
  {
   "cell_type": "markdown",
   "metadata": {},
   "source": [
    "### Boucle while\n",
    "\n",
    "La boucle `while` répète un bloc aussi longtemps qu'une **condition** de test est vrai.\n",
    "\n",
    "![Schema de la boucle while](https://cdn.javascripttutorial.net/wp-content/uploads/2016/08/JavaScript-while-loop.png)\n",
    "\n",
    "[crédit image](https://www.javascripttutorial.net/javascript-while-loop/)\n",
    "\n",
    "Une boucle respecte toujours une même structure :\n",
    "\n",
    "1. Mot-clef `while`\n",
    "2. Suivi d'une condition (résultat de cette condition est `True` ou `False`)\n",
    "3. Un deux-points `:`\n",
    "4. Bloc d'instructions (qui doit êtr)"
   ]
  },
  {
   "cell_type": "code",
   "execution_count": 6,
   "metadata": {
    "collapsed": false,
    "jupyter": {
     "outputs_hidden": false
    }
   },
   "outputs": [
    {
     "name": "stdout",
     "output_type": "stream",
     "text": [
      "1\n",
      "2\n",
      "3\n",
      "4\n"
     ]
    }
   ],
   "source": [
    "n = 1\n",
    "while n < 5:\n",
    "    print(n)\n",
    "    n = n + 1"
   ]
  },
  {
   "cell_type": "code",
   "execution_count": null,
   "metadata": {},
   "outputs": [],
   "source": []
  }
 ],
 "metadata": {
  "kernelspec": {
   "display_name": "Python 3",
   "language": "python",
   "name": "python3"
  },
  "language_info": {
   "codemirror_mode": {
    "name": "ipython",
    "version": 3
   },
   "file_extension": ".py",
   "mimetype": "text/x-python",
   "name": "python",
   "nbconvert_exporter": "python",
   "pygments_lexer": "ipython3",
   "version": "3.7.4"
  }
 },
 "nbformat": 4,
 "nbformat_minor": 4
}
