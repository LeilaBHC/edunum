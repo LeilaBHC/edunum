{
 "cells": [
  {
   "cell_type": "markdown",
   "id": "north-negative",
   "metadata": {},
   "source": [
    "# Texte (string)\n",
    "\n",
    "Un texte est une chaine de caractères.\n",
    "\n",
    "![typewriter](https://media.giphy.com/media/3o84sqlBujhGoXvTyM/giphy-downsized.gif)\n",
    "\n",
    "Le texte standard (ASCII code) consiste de\n",
    "- 26 lettres minuscules (`a-z`)\n",
    "- 26 lettres majuscules (`A-Z`)\n",
    "- 10 chiffres (`0-9`)\n",
    "- symboles de ponctuation (`.,;:?!`)\n",
    "- délimiteurs (`(){}[]<>\"'`)\n",
    "- symboles spéciaux (`$%&/`)\n",
    "- opérateurs (`+-*/`)"
   ]
  },
  {
   "cell_type": "markdown",
   "id": "south-pierre",
   "metadata": {},
   "source": [
    "## Concepts\n",
    "\n",
    "Les concepts présentés dans ce chapitre sont\n",
    "\n",
    "- création de string `s = 'hello'`\n",
    "- délimitation par un guillemet simple `'` ou double `\"`\n",
    "- caractère d'échappement `\\`\n",
    "\n",
    "Les indexages\n",
    "- index simple `s[i]` pour accéder à une seule lettre\n",
    "- tranche `s[m:n]` pour accèder à une sous-chaine\n",
    "- tranche `s[::i]` avec incrément (2) et chaine inversée (-1)\n",
    "\n",
    "Les fonctions\n",
    "- `len()` pour retourner la longeur\n",
    "- `str()` pour transformer nombre en chaine\n",
    "- `int()` pour transformer chaine en nombre\n",
    "\n",
    "Les opérateurs\n",
    "- `+` de concaténation\n",
    "- `*` de répétition "
   ]
  },
  {
   "cell_type": "markdown",
   "id": "divided-smart",
   "metadata": {},
   "source": [
    "## Délimitation\n",
    "\n",
    "Une chaine de caractères est délimitée par des guillemets anglais simples `'`."
   ]
  },
  {
   "cell_type": "code",
   "execution_count": 1,
   "id": "wrong-preparation",
   "metadata": {},
   "outputs": [
    {
     "data": {
      "text/plain": [
       "'hello'"
      ]
     },
     "execution_count": 1,
     "metadata": {},
     "output_type": "execute_result"
    }
   ],
   "source": [
    "'hello'"
   ]
  },
  {
   "cell_type": "markdown",
   "id": "copyrighted-flash",
   "metadata": {},
   "source": [
    "ou des guillemets anglais doubles  `\"`.  \n",
    "**Attention**: il ne faut pas confondre le guillemet double `\"` (1 caractère) avec deux guillemets simples `''` (2 caractères)."
   ]
  },
  {
   "cell_type": "code",
   "execution_count": 2,
   "id": "expensive-duration",
   "metadata": {},
   "outputs": [
    {
     "data": {
      "text/plain": [
       "'world'"
      ]
     },
     "execution_count": 2,
     "metadata": {},
     "output_type": "execute_result"
    }
   ],
   "source": [
    "\"world\""
   ]
  },
  {
   "cell_type": "markdown",
   "id": "heavy-glenn",
   "metadata": {},
   "source": [
    "Si le texte contient déjà un guillemet simple (apostrophe), on entoure le texte avec des guillemets doubles."
   ]
  },
  {
   "cell_type": "code",
   "execution_count": 3,
   "id": "optimum-reader",
   "metadata": {},
   "outputs": [
    {
     "data": {
      "text/plain": [
       "\"c'est bien\""
      ]
     },
     "execution_count": 3,
     "metadata": {},
     "output_type": "execute_result"
    }
   ],
   "source": [
    "\"c'est bien\""
   ]
  },
  {
   "cell_type": "markdown",
   "id": "beautiful-engineer",
   "metadata": {},
   "source": [
    "Si une chaine contient les deux sortes de guillemets, on les précède avec une barre oblique inverse `\\` (backslash) qui est le caractère d'échappement."
   ]
  },
  {
   "cell_type": "code",
   "execution_count": 35,
   "id": "missing-algorithm",
   "metadata": {},
   "outputs": [
    {
     "name": "stdout",
     "output_type": "stream",
     "text": [
      "c'est \"très\" bien\n"
     ]
    }
   ],
   "source": [
    "s = 'c\\'est \"très\" bien'\n",
    "print(s)"
   ]
  },
  {
   "cell_type": "markdown",
   "id": "raising-invite",
   "metadata": {},
   "source": [
    "## Longueur\n",
    "\n",
    "Une chaine s'appelle **string** en anglais.  \n",
    "C'est pour cela que nous utilisons souvent ``s`` comme variable pour désigner une chaine.  \n",
    "Par exemple:"
   ]
  },
  {
   "cell_type": "code",
   "execution_count": 5,
   "id": "changed-antique",
   "metadata": {},
   "outputs": [],
   "source": [
    "s = 'Python'"
   ]
  },
  {
   "cell_type": "markdown",
   "id": "rolled-inside",
   "metadata": {},
   "source": [
    "La fonction `len()` retourne la longueur de la chaine."
   ]
  },
  {
   "cell_type": "code",
   "execution_count": 6,
   "id": "educated-solid",
   "metadata": {},
   "outputs": [
    {
     "data": {
      "text/plain": [
       "6"
      ]
     },
     "execution_count": 6,
     "metadata": {},
     "output_type": "execute_result"
    }
   ],
   "source": [
    "len(s)"
   ]
  },
  {
   "cell_type": "markdown",
   "id": "efficient-visiting",
   "metadata": {},
   "source": [
    "## Index\n",
    "Chaque caractère d'une chaine peux être accédé par son index.  \n",
    "Un index est un nombre entier, commençant avec 0 pour le premier caractère.\n",
    "\n",
    "Voici la première et deuxième lettre du texte `s`"
   ]
  },
  {
   "cell_type": "code",
   "execution_count": 7,
   "id": "complicated-invention",
   "metadata": {},
   "outputs": [
    {
     "data": {
      "text/plain": [
       "('P', 'y')"
      ]
     },
     "execution_count": 7,
     "metadata": {},
     "output_type": "execute_result"
    }
   ],
   "source": [
    "s[0], s[1]"
   ]
  },
  {
   "cell_type": "markdown",
   "id": "rubber-grocery",
   "metadata": {},
   "source": [
    "Un index négatif permet d'accéder à une chaine dépuis sa fin.\n",
    "Voici la dernière et avant-dernière lettre du string `s`."
   ]
  },
  {
   "cell_type": "code",
   "execution_count": 8,
   "id": "warming-sample",
   "metadata": {},
   "outputs": [
    {
     "data": {
      "text/plain": [
       "('n', 'o')"
      ]
     },
     "execution_count": 8,
     "metadata": {},
     "output_type": "execute_result"
    }
   ],
   "source": [
    "s[-1], s[-2]"
   ]
  },
  {
   "cell_type": "markdown",
   "id": "honey-carpet",
   "metadata": {},
   "source": [
    "## Tranche\n",
    "Une tranche est un sous-ensemble d'une chaine indiqué par un double indice de la forme `[m:n]`.  \n",
    "Elle retourne la sous-chaine avec les lettres qui ont un indice m à n-1.\n",
    "\n",
    "Voici la sous-chaine avec les indices 0, 1, et 2."
   ]
  },
  {
   "cell_type": "code",
   "execution_count": 9,
   "id": "african-polymer",
   "metadata": {},
   "outputs": [
    {
     "data": {
      "text/plain": [
       "'Pyt'"
      ]
     },
     "execution_count": 9,
     "metadata": {},
     "output_type": "execute_result"
    }
   ],
   "source": [
    "s[:3]"
   ]
  },
  {
   "cell_type": "markdown",
   "id": "floppy-picnic",
   "metadata": {},
   "source": [
    "Voici la sous-chaine avec les indices 2 et 3."
   ]
  },
  {
   "cell_type": "code",
   "execution_count": 10,
   "id": "eligible-backing",
   "metadata": {},
   "outputs": [
    {
     "data": {
      "text/plain": [
       "'th'"
      ]
     },
     "execution_count": 10,
     "metadata": {},
     "output_type": "execute_result"
    }
   ],
   "source": [
    "s[2:4]"
   ]
  },
  {
   "cell_type": "markdown",
   "id": "powered-replica",
   "metadata": {},
   "source": [
    "Voici la sous-chaine avec les indices 3, 4 et 5."
   ]
  },
  {
   "cell_type": "code",
   "execution_count": 11,
   "id": "worldwide-index",
   "metadata": {},
   "outputs": [
    {
     "data": {
      "text/plain": [
       "'hon'"
      ]
     },
     "execution_count": 11,
     "metadata": {},
     "output_type": "execute_result"
    }
   ],
   "source": [
    "s[3:]"
   ]
  },
  {
   "cell_type": "markdown",
   "id": "explicit-credits",
   "metadata": {},
   "source": [
    "Un troisième paramètre peut donner l'**incrément**.  \n",
    "Voici la chaine avec les lettres 0, 2, et 4 (à cause de l'incrément 2)."
   ]
  },
  {
   "cell_type": "code",
   "execution_count": 12,
   "id": "collected-comparative",
   "metadata": {},
   "outputs": [
    {
     "data": {
      "text/plain": [
       "'Pto'"
      ]
     },
     "execution_count": 12,
     "metadata": {},
     "output_type": "execute_result"
    }
   ],
   "source": [
    "s[::2]"
   ]
  },
  {
   "cell_type": "markdown",
   "id": "portable-halloween",
   "metadata": {},
   "source": [
    "Un incrément négatif (-1) **inverse** la chaine."
   ]
  },
  {
   "cell_type": "code",
   "execution_count": 13,
   "id": "subtle-microwave",
   "metadata": {},
   "outputs": [
    {
     "data": {
      "text/plain": [
       "'nohtyP'"
      ]
     },
     "execution_count": 13,
     "metadata": {},
     "output_type": "execute_result"
    }
   ],
   "source": [
    "s[::-1]"
   ]
  },
  {
   "cell_type": "markdown",
   "id": "apart-james",
   "metadata": {},
   "source": [
    "## Une chaine est immuable\n",
    "\n",
    "Contrairement à une liste, une chaine est **immuable**.  \n",
    "Essayer de réaffecter une lettre, donne une erreur.\n",
    "\n",
    "    s[0] = 'J'\n",
    "    TypeError: 'str' object does not support item assignment\n",
    "    \n",
    "Par contre c'est possible de créer une nouvelle chaine.  \n",
    "Nous pouvons concaténer une lettre et une tranche d'une chaine existante, pour en former une nouvelle chaine."
   ]
  },
  {
   "cell_type": "code",
   "execution_count": 14,
   "id": "useful-hospital",
   "metadata": {},
   "outputs": [
    {
     "data": {
      "text/plain": [
       "'Jython'"
      ]
     },
     "execution_count": 14,
     "metadata": {},
     "output_type": "execute_result"
    }
   ],
   "source": [
    "'J' + s[1:]"
   ]
  },
  {
   "cell_type": "markdown",
   "id": "fleet-credits",
   "metadata": {},
   "source": [
    "## Opérateur de concaténation\n",
    "\n",
    "L'opératieur `+` permet de concatener (enchainer) deux textes."
   ]
  },
  {
   "cell_type": "code",
   "execution_count": 15,
   "id": "primary-shoulder",
   "metadata": {},
   "outputs": [],
   "source": [
    "a = 'hello'\n",
    "b = 'world'"
   ]
  },
  {
   "cell_type": "markdown",
   "id": "coordinated-vaccine",
   "metadata": {},
   "source": [
    "La concatenation donne"
   ]
  },
  {
   "cell_type": "code",
   "execution_count": 16,
   "id": "answering-jumping",
   "metadata": {},
   "outputs": [
    {
     "data": {
      "text/plain": [
       "'helloworld'"
      ]
     },
     "execution_count": 16,
     "metadata": {},
     "output_type": "execute_result"
    }
   ],
   "source": [
    "a + b"
   ]
  },
  {
   "cell_type": "markdown",
   "id": "atomic-scanning",
   "metadata": {},
   "source": [
    "Nous pouvons ajouter une espace au milieu."
   ]
  },
  {
   "cell_type": "code",
   "execution_count": 17,
   "id": "compatible-athens",
   "metadata": {},
   "outputs": [
    {
     "data": {
      "text/plain": [
       "'hello world'"
      ]
     },
     "execution_count": 17,
     "metadata": {},
     "output_type": "execute_result"
    }
   ],
   "source": [
    "a + ' ' + b"
   ]
  },
  {
   "cell_type": "markdown",
   "id": "insured-madness",
   "metadata": {},
   "source": [
    "Nous pouvons ajouter un retour à la ligne (`\\n`) au milieu."
   ]
  },
  {
   "cell_type": "code",
   "execution_count": 18,
   "id": "immediate-departure",
   "metadata": {},
   "outputs": [
    {
     "name": "stdout",
     "output_type": "stream",
     "text": [
      "hello\n",
      "world\n"
     ]
    }
   ],
   "source": [
    "print(a + '\\n' + b)"
   ]
  },
  {
   "cell_type": "markdown",
   "id": "certified-grave",
   "metadata": {},
   "source": [
    "## Opérateur de répétition\n",
    "\n",
    "L'opératieur `*` permet de répéter un texte."
   ]
  },
  {
   "cell_type": "code",
   "execution_count": 19,
   "id": "green-hayes",
   "metadata": {},
   "outputs": [
    {
     "data": {
      "text/plain": [
       "'hihihihihihihihihihihihihihihihihihihihi'"
      ]
     },
     "execution_count": 19,
     "metadata": {},
     "output_type": "execute_result"
    }
   ],
   "source": [
    "'hi' * 20"
   ]
  },
  {
   "cell_type": "code",
   "execution_count": 20,
   "id": "infectious-theorem",
   "metadata": {},
   "outputs": [
    {
     "data": {
      "text/plain": [
       "'hellohellohellohellohello'"
      ]
     },
     "execution_count": 20,
     "metadata": {},
     "output_type": "execute_result"
    }
   ],
   "source": [
    "a * 5"
   ]
  },
  {
   "cell_type": "markdown",
   "id": "grand-customs",
   "metadata": {},
   "source": [
    "Maintenant, l'opérateur `*` signifie la multiplication"
   ]
  },
  {
   "cell_type": "code",
   "execution_count": 21,
   "id": "pointed-clinton",
   "metadata": {},
   "outputs": [
    {
     "data": {
      "text/plain": [
       "144"
      ]
     },
     "execution_count": 21,
     "metadata": {},
     "output_type": "execute_result"
    }
   ],
   "source": [
    "12 * 12"
   ]
  },
  {
   "cell_type": "markdown",
   "id": "shaped-survey",
   "metadata": {},
   "source": [
    "Nous pouvons utiliser des parenthèses pour fixer la priorité."
   ]
  },
  {
   "cell_type": "code",
   "execution_count": 22,
   "id": "immediate-business",
   "metadata": {},
   "outputs": [
    {
     "data": {
      "text/plain": [
       "'hello hello hello hello hello '"
      ]
     },
     "execution_count": 22,
     "metadata": {},
     "output_type": "execute_result"
    }
   ],
   "source": [
    "(a + ' ') * 5"
   ]
  },
  {
   "cell_type": "markdown",
   "id": "introductory-native",
   "metadata": {},
   "source": [
    "## Un caractère d'échappement\n",
    "En informatique et en télécommunications, est un caractère qui déclenche une interprétation alternative du ou des caractères qui le suivent. En Python nous avons la **barre oblique inversée** comme caractère d'échappement.\n",
    "\n",
    "- `\\n` pour un retour à la ligne (=newline)\n",
    "- `\\t` pour un tabulateur\n",
    "- `\\\\` pour échapper le caractère d'échappement.\n",
    "\n",
    "Le tabulateur aligne un texte à des multiples de 8."
   ]
  },
  {
   "cell_type": "code",
   "execution_count": 23,
   "id": "architectural-spending",
   "metadata": {},
   "outputs": [
    {
     "name": "stdout",
     "output_type": "stream",
     "text": [
      "hello\tworld\n",
      "1\t2\n"
     ]
    }
   ],
   "source": [
    "print('hello\\tworld')\n",
    "print('1\\t2')"
   ]
  },
  {
   "cell_type": "markdown",
   "id": "adjacent-bleeding",
   "metadata": {},
   "source": [
    "Le `\\n` (newline) insère un retour à la ligne."
   ]
  },
  {
   "cell_type": "code",
   "execution_count": 24,
   "id": "compatible-summer",
   "metadata": {},
   "outputs": [
    {
     "name": "stdout",
     "output_type": "stream",
     "text": [
      "hello\n",
      "world\n"
     ]
    }
   ],
   "source": [
    "print('hello\\nworld')"
   ]
  },
  {
   "cell_type": "markdown",
   "id": "indie-discrimination",
   "metadata": {},
   "source": [
    "La première et troisième barre oblique sont échapés."
   ]
  },
  {
   "cell_type": "code",
   "execution_count": 25,
   "id": "divine-equity",
   "metadata": {},
   "outputs": [
    {
     "name": "stdout",
     "output_type": "stream",
     "text": [
      "tab=\\t \tnewline=\\n\n",
      "1\t2\n"
     ]
    }
   ],
   "source": [
    "print('tab=\\\\t \\tnewline=\\\\n\\n1\\t2')"
   ]
  },
  {
   "cell_type": "markdown",
   "id": "sharing-opera",
   "metadata": {},
   "source": [
    "## Unicode\n",
    "\n",
    "Le chaines de caractères utilisent Unicode. Ceci permet de créer des chaines dans toutes les langues du mondes.\n",
    "\n",
    "Voici une chaine en japonais avec une sous-tranche."
   ]
  },
  {
   "cell_type": "code",
   "execution_count": 26,
   "id": "behind-pencil",
   "metadata": {},
   "outputs": [
    {
     "data": {
      "text/plain": [
       "'日本語'"
      ]
     },
     "execution_count": 26,
     "metadata": {},
     "output_type": "execute_result"
    }
   ],
   "source": [
    "jap = 'これは日本語です'\n",
    "jap[3:6]"
   ]
  },
  {
   "cell_type": "markdown",
   "id": "timely-lottery",
   "metadata": {},
   "source": [
    "Voici une chaine qui utilise des emoji."
   ]
  },
  {
   "cell_type": "code",
   "execution_count": 27,
   "id": "generic-presence",
   "metadata": {},
   "outputs": [],
   "source": [
    "emoji = '🍏🍎🍐🍊🍋🍌🍉🍇🍓'"
   ]
  },
  {
   "cell_type": "markdown",
   "id": "accompanied-catholic",
   "metadata": {},
   "source": [
    "Voici deux emojis répétés 10 fois."
   ]
  },
  {
   "cell_type": "code",
   "execution_count": 28,
   "id": "general-monster",
   "metadata": {},
   "outputs": [
    {
     "data": {
      "text/plain": [
       "'🍎🍏🍎🍏🍎🍏🍎🍏🍎🍏🍎🍏🍎🍏🍎🍏🍎🍏🍎🍏'"
      ]
     },
     "execution_count": 28,
     "metadata": {},
     "output_type": "execute_result"
    }
   ],
   "source": [
    "'🍎🍏' * 10"
   ]
  },
  {
   "cell_type": "markdown",
   "id": "opening-preserve",
   "metadata": {},
   "source": [
    "## Type"
   ]
  },
  {
   "cell_type": "markdown",
   "id": "consistent-surgeon",
   "metadata": {},
   "source": [
    "La fonction `type` retourne le type d'un objet.  \n",
    "Pour une chaine c'est `str` (=string)."
   ]
  },
  {
   "cell_type": "code",
   "execution_count": 29,
   "id": "demographic-event",
   "metadata": {},
   "outputs": [
    {
     "data": {
      "text/plain": [
       "str"
      ]
     },
     "execution_count": 29,
     "metadata": {},
     "output_type": "execute_result"
    }
   ],
   "source": [
    "type('abc')"
   ]
  },
  {
   "cell_type": "markdown",
   "id": "european-identification",
   "metadata": {},
   "source": [
    "Voici trois autres types:\n",
    "- `int` (entier)\n",
    "- `float` (virgule fottante\n",
    "- `bool` (booléen)"
   ]
  },
  {
   "cell_type": "code",
   "execution_count": 30,
   "id": "continental-miniature",
   "metadata": {},
   "outputs": [
    {
     "data": {
      "text/plain": [
       "(int, float, bool)"
      ]
     },
     "execution_count": 30,
     "metadata": {},
     "output_type": "execute_result"
    }
   ],
   "source": [
    "type(1), type(1.2), type(True)"
   ]
  },
  {
   "cell_type": "markdown",
   "id": "entire-librarian",
   "metadata": {},
   "source": [
    "## Conversion"
   ]
  },
  {
   "cell_type": "markdown",
   "id": "knowing-while",
   "metadata": {},
   "source": [
    "Un nombre peut être présenté comme chaine.  \n",
    "L'opérateur `*` signifie alors la répétition."
   ]
  },
  {
   "cell_type": "code",
   "execution_count": 31,
   "id": "charitable-hayes",
   "metadata": {},
   "outputs": [
    {
     "data": {
      "text/plain": [
       "'121212121212121212121212'"
      ]
     },
     "execution_count": 31,
     "metadata": {},
     "output_type": "execute_result"
    }
   ],
   "source": [
    "'12' * 12"
   ]
  },
  {
   "cell_type": "markdown",
   "id": "threatened-reality",
   "metadata": {},
   "source": [
    "Maintenant, l'opérateur `*` signifie la multiplication"
   ]
  },
  {
   "cell_type": "code",
   "execution_count": 32,
   "id": "incoming-lewis",
   "metadata": {},
   "outputs": [
    {
     "data": {
      "text/plain": [
       "144"
      ]
     },
     "execution_count": 32,
     "metadata": {},
     "output_type": "execute_result"
    }
   ],
   "source": [
    "12 * 12"
   ]
  },
  {
   "cell_type": "markdown",
   "id": "chronic-nothing",
   "metadata": {},
   "source": [
    "La fonction `int()` transforme une chaine qui represente un entier en entier."
   ]
  },
  {
   "cell_type": "code",
   "execution_count": 33,
   "id": "increasing-chrome",
   "metadata": {},
   "outputs": [
    {
     "data": {
      "text/plain": [
       "12"
      ]
     },
     "execution_count": 33,
     "metadata": {},
     "output_type": "execute_result"
    }
   ],
   "source": [
    "int('12')"
   ]
  },
  {
   "cell_type": "markdown",
   "id": "outside-tyler",
   "metadata": {},
   "source": [
    "L'opérateur inverse `str()` transforme un nombre en string."
   ]
  },
  {
   "cell_type": "code",
   "execution_count": 34,
   "id": "grateful-mathematics",
   "metadata": {},
   "outputs": [
    {
     "data": {
      "text/plain": [
       "'123'"
      ]
     },
     "execution_count": 34,
     "metadata": {},
     "output_type": "execute_result"
    }
   ],
   "source": [
    "str(123)"
   ]
  },
  {
   "cell_type": "code",
   "execution_count": null,
   "id": "copyrighted-effectiveness",
   "metadata": {},
   "outputs": [],
   "source": []
  }
 ],
 "metadata": {
  "kernelspec": {
   "display_name": "Python 3",
   "language": "python",
   "name": "python3"
  },
  "language_info": {
   "codemirror_mode": {
    "name": "ipython",
    "version": 3
   },
   "file_extension": ".py",
   "mimetype": "text/x-python",
   "name": "python",
   "nbconvert_exporter": "python",
   "pygments_lexer": "ipython3",
   "version": "3.7.9"
  },
  "toc-autonumbering": false
 },
 "nbformat": 4,
 "nbformat_minor": 5
}
