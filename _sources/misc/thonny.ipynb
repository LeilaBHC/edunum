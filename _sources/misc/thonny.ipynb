{
 "cells": [
  {
   "cell_type": "markdown",
   "id": "vietnamese-flashing",
   "metadata": {},
   "source": [
    "# Thonny\n",
    "\n",
    "Thonny est un environnement de dévelopment pour Python. \n",
    "Il comporte un éditeur de script et une console. \n",
    "Il installe un environnement virtuel pour Python et permet d'y installer facilement des modules supplémentaires."
   ]
  },
  {
   "cell_type": "markdown",
   "id": "basic-customs",
   "metadata": {},
   "source": [
    "## Installation\n",
    "\n",
    "Il peut être téléchargé depuis [thonny.org](https://thonny.org)\n",
    "\n",
    "L'interface comporte:\n",
    "\n",
    "- des boutons (*Nouveau, Ouvrir, Sauvegarder, Executer*, etc.)\n",
    "- l'éditeur de script\n",
    "- la console\n",
    "\n",
    "![](thonny.png)"
   ]
  },
  {
   "cell_type": "markdown",
   "id": "dynamic-covering",
   "metadata": {},
   "source": [
    "## Installer des modules\n",
    "\n",
    "Pour installer des modules supplémentaires \n",
    "\n",
    "- choisissez le menu **Tools > Manage packages...**\n",
    "- cherchez le module (par example jupyterlab)\n",
    "- cliquez **Search on PyPi**\n",
    "- cliquez **Install**\n",
    "\n",
    "![](module.png)"
   ]
  },
  {
   "cell_type": "markdown",
   "id": "pediatric-sponsorship",
   "metadata": {},
   "source": [
    "## Lancer Jupyter Lab\n",
    "\n",
    "- installer le module jupyterlab\n",
    "- choisissez le menu **Tools > Open system shell…**\n",
    "- lancez la commande `jupyter lab`"
   ]
  },
  {
   "cell_type": "markdown",
   "id": "brilliant-filename",
   "metadata": {},
   "source": [
    "## Modules utiles\n",
    "\n",
    "- jupyterlab\n",
    "- jupyter-book\n",
    "- ghp-import\n",
    "- matplotlib\n",
    "- pygame"
   ]
  },
  {
   "cell_type": "markdown",
   "id": "grave-engagement",
   "metadata": {},
   "source": [
    "## Mis a jour de pip\n",
    "\n",
    "    pip install --upgrade pip"
   ]
  },
  {
   "cell_type": "markdown",
   "id": "surrounded-cameroon",
   "metadata": {},
   "source": [
    "## Matplotlib\n",
    "\n",
    "- installez le module **matplotlib**\n",
    "\n",
    "Exemple de programme:\n",
    "\n",
    "```python\n",
    "import matplotlib.pyplot as plt\n",
    "import numpy as np\n",
    "\n",
    "t = np.linspace(0, 4*np.pi, 100)\n",
    "plt.plot(t, np.sin(t), label='sin(t)')\n",
    "plt.plot(t, np.cos(t), label='cos(t)')\n",
    "plt.legend()\n",
    "plt.grid()\n",
    "\n",
    "plt.show()\n",
    "```\n",
    "\n",
    "![plot](plot.png)"
   ]
  },
  {
   "cell_type": "code",
   "execution_count": null,
   "id": "boxed-suite",
   "metadata": {},
   "outputs": [],
   "source": []
  }
 ],
 "metadata": {
  "kernelspec": {
   "display_name": "Python 3",
   "language": "python",
   "name": "python3"
  },
  "language_info": {
   "codemirror_mode": {
    "name": "ipython",
    "version": 3
   },
   "file_extension": ".py",
   "mimetype": "text/x-python",
   "name": "python",
   "nbconvert_exporter": "python",
   "pygments_lexer": "ipython3",
   "version": "3.7.9"
  }
 },
 "nbformat": 4,
 "nbformat_minor": 5
}
